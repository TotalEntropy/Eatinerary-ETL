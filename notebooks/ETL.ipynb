{
 "cells": [
  {
   "cell_type": "code",
   "execution_count": 1,
   "metadata": {
    "colab": {},
    "colab_type": "code",
    "id": "AUu7CT4B8nf-"
   },
   "outputs": [],
   "source": [
    "# Importing dependencies\n",
    "import os\n",
    "import pandas as pd\n",
    "from pandas.io.json import json_normalize\n",
    "import numpy as np\n",
    "import datetime as dt\n",
    "pd.set_option('display.max_columns', None)"
   ]
  },
  {
   "cell_type": "code",
   "execution_count": 2,
   "metadata": {
    "colab": {},
    "colab_type": "code",
    "id": "AUu7CT4B8nf-"
   },
   "outputs": [],
   "source": [
    "# Path to source JSON\n",
    "businessJson=os.path.join('sourceData', 'business.json')"
   ]
  },
  {
   "cell_type": "code",
   "execution_count": 3,
   "metadata": {
    "colab": {},
    "colab_type": "code",
    "id": "AUu7CT4B8nf-"
   },
   "outputs": [],
   "source": [
    "# Path to Yelp food/restaurant categories csv\n",
    "yelpCategories=os.path.join('sourceData', 'yelpCategories.csv')"
   ]
  },
  {
   "cell_type": "code",
   "execution_count": 4,
   "metadata": {},
   "outputs": [],
   "source": [
    "# Creating pd dataframe\n",
    "business_raw=pd.read_json(businessJson, lines=True)"
   ]
  },
  {
   "cell_type": "code",
   "execution_count": 5,
   "metadata": {
    "colab": {},
    "colab_type": "code",
    "id": "S4Hvn-gBXpaY"
   },
   "outputs": [],
   "source": [
    "# Select only the businesses in Ontario\n",
    "business_on=business_raw.loc[business_raw['state'] == 'ON']"
   ]
  },
  {
   "cell_type": "code",
   "execution_count": 6,
   "metadata": {
    "colab": {},
    "colab_type": "code",
    "id": "DodM3It9aKz7"
   },
   "outputs": [],
   "source": [
    "# Dropping any rows with blank values in these categories\n",
    "business_on=business_on.dropna(subset=['name', 'address', 'postal_code', 'city', 'state', 'latitude', 'longitude', 'attributes',\n",
    "                                               'categories', 'hours']).reset_index(drop=True)"
   ]
  },
  {
   "cell_type": "code",
   "execution_count": 7,
   "metadata": {
    "colab": {},
    "colab_type": "code",
    "id": "QuEHhPW8ewfY"
   },
   "outputs": [],
   "source": [
    "# Regex to fix spelling mistakes \n",
    "business_on.replace({'city': {'^AGINCOURT$': 'Agincourt',\n",
    "                           '^Bradford West Gwillimbury$': 'Bradford',\n",
    "                           '^East Ajax$': 'Ajax',\n",
    "                           '^Caledon.{,8}$': 'Caledon',\n",
    "                           '^East Gwil{1,2}imbury$': 'East Gwillimbury',\n",
    "                           '(?i)^.*icoke$': 'Etobicoke',\n",
    "                           '^.{,9}Toro?nto.{,9}$': 'Toronto',\n",
    "                           'Malton': 'Mississauga',\n",
    "                           '^.{,5}Missis{1,2}a?ua?g.{1,2}$': 'Mississauga',\n",
    "                           '^Regional Municipality of York$': 'North York',\n",
    "                           '(?i)^North.{0,2}York$': 'North York',\n",
    "                           '^York Regional Municipality$': 'York',\n",
    "                           '^Willowdale$': 'North York',\n",
    "                           '^North of Brampton$': 'Brampton',\n",
    "                           '(?i)^Oak.?ridges$': 'Oak Ridges',\n",
    "                           '^oakville$': 'Oakville',\n",
    "                           '(?i)^Richmond?.?Hill?$': 'Richmond Hill',\n",
    "                           '^.{,8}Scar.?bo?rough$': 'Scarborough',\n",
    "                           '^.{,11}Stouffville$': 'Stouffville',\n",
    "                           '(?i)^Thornhil{,2}$': 'Thornhill',\n",
    "                           '^.*Vaugh.{,3}$': 'Vaughan',\n",
    "                           '^Wh.?i.?by$': 'Whitby'}}, inplace=True, regex=True)"
   ]
  },
  {
   "cell_type": "code",
   "execution_count": 8,
   "metadata": {},
   "outputs": [],
   "source": [
    "business=business_on.loc[business_on['city'].isin(['Unionville', 'Bolton', 'York', 'Bradford', 'Concord', 'East York', 'Stouffville',\n",
    "                                                   'Woodbridge', 'Aurora', 'Ajax', 'Whitby', 'Pickering', 'Thornhill', 'Newmarket',\n",
    "                                                   'Oakville', 'Etobicoke', 'North York', 'Scarborough', 'Vaughan', 'Richmond Hill',\n",
    "                                                   'Brampton', 'Markham', 'Mississauga', 'Toronto'])].reset_index(drop=True)"
   ]
  },
  {
   "cell_type": "code",
   "execution_count": 9,
   "metadata": {},
   "outputs": [],
   "source": [
    "# Only taking these columns\n",
    "business=business.loc[:, ['name', 'address', 'postal_code', 'city', 'latitude', 'longitude','categories', 'stars', 'hours','attributes']]\n",
    "business.columns=['Name', 'Address', 'Postal_code', 'City', 'Latitude', 'Longitude', 'Categories', 'Stars', 'Hours', 'Attributes']"
   ]
  },
  {
   "cell_type": "code",
   "execution_count": 10,
   "metadata": {},
   "outputs": [],
   "source": [
    "# Turning the hours column in to a df\n",
    "hours_raw=json_normalize(data=business['Hours'])\n",
    "business.drop(columns='Hours', inplace=True)"
   ]
  },
  {
   "cell_type": "markdown",
   "metadata": {},
   "source": [
    "## Handling the hours column"
   ]
  },
  {
   "cell_type": "code",
   "execution_count": 11,
   "metadata": {},
   "outputs": [],
   "source": [
    "# Reorganise columns\n",
    "hours_raw=hours_raw.loc[:,['Monday', 'Tuesday', 'Wednesday', 'Thursday', 'Friday', 'Saturday', 'Sunday']]"
   ]
  },
  {
   "cell_type": "code",
   "execution_count": 12,
   "metadata": {},
   "outputs": [],
   "source": [
    "# Create a new df with opening and closing hours\n",
    "columnsHours=hours_raw.columns\n",
    "hours=hours_raw"
   ]
  },
  {
   "cell_type": "code",
   "execution_count": 13,
   "metadata": {},
   "outputs": [],
   "source": [
    "# Loop through and split the columns\n",
    "for column in columnsHours:\n",
    "    hours[[f\"{column}_open\", f\"{column}_close\"]]=hours_raw[column].str.split('-', expand=True)\n",
    "hours.drop(columns=columnsHours, inplace=True)\n",
    "hours=hours.apply(lambda x: x.str.strip())"
   ]
  },
  {
   "cell_type": "code",
   "execution_count": null,
   "metadata": {},
   "outputs": [],
   "source": []
  },
  {
   "cell_type": "code",
   "execution_count": 15,
   "metadata": {},
   "outputs": [],
   "source": [
    "# Add hours column to the original DF\n",
    "business=business.join(hours)"
   ]
  },
  {
   "cell_type": "markdown",
   "metadata": {},
   "source": [
    "## Handling the categories column"
   ]
  },
  {
   "cell_type": "code",
   "execution_count": 16,
   "metadata": {},
   "outputs": [],
   "source": [
    "# Turning the Categories column in to a df and adding restaurant id\n",
    "category = business['Categories'].str.split(',', expand=True)\n",
    "business.drop(columns='Categories', inplace=True)\n",
    "category['Restaurant_id']=business.index\n",
    "category=pd.melt(category, id_vars='Restaurant_id', value_name='Category').drop(columns='variable').sort_values('Restaurant_id')"
   ]
  },
  {
   "cell_type": "code",
   "execution_count": 17,
   "metadata": {},
   "outputs": [],
   "source": [
    "# Eliminating None categories\n",
    "category=category.loc[~category['Category'].isin([None])].reset_index(drop=True)\n",
    "category['Category'] = category['Category'].str.strip()"
   ]
  },
  {
   "cell_type": "code",
   "execution_count": 18,
   "metadata": {},
   "outputs": [],
   "source": [
    "# Read csv with list of yelp categories\n",
    "foodCategories=pd.read_csv(yelpCategories)\n",
    "foodCategories['Category'] = foodCategories['Category'].str.strip()"
   ]
  },
  {
   "cell_type": "code",
   "execution_count": 19,
   "metadata": {},
   "outputs": [],
   "source": [
    "# Take only the categories from the list of yelp categories\n",
    "categoryFiltered=pd.DataFrame(category.loc[category['Category'].isin(foodCategories['Category'])])"
   ]
  },
  {
   "cell_type": "code",
   "execution_count": 20,
   "metadata": {},
   "outputs": [],
   "source": [
    "# Filter out categories that don't apply\n",
    "categoryFiltered=categoryFiltered.loc[category['Category'].isin(['Acai Bowls', 'Afghan', 'African', 'Arabian', 'Argentine', 'Asian Fusion', 'Australian', 'Austrian', 'Bagels', 'Bangladeshi',\n",
    "                                                                   'Barbeque', 'Basque', 'Beer Bar', 'Beer Gardens', 'Beer Hall', 'Belgian', 'Bistros', 'Brasseries', 'Brazilian', 'Breakfast & Brunch',\n",
    "                                                                   'Brewpubs', 'British', 'Bubble Tea', 'Buffets', 'Burgers', 'Burmese', 'Cafes', 'Cajun/Creole', 'Cambodian', 'Cantonese', 'Caribbean',\n",
    "                                                                   'Champagne Bars', 'Cheese Shops', 'Cheesesteaks', 'Chicken Shop', 'Chicken Wings', 'Chinese', 'Chocolatiers & Shops',\n",
    "                                                                   'Cocktail Bars', 'Coffee & Tea', 'Colombian', 'Comfort Food', 'Creperies', 'Cuban', 'Cupcakes',\n",
    "                                                                   'Czech', 'Czech/Slovakian', 'Delicatessen', 'Delis', 'Desserts', 'Dim Sum', 'Diners', 'Dive Bars', 'Do-It-Yourself Food', 'Donairs',\n",
    "                                                                   'Egyptian', 'Ethical Grocery', 'Ethiopian', 'Falafel', 'Fast Food', 'Filipino', 'Fish & Chips', 'Fondue',\n",
    "                                                                   'Food Stands', 'Food Trucks', 'French', 'Fruits & Veggies', 'Gastropubs', 'Gelato', 'German', 'Gluten-Free', 'Greek', 'Hainan', 'Haitian',\n",
    "                                                                   'Hakka', 'Halal', 'Hawaiian', 'Himalayan/Nepalese', 'Hong Kong Style Cafe', 'Hot Dogs', 'Hot Pot', 'Hungarian', 'Iberian',\n",
    "                                                                   'Ice Cream & Frozen Yogurt', 'Imported Food', 'Indian', 'Indonesian', 'International', 'Internet Cafes', 'Irish', 'Irish Pub', 'Italian',\n",
    "                                                                   'Izakaya', 'Japanese', 'Japanese Sweets', 'Juice Bars & Smoothies', 'Kebab', 'Kombucha', 'Korean', 'Kosher', 'Laotian', 'Latin American',\n",
    "                                                                   'Lebanese', 'Live/Raw Food', 'Lounges', 'Macarons', 'Malaysian', 'Mauritius', 'Mediterranean', 'Mexican', 'Middle Eastern',\n",
    "                                                                   'Milkshake Bars', 'Minho', 'Modern European', 'Mongolian', 'Moroccan', 'Nicaraguan', 'Noodles', 'Pakistani', 'Pan Asian', 'Pasta Shops',\n",
    "                                                                   'Persian/Iranian', 'Peruvian', 'Pizza', 'Poke', 'Polish', 'Portuguese',\n",
    "                                                                   'Poutineries', 'Pubs', 'Ramen', 'Reunion', 'Russian', 'Salad', 'Salvadoran', 'Sandwiches', 'Scandinavian', 'Scottish', 'Seafood',\n",
    "                                                                   'Seafood Markets', 'Shanghainese', 'Shaved Ice', 'Shaved Snow', 'Singaporean', 'Slovakian', 'Smokehouse', 'Soul Food', 'Soup',\n",
    "                                                                   'South African', 'Southern', 'Spanish', 'Specialty Food', 'Sports Bars', 'Sri Lankan', 'Steakhouses', 'Street Vendors', 'Supper Clubs',\n",
    "                                                                   'Sushi Bars', 'Swiss Food', 'Syrian', 'Szechuan', 'Tacos', 'Taiwanese', 'Tapas Bars', 'Tapas/Small Plates', 'Tea Rooms', 'Tempura',\n",
    "                                                                   'Teppanyaki', 'Tex-Mex', 'Thai', 'Themed Cafes', 'Tiki Bars', 'Tonkatsu', 'Trinidadian', 'Turkish', 'Udon', 'Ukrainian', 'Vegan',\n",
    "                                                                   'Vegetarian', 'Venezuelan', 'Vietnamese', 'Waffles', 'Whiskey Bars', 'Wine Bars', 'Wraps'])]"
   ]
  },
  {
   "cell_type": "code",
   "execution_count": 21,
   "metadata": {},
   "outputs": [],
   "source": [
    "# Creating a list of unique food categories\n",
    "uniqueCategories=categoryFiltered['Category'].unique()\n",
    "uniqueCategories.sort()"
   ]
  },
  {
   "cell_type": "code",
   "execution_count": 22,
   "metadata": {},
   "outputs": [],
   "source": [
    "# Replace all the values in categoryFiltered with the uniqueCategories index\n",
    "for index, value in enumerate(uniqueCategories):\n",
    "    categoryFiltered['Category'].replace(value, str(index), inplace=True)"
   ]
  },
  {
   "cell_type": "code",
   "execution_count": 23,
   "metadata": {},
   "outputs": [],
   "source": [
    "# Collect all the categories to one string\n",
    "categoryPivot=categoryFiltered.pivot('Restaurant_id', 'Category', 'Category')\n",
    "categoryPivot['Categories']=categoryPivot.apply(lambda x: ','.join(x.dropna().values), axis=1)"
   ]
  },
  {
   "cell_type": "code",
   "execution_count": 24,
   "metadata": {},
   "outputs": [],
   "source": [
    "# Join categories column on business\n",
    "business=business.join(categoryPivot['Categories'], how='inner').reset_index(drop=True)\n",
    "business.rename(columns={'Categories':'Category_ids'}, inplace=True)"
   ]
  },
  {
   "cell_type": "code",
   "execution_count": 25,
   "metadata": {},
   "outputs": [],
   "source": [
    "# Create DF for sql\n",
    "uniqueCategories=pd.DataFrame(uniqueCategories, columns=['Category'])"
   ]
  },
  {
   "cell_type": "markdown",
   "metadata": {},
   "source": [
    "## Handling the attributes column"
   ]
  },
  {
   "cell_type": "code",
   "execution_count": 26,
   "metadata": {},
   "outputs": [],
   "source": [
    "# Turning the Attributes column in to a df and adding restaurant id\n",
    "attributesRaw=json_normalize(business['Attributes'])\n",
    "business.drop(columns='Attributes', inplace=True)\n",
    "attributes=attributesRaw.fillna('')\n",
    "attributes['Restaurant_id']=business.index"
   ]
  },
  {
   "cell_type": "code",
   "execution_count": 27,
   "metadata": {},
   "outputs": [],
   "source": [
    "# Generate unique categories for ambience \n",
    "ambienceCategories=attributesRaw['Ambience'].str.split(',', expand=True).replace(['{', '}', 'False', 'True', ':', \"'\", ' '], '', regex=True).melt().dropna().drop(columns='variable')\n",
    "ambienceCategories=ambienceCategories.loc[~ambienceCategories['value'].isin(['None'])]\n",
    "ambienceCategories=ambienceCategories['value'].unique().tolist()"
   ]
  },
  {
   "cell_type": "code",
   "execution_count": 28,
   "metadata": {},
   "outputs": [],
   "source": [
    "# Generating boolean columns for ambience\n",
    "for value in ambienceCategories:\n",
    "    attributes[f'Ambience_{value}']=attributes['Ambience'].str.contains(f\"{value}': True\")\n",
    "attributes.drop(columns='Ambience', inplace=True)"
   ]
  },
  {
   "cell_type": "code",
   "execution_count": 29,
   "metadata": {},
   "outputs": [],
   "source": [
    "# Generate unique categories for BusinessParking\n",
    "businessParking = attributesRaw['BusinessParking'].str.split(',', expand=True).replace(['{', '}', 'False', 'True', ':', \"'\", ' '], '', regex=True).melt().dropna().drop(columns='variable')\n",
    "businessParking=businessParking.loc[~businessParking['value'].isin(['None', ''])]\n",
    "businessParking=businessParking['value'].unique().tolist()"
   ]
  },
  {
   "cell_type": "code",
   "execution_count": 30,
   "metadata": {},
   "outputs": [],
   "source": [
    "# Generating boolean columns for BusinessParking\n",
    "for value in businessParking:\n",
    "    attributes[f'Parking_{value}']=attributes['BusinessParking'].str.contains(f\"{value}': True\")\n",
    "attributes.drop(columns='BusinessParking', inplace=True)"
   ]
  },
  {
   "cell_type": "code",
   "execution_count": 31,
   "metadata": {},
   "outputs": [],
   "source": [
    "# Generate unique categories for GoodForMeal\n",
    "goodForMeal = attributesRaw['GoodForMeal'].str.split(',', expand=True).replace(['{', '}', 'False', 'True', ':', \"'\", ' '], '', regex=True).melt().drop(columns='variable').dropna()\n",
    "goodForMeal=goodForMeal.loc[~goodForMeal['value'].isin(['None', ''])]\n",
    "goodForMeal=goodForMeal['value'].unique().tolist()"
   ]
  },
  {
   "cell_type": "code",
   "execution_count": 32,
   "metadata": {},
   "outputs": [],
   "source": [
    "# Generating boolean columns for GoodForMeal\n",
    "for value in goodForMeal:\n",
    "    attributes[f'Meal_{value}']=attributes['GoodForMeal'].str.contains(f\"{value}': True\")\n",
    "attributes.drop(columns='GoodForMeal', inplace=True)"
   ]
  },
  {
   "cell_type": "code",
   "execution_count": 33,
   "metadata": {},
   "outputs": [],
   "source": [
    "# Generate unique categories for BestNights\n",
    "bestNights = attributesRaw['BestNights'].str.split(',', expand=True).replace(['{', '}', 'False', 'True', ':', \"'\", ' '], '', regex=True).melt().drop(columns='variable').dropna()\n",
    "bestNights=bestNights.loc[~bestNights['value'].isin([''])]\n",
    "bestNights=bestNights['value'].unique().tolist()"
   ]
  },
  {
   "cell_type": "code",
   "execution_count": 34,
   "metadata": {},
   "outputs": [],
   "source": [
    "# Generating boolean columns for BestNights\n",
    "for value in bestNights:\n",
    "    attributes[f'Best_night_{value}']=attributes['BestNights'].str.contains(f\"{value}': True\")\n",
    "attributes.drop(columns='BestNights', inplace=True)"
   ]
  },
  {
   "cell_type": "code",
   "execution_count": 35,
   "metadata": {},
   "outputs": [],
   "source": [
    "# Generate unique categories for Alcohol\n",
    "alcohol=pd.DataFrame(attributesRaw['Alcohol'].unique()).dropna()\n",
    "alcohol=alcohol.replace([\"'\", ' '], '', regex=True)\n",
    "alcohol=alcohol.loc[~alcohol[0].isin(['none', 'ufull_bar', 'unone', 'ubeer_and_wine', 'None'])]\n",
    "alcohol=alcohol[0].unique().tolist()"
   ]
  },
  {
   "cell_type": "code",
   "execution_count": 36,
   "metadata": {},
   "outputs": [],
   "source": [
    "# Generate unique categories for Alcohol\n",
    "for value in alcohol:\n",
    "    attributes[f'Alcohol_{value}']=attributes['Alcohol'].str.contains(value)\n",
    "attributes.drop(columns='Alcohol', inplace=True)"
   ]
  },
  {
   "cell_type": "code",
   "execution_count": 37,
   "metadata": {},
   "outputs": [],
   "source": [
    "# Generate unique categories for DietaryRestrictions \n",
    "dietaryRestrictions = attributes['DietaryRestrictions'].str.split(',', expand=True).replace(['{', '}', 'False', 'True', ':', \"'\", ' '], '',\n",
    "                                                                                               regex=True).melt().drop(columns='variable').dropna()\n",
    "dietaryRestrictions=dietaryRestrictions.loc[~dietaryRestrictions['value'].isin(['None', ''])]\n",
    "dietaryRestrictions=dietaryRestrictions['value'].unique().tolist()"
   ]
  },
  {
   "cell_type": "code",
   "execution_count": 38,
   "metadata": {},
   "outputs": [],
   "source": [
    "# Generating boolean columns\n",
    "for value in dietaryRestrictions:\n",
    "    attributes[f'Dietary_Restrictions_{value}']=attributes['DietaryRestrictions'].str.contains(f\"{value}': True\")\n",
    "attributes.drop(columns='DietaryRestrictions', inplace=True)"
   ]
  },
  {
   "cell_type": "code",
   "execution_count": 39,
   "metadata": {},
   "outputs": [],
   "source": [
    "# Generate unique categories for Music \n",
    "music = attributesRaw['Music'].str.split(',', expand=True).replace(['{', '}', 'False', 'True', ':', \"'\", ' '], '', regex=True).melt().drop(columns='variable').dropna()\n",
    "music=music.loc[~music['value'].isin(['None', ''])]\n",
    "music=music['value'].unique().tolist()"
   ]
  },
  {
   "cell_type": "code",
   "execution_count": 40,
   "metadata": {},
   "outputs": [],
   "source": [
    "# Generating boolean columns\n",
    "for value in music:\n",
    "    attributes[f'Music_{value}']=attributes['Music'].str.contains(f\"{value}': True\")\n",
    "attributes.drop(columns='Music', inplace=True)"
   ]
  },
  {
   "cell_type": "code",
   "execution_count": 41,
   "metadata": {},
   "outputs": [],
   "source": [
    "# Generate unique categories for NoiseLevel \n",
    "noiseLevel=pd.DataFrame(attributesRaw['NoiseLevel'].unique()).dropna()\n",
    "noiseLevel=noiseLevel.replace([\"'\", ' '], '', regex=True)\n",
    "noiseLevel=noiseLevel.loc[~noiseLevel[0].isin(['None', 'uloud', 'uaverage', 'uquiet', 'uvery_loud'])]\n",
    "noiseLevel=noiseLevel[0].tolist()"
   ]
  },
  {
   "cell_type": "code",
   "execution_count": 42,
   "metadata": {},
   "outputs": [],
   "source": [
    "# Generate unique categories for noiseLevel \n",
    "for value in noiseLevel:\n",
    "    attributes[f'Noise_{value}']=attributes['NoiseLevel'].str.contains(value)\n",
    "attributes.drop(columns='NoiseLevel', inplace=True)"
   ]
  },
  {
   "cell_type": "code",
   "execution_count": 43,
   "metadata": {},
   "outputs": [],
   "source": [
    "# Generate unique categories for RestaurantsAttire \n",
    "restaurantsAttire=pd.DataFrame(attributesRaw['RestaurantsAttire'].unique()).dropna()\n",
    "restaurantsAttire=restaurantsAttire.replace([\"'\", ' '], '', regex=True)\n",
    "restaurantsAttire=restaurantsAttire.loc[~restaurantsAttire[0].isin(['ucasual', 'None', 'udressy', 'uformal'])]\n",
    "restaurantsAttire=restaurantsAttire[0].tolist()"
   ]
  },
  {
   "cell_type": "code",
   "execution_count": 44,
   "metadata": {},
   "outputs": [],
   "source": [
    "# Generate unique categories for RestaurantsAttire \n",
    "for value in restaurantsAttire:\n",
    "    attributes[f'Restaurants_Attire_{value}']=attributes['RestaurantsAttire'].str.contains(value)\n",
    "attributes.drop(columns='RestaurantsAttire', inplace=True)"
   ]
  },
  {
   "cell_type": "code",
   "execution_count": 45,
   "metadata": {},
   "outputs": [],
   "source": [
    "# Generate unique categories for Smoking \n",
    "smoking=pd.DataFrame(attributesRaw['Smoking'].unique()).dropna()\n",
    "smoking=smoking.replace([\"'\", \"' '\", '.outdoor', '.yes', '.no'], ['', '', 'outdoor', 'yes', 'no'], regex=True)\n",
    "smoking=smoking.loc[~smoking[0].isin(['None'])]\n",
    "smoking=smoking[0].tolist()"
   ]
  },
  {
   "cell_type": "code",
   "execution_count": 46,
   "metadata": {},
   "outputs": [],
   "source": [
    "# Generating Smoking boolean columns\n",
    "for value in smoking:\n",
    "    attributes[f'Smoking_{value}']=attributes['Smoking'].str.contains(f\"{value}': True\")\n",
    "attributes.drop(columns='Smoking', inplace=True)"
   ]
  },
  {
   "cell_type": "code",
   "execution_count": 47,
   "metadata": {},
   "outputs": [],
   "source": [
    "# Convert columns to boolean\n",
    "attributes.replace({'AgesAllowed':{'':False, \"u'19plus'\":True},\n",
    "                    'BYOBCorkage':{'':False, \"u'yes_corkage'\":True},\n",
    "                    'BikeParking':{'False':False, 'None':False, '':False, 'True':True},\n",
    "                    'BusinessAcceptsCreditCards':{'False':False, 'None':False, '':False, 'True':True},\n",
    "                    'CoatCheck':{'False':False, 'None':False, '':False, 'True':True},\n",
    "                    'DogsAllowed':{'False':False, 'None':False, '':False, 'True':True},\n",
    "                    'GoodForDancing':{'False':False, 'None':False, '':False, 'True':True},\n",
    "                    'GoodForKids':{'False':False, 'None':False, '':False, 'True':True},\n",
    "                    'HappyHour':{'False':False, 'None':False, '':False, 'True':True},\n",
    "                    'HasTV':{'False':False, 'None':False, '':False, 'True':True},\n",
    "                    'OutdoorSeating':{'False':False, 'None':False, '':False, 'True':True},\n",
    "                    'RestaurantsCounterService':{'True':True, '':False},\n",
    "                    'RestaurantsGoodForGroups':{'False':False, 'None':False, '':False, 'True':True},\n",
    "                    'RestaurantsPriceRange2':{'None':np.nan},\n",
    "#                     'RestaurantsPriceRange2':{'':0, 'None':0},\n",
    "                    'RestaurantsTableService':{'False':False, 'None':False, '':False, 'True':True},\n",
    "                    'RestaurantsTakeOut':{'False':False, 'None':False, '':False, 'True':True},\n",
    "                    'WheelchairAccessible':{'False':False, 'None':False, '':False, 'True':True}}, inplace=True)\n",
    "\n",
    "# Convert pricing column to int\n",
    "attributes['RestaurantsPriceRange2']=pd.to_numeric(attributes['RestaurantsPriceRange2'])"
   ]
  },
  {
   "cell_type": "code",
   "execution_count": 48,
   "metadata": {},
   "outputs": [],
   "source": [
    "# Rename AgesAllowed to Over_19\n",
    "attributes.rename(columns={'AgesAllowed':'Over_19'}, inplace=True)"
   ]
  },
  {
   "cell_type": "code",
   "execution_count": 49,
   "metadata": {},
   "outputs": [],
   "source": [
    "# Drop unnecessary columns\n",
    "attributes.drop(columns=['AcceptsInsurance', 'BusinessAcceptsBitcoin', 'Caters', 'DriveThru', 'HairSpecializesIn', 'Open24Hours',\n",
    "                         'RestaurantsDelivery', 'RestaurantsReservations', 'WiFi'], inplace=True)"
   ]
  },
  {
   "cell_type": "code",
   "execution_count": 50,
   "metadata": {},
   "outputs": [],
   "source": [
    "# Filter by restaurants that require appointments\n",
    "attributes=attributes.loc[attributes['ByAppointmentOnly']!='True']\n",
    "attributes.drop(columns='ByAppointmentOnly', inplace=True)"
   ]
  },
  {
   "cell_type": "code",
   "execution_count": 51,
   "metadata": {},
   "outputs": [],
   "source": [
    "# Join the master table with the attributes table\n",
    "business=business.join(attributes, how='inner').drop(columns='Restaurant_id').reset_index(drop=True)"
   ]
  },
  {
   "cell_type": "code",
   "execution_count": 52,
   "metadata": {},
   "outputs": [],
   "source": [
    "# Dependencies\n",
    "from sqlalchemy import create_engine, MetaData, Table, Column, Integer, String, Float, DateTime, Boolean\n",
    "from sourceData.config import conn\n",
    "import pymysql"
   ]
  },
  {
   "cell_type": "code",
   "execution_count": 53,
   "metadata": {},
   "outputs": [],
   "source": [
    "# Connect to mysql\n",
    "engine = create_engine(f'mysql+pymysql://{conn}', echo=True)"
   ]
  },
  {
   "cell_type": "code",
   "execution_count": 54,
   "metadata": {},
   "outputs": [
    {
     "name": "stdout",
     "output_type": "stream",
     "text": [
      "2019-07-18 11:31:42,923 INFO sqlalchemy.engine.base.Engine SHOW VARIABLES LIKE 'sql_mode'\n",
      "2019-07-18 11:31:42,926 INFO sqlalchemy.engine.base.Engine {}\n",
      "2019-07-18 11:31:42,929 INFO sqlalchemy.engine.base.Engine SHOW VARIABLES LIKE 'lower_case_table_names'\n",
      "2019-07-18 11:31:42,930 INFO sqlalchemy.engine.base.Engine {}\n",
      "2019-07-18 11:31:42,933 INFO sqlalchemy.engine.base.Engine SELECT DATABASE()\n",
      "2019-07-18 11:31:42,933 INFO sqlalchemy.engine.base.Engine {}\n",
      "2019-07-18 11:31:42,934 INFO sqlalchemy.engine.base.Engine show collation where `Charset` = 'utf8mb4' and `Collation` = 'utf8mb4_bin'\n",
      "2019-07-18 11:31:42,935 INFO sqlalchemy.engine.base.Engine {}\n",
      "2019-07-18 11:31:42,936 INFO sqlalchemy.engine.base.Engine SELECT CAST('test plain returns' AS CHAR(60)) AS anon_1\n",
      "2019-07-18 11:31:42,937 INFO sqlalchemy.engine.base.Engine {}\n",
      "2019-07-18 11:31:42,937 INFO sqlalchemy.engine.base.Engine SELECT CAST('test unicode returns' AS CHAR(60)) AS anon_1\n",
      "2019-07-18 11:31:42,938 INFO sqlalchemy.engine.base.Engine {}\n",
      "2019-07-18 11:31:42,940 INFO sqlalchemy.engine.base.Engine SELECT CAST('test collated returns' AS CHAR CHARACTER SET utf8mb4) COLLATE utf8mb4_bin AS anon_1\n",
      "2019-07-18 11:31:42,940 INFO sqlalchemy.engine.base.Engine {}\n",
      "2019-07-18 11:31:42,942 INFO sqlalchemy.engine.base.Engine CREATE DATABASE IF NOT EXISTS eatinerary;\n",
      "2019-07-18 11:31:42,942 INFO sqlalchemy.engine.base.Engine {}\n",
      "2019-07-18 11:31:42,944 INFO sqlalchemy.engine.base.Engine COMMIT\n"
     ]
    },
    {
     "name": "stderr",
     "output_type": "stream",
     "text": [
      "E:\\Users\\brian\\Anaconda3\\envs\\EATinerary\\lib\\site-packages\\pymysql\\cursors.py:170: Warning: (1007, \"Can't create database 'eatinerary'; database exists\")\n",
      "  result = self._query(query)\n"
     ]
    },
    {
     "data": {
      "text/plain": [
       "<sqlalchemy.engine.result.ResultProxy at 0x1f80ee5fd30>"
      ]
     },
     "execution_count": 54,
     "metadata": {},
     "output_type": "execute_result"
    }
   ],
   "source": [
    "# Create the EATinerary db if it doesn't exit\n",
    "engine.execute('CREATE DATABASE IF NOT EXISTS eatinerary;')"
   ]
  },
  {
   "cell_type": "code",
   "execution_count": 55,
   "metadata": {},
   "outputs": [],
   "source": [
    "# Connect to the EATinerary db\n",
    "engine = create_engine(f'mysql+pymysql://{conn}/eatinerary', echo=True)"
   ]
  },
  {
   "cell_type": "code",
   "execution_count": 56,
   "metadata": {},
   "outputs": [
    {
     "name": "stdout",
     "output_type": "stream",
     "text": [
      "2019-07-18 11:31:42,965 INFO sqlalchemy.engine.base.Engine SHOW VARIABLES LIKE 'sql_mode'\n",
      "2019-07-18 11:31:42,966 INFO sqlalchemy.engine.base.Engine {}\n",
      "2019-07-18 11:31:42,968 INFO sqlalchemy.engine.base.Engine SHOW VARIABLES LIKE 'lower_case_table_names'\n",
      "2019-07-18 11:31:42,969 INFO sqlalchemy.engine.base.Engine {}\n",
      "2019-07-18 11:31:42,971 INFO sqlalchemy.engine.base.Engine SELECT DATABASE()\n",
      "2019-07-18 11:31:42,971 INFO sqlalchemy.engine.base.Engine {}\n",
      "2019-07-18 11:31:42,973 INFO sqlalchemy.engine.base.Engine show collation where `Charset` = 'utf8mb4' and `Collation` = 'utf8mb4_bin'\n",
      "2019-07-18 11:31:42,973 INFO sqlalchemy.engine.base.Engine {}\n",
      "2019-07-18 11:31:42,975 INFO sqlalchemy.engine.base.Engine SELECT CAST('test plain returns' AS CHAR(60)) AS anon_1\n",
      "2019-07-18 11:31:42,975 INFO sqlalchemy.engine.base.Engine {}\n",
      "2019-07-18 11:31:42,977 INFO sqlalchemy.engine.base.Engine SELECT CAST('test unicode returns' AS CHAR(60)) AS anon_1\n",
      "2019-07-18 11:31:42,977 INFO sqlalchemy.engine.base.Engine {}\n",
      "2019-07-18 11:31:42,978 INFO sqlalchemy.engine.base.Engine SELECT CAST('test collated returns' AS CHAR CHARACTER SET utf8mb4) COLLATE utf8mb4_bin AS anon_1\n",
      "2019-07-18 11:31:42,978 INFO sqlalchemy.engine.base.Engine {}\n",
      "2019-07-18 11:31:42,979 INFO sqlalchemy.engine.base.Engine DESCRIBE `categories`\n",
      "2019-07-18 11:31:42,980 INFO sqlalchemy.engine.base.Engine {}\n"
     ]
    }
   ],
   "source": [
    "# Set up the Category table\n",
    "meta = MetaData()\n",
    "\n",
    "Movie = Table(\n",
    "    'categories', meta,\n",
    "    Column('Category', String(30)))\n",
    "\n",
    "meta.create_all(engine)"
   ]
  },
  {
   "cell_type": "code",
   "execution_count": 57,
   "metadata": {},
   "outputs": [
    {
     "name": "stdout",
     "output_type": "stream",
     "text": [
      "2019-07-18 11:31:42,988 INFO sqlalchemy.engine.base.Engine DESCRIBE `categories`\n",
      "2019-07-18 11:31:42,989 INFO sqlalchemy.engine.base.Engine {}\n",
      "2019-07-18 11:31:42,991 INFO sqlalchemy.engine.base.Engine DESCRIBE `categories`\n",
      "2019-07-18 11:31:42,991 INFO sqlalchemy.engine.base.Engine {}\n",
      "2019-07-18 11:31:42,992 INFO sqlalchemy.engine.base.Engine SHOW FULL TABLES FROM `eatinerary`\n",
      "2019-07-18 11:31:42,993 INFO sqlalchemy.engine.base.Engine {}\n",
      "2019-07-18 11:31:43,011 INFO sqlalchemy.engine.base.Engine SHOW CREATE TABLE `categories`\n",
      "2019-07-18 11:31:43,012 INFO sqlalchemy.engine.base.Engine {}\n",
      "2019-07-18 11:31:43,014 INFO sqlalchemy.engine.base.Engine \n",
      "DROP TABLE categories\n",
      "2019-07-18 11:31:43,015 INFO sqlalchemy.engine.base.Engine {}\n",
      "2019-07-18 11:31:43,209 INFO sqlalchemy.engine.base.Engine COMMIT\n",
      "2019-07-18 11:31:43,211 INFO sqlalchemy.engine.base.Engine \n",
      "CREATE TABLE categories (\n",
      "\t`Category_id` BIGINT, \n",
      "\t`Category` TEXT\n",
      ")\n",
      "\n",
      "\n",
      "2019-07-18 11:31:43,212 INFO sqlalchemy.engine.base.Engine {}\n",
      "2019-07-18 11:31:43,426 INFO sqlalchemy.engine.base.Engine COMMIT\n",
      "2019-07-18 11:31:43,427 INFO sqlalchemy.engine.base.Engine CREATE INDEX `ix_categories_Category_id` ON categories (`Category_id`)\n",
      "2019-07-18 11:31:43,428 INFO sqlalchemy.engine.base.Engine {}\n",
      "2019-07-18 11:31:43,635 INFO sqlalchemy.engine.base.Engine COMMIT\n",
      "2019-07-18 11:31:43,637 INFO sqlalchemy.engine.base.Engine BEGIN (implicit)\n",
      "2019-07-18 11:31:43,638 INFO sqlalchemy.engine.base.Engine INSERT INTO categories (`Category_id`, `Category`) VALUES (%(Category_id)s, %(Category)s)\n",
      "2019-07-18 11:31:43,638 INFO sqlalchemy.engine.base.Engine ({'Category_id': 0, 'Category': 'Acai Bowls'}, {'Category_id': 1, 'Category': 'Afghan'}, {'Category_id': 2, 'Category': 'African'}, {'Category_id': 3, 'Category': 'Arabian'}, {'Category_id': 4, 'Category': 'Argentine'}, {'Category_id': 5, 'Category': 'Asian Fusion'}, {'Category_id': 6, 'Category': 'Australian'}, {'Category_id': 7, 'Category': 'Austrian'}  ... displaying 10 of 184 total bound parameter sets ...  {'Category_id': 182, 'Category': 'Wine Bars'}, {'Category_id': 183, 'Category': 'Wraps'})\n",
      "2019-07-18 11:31:43,768 INFO sqlalchemy.engine.base.Engine COMMIT\n"
     ]
    }
   ],
   "source": [
    "# Creating sql database and tables for the restaurants and the unique categories\n",
    "uniqueCategories.to_sql('categories', engine, if_exists='replace', index_label='Category_id')"
   ]
  },
  {
   "cell_type": "code",
   "execution_count": 58,
   "metadata": {},
   "outputs": [
    {
     "name": "stdout",
     "output_type": "stream",
     "text": [
      "2019-07-18 11:31:43,816 INFO sqlalchemy.engine.base.Engine DESCRIBE `restaurant`\n",
      "2019-07-18 11:31:43,816 INFO sqlalchemy.engine.base.Engine {}\n"
     ]
    }
   ],
   "source": [
    "# Set up the Restaurant table\n",
    "meta = MetaData()\n",
    "\n",
    "Movie = Table(\n",
    "    'restaurant', meta,\n",
    "    Column('Name', String(50)),\n",
    "    Column('Address', String(50)),\n",
    "    Column('Postal_code', String(10)),\n",
    "    Column('City', String(30)),\n",
    "    Column('Latitude', Integer),\n",
    "    Column('Longitude', Integer),\n",
    "    Column('Stars', Float),\n",
    "    Column('Monday_open', DateTime),\n",
    "    Column('Monday_close', DateTime),\n",
    "    Column('Tuesday_open', DateTime),\n",
    "    Column('Tuesday_close', DateTime),\n",
    "    Column('Wednesday_open', DateTime),\n",
    "    Column('Wednesday_close', DateTime),\n",
    "    Column('Thursday_open', DateTime),\n",
    "    Column('Thursday_close', DateTime),\n",
    "    Column('Friday_open', DateTime),\n",
    "    Column('Friday_close', DateTime),\n",
    "    Column('Saturday_open', DateTime),\n",
    "    Column('Saturday_close', DateTime),\n",
    "    Column('Sunday_open', DateTime),\n",
    "    Column('Sunday_close', DateTime),\n",
    "    Column('Category_ids', Integer),\n",
    "    Column('Over_19', Boolean),\n",
    "    Column('BYOBCorkage', Boolean),\n",
    "    Column('BikeParking', Boolean),\n",
    "    Column('BusinessAcceptsCreditCards', Boolean),\n",
    "    Column('CoatCheck', Boolean),\n",
    "    Column('DogsAllowed', Boolean),\n",
    "    Column('GoodForDancing', Boolean),\n",
    "    Column('GoodForKids', Boolean),\n",
    "    Column('HappyHour', Boolean),\n",
    "    Column('HasTV', Boolean),\n",
    "    Column('OutdoorSeating', Boolean),\n",
    "    Column('RestaurantsCounterService', Boolean),\n",
    "    Column('RestaurantsGoodForGroups', Boolean),\n",
    "    Column('RestaurantsPriceRange2', Integer),\n",
    "    Column('RestaurantsTableService', Boolean),\n",
    "    Column('RestaurantsTakeOut', Boolean),\n",
    "    Column('WheelchairAccessible', Boolean),\n",
    "    Column('Ambience_romantic', Boolean),\n",
    "    Column('Ambience_touristy', Boolean),\n",
    "    Column('Ambience_hipster', Boolean),\n",
    "    Column('Ambience_intimate', Boolean),\n",
    "    Column('Ambience_classy', Boolean),\n",
    "    Column('Ambience_upscale', Boolean),\n",
    "    Column('Ambience_divey', Boolean),\n",
    "    Column('Ambience_trendy', Boolean),\n",
    "    Column('Ambience_casual', Boolean),\n",
    "    Column('Parking_garage', Boolean),\n",
    "    Column('Parking_valet', Boolean),\n",
    "    Column('Parking_street', Boolean),\n",
    "    Column('Parking_validated', Boolean),\n",
    "    Column('Parking_lot', Boolean),\n",
    "    Column('Meal_dessert', Boolean),\n",
    "    Column('Meal_brunch', Boolean),\n",
    "    Column('Meal_latenight', Boolean),\n",
    "    Column('Meal_lunch', Boolean),\n",
    "    Column('Meal_dinner', Boolean),\n",
    "    Column('Meal_breakfast', Boolean),\n",
    "    Column('Best_night_monday', Boolean),\n",
    "    Column('Best_night_tuesday', Boolean),\n",
    "    Column('Best_night_friday', Boolean),\n",
    "    Column('Best_night_wednesday', Boolean),\n",
    "    Column('Best_night_thursday', Boolean),\n",
    "    Column('Best_night_sunday', Boolean),\n",
    "    Column('Best_night_saturday', Boolean),\n",
    "    Column('Alcohol_beer_and_wine', Boolean),\n",
    "    Column('Alcohol_full_bar', Boolean),\n",
    "    Column('Dietary_Restrictions_dairy-free', Boolean),\n",
    "    Column('Dietary_Restrictions_gluten-free', Boolean),\n",
    "    Column('Dietary_Restrictions_vegan', Boolean),\n",
    "    Column('Dietary_Restrictions_kosher', Boolean),\n",
    "    Column('Dietary_Restrictions_halal', Boolean),\n",
    "    Column('Dietary_Restrictions_soy-free', Boolean),\n",
    "    Column('Dietary_Restrictions_vegetarian', Boolean),\n",
    "    Column('Music_dj', Boolean),\n",
    "    Column('Music_live', Boolean),\n",
    "    Column('Music_background_music', Boolean),\n",
    "    Column('Music_no_music', Boolean),\n",
    "    Column('Music_jukebox', Boolean),\n",
    "    Column('Music_video', Boolean),\n",
    "    Column('Music_karaoke', Boolean),\n",
    "    Column('Noise_quiet', Boolean),\n",
    "    Column('Noise_average', Boolean),\n",
    "    Column('Noise_loud', Boolean),\n",
    "    Column('Noise_very_loud', Boolean),\n",
    "    Column('Restaurants_Attire_dressy', Boolean),\n",
    "    Column('Restaurants_Attire_casual', Boolean),\n",
    "    Column('Restaurants_Attire_formal', Boolean),\n",
    "    Column('Smoking_no', Boolean),\n",
    "    Column('Smoking_outdoor', Boolean),\n",
    "    Column('Smoking_yes', Boolean)\n",
    ")\n",
    "\n",
    "meta.create_all(engine)"
   ]
  },
  {
   "cell_type": "code",
   "execution_count": 59,
   "metadata": {},
   "outputs": [],
   "source": [
    "# Removing all special characters\n",
    "business['Name']=business['Name'].str.replace('[^A-Za-z\\s]+', '')"
   ]
  },
  {
   "cell_type": "code",
   "execution_count": 60,
   "metadata": {},
   "outputs": [],
   "source": [
    "dataType={'Name':String(50), 'Address':String(50), 'Postal_code':String(10), 'City':String(30), 'Latitude':Integer, 'Longitude':Integer, 'Stars':Float, 'Monday_open':DateTime,\n",
    "          'Monday_close':DateTime, 'Tuesday_open':DateTime, 'Tuesday_close':DateTime, 'Wednesday_open':DateTime, 'Wednesday_close':DateTime, 'Thursday_open':DateTime,\n",
    "          'Thursday_close':DateTime, 'Friday_open':DateTime, 'Friday_close':DateTime, 'Saturday_open':DateTime, 'Saturday_close':DateTime, 'Sunday_open':DateTime,\n",
    "          'Sunday_close':DateTime, 'Category_ids':Integer, 'Over_19':Boolean, 'BYOBCorkage':Boolean, 'BikeParking':Boolean, 'BusinessAcceptsCreditCards':Boolean, 'CoatCheck':Boolean,\n",
    "          'DogsAllowed':Boolean, 'GoodForDancing':Boolean, 'GoodForKids':Boolean, 'HappyHour':Boolean, 'HasTV':Boolean, 'OutdoorSeating':Boolean, 'RestaurantsCounterService':Boolean,\n",
    "          'RestaurantsGoodForGroups':Boolean, 'RestaurantsPriceRange2':Integer, 'RestaurantsTableService':Boolean, 'RestaurantsTakeOut':Boolean, 'WheelchairAccessible':Boolean,\n",
    "          'Ambience_romantic':Boolean, 'Ambience_touristy':Boolean, 'Ambience_hipster':Boolean, 'Ambience_intimate':Boolean, 'Ambience_classy':Boolean, 'Ambience_upscale':Boolean,\n",
    "          'Ambience_divey':Boolean, 'Ambience_trendy':Boolean, 'Ambience_casual':Boolean, 'Parking_garage':Boolean, 'Parking_valet':Boolean, 'Parking_street':Boolean,\n",
    "          'Parking_validated':Boolean, 'Parking_lot':Boolean, 'Meal_dessert':Boolean, 'Meal_brunch':Boolean, 'Meal_latenight':Boolean, 'Meal_lunch':Boolean, 'Meal_dinner':Boolean,\n",
    "          'Meal_breakfast':Boolean, 'Best_night_monday':Boolean, 'Best_night_tuesday':Boolean, 'Best_night_friday':Boolean, 'Best_night_wednesday':Boolean,\n",
    "          'Best_night_thursday':Boolean, 'Best_night_sunday':Boolean, 'Best_night_saturday':Boolean, 'Alcohol_beer_and_wine':Boolean, 'Alcohol_full_bar':Boolean,\n",
    "          'Dietary_Restrictions_dairy-free':Boolean, 'Dietary_Restrictions_gluten-free':Boolean, 'Dietary_Restrictions_vegan':Boolean, 'Dietary_Restrictions_kosher':Boolean,\n",
    "          'Dietary_Restrictions_halal':Boolean, 'Dietary_Restrictions_soy-free':Boolean, 'Dietary_Restrictions_vegetarian':Boolean, 'Music_dj':Boolean, 'Music_live':Boolean,\n",
    "          'Music_background_music':Boolean, 'Music_no_music':Boolean, 'Music_jukebox':Boolean, 'Music_video':Boolean, 'Music_karaoke':Boolean, 'Noise_quiet':Boolean,\n",
    "          'Noise_average':Boolean, 'Noise_loud':Boolean, 'Noise_very_loud':Boolean, 'Restaurants_Attire_dressy':Boolean, 'Restaurants_Attire_casual':Boolean,\n",
    "          'Restaurants_Attire_formal':Boolean, 'Smoking_no':Boolean, 'Smoking_outdoor':Boolean, 'Smoking_yes':Boolean}"
   ]
  },
  {
   "cell_type": "code",
   "execution_count": 61,
   "metadata": {},
   "outputs": [
    {
     "name": "stdout",
     "output_type": "stream",
     "text": [
      "2019-07-18 11:31:43,878 INFO sqlalchemy.engine.base.Engine DESCRIBE `restaurant`\n",
      "2019-07-18 11:31:43,879 INFO sqlalchemy.engine.base.Engine {}\n",
      "2019-07-18 11:31:43,882 INFO sqlalchemy.engine.base.Engine DESCRIBE `restaurant`\n",
      "2019-07-18 11:31:43,883 INFO sqlalchemy.engine.base.Engine {}\n",
      "2019-07-18 11:31:43,885 INFO sqlalchemy.engine.base.Engine SHOW FULL TABLES FROM `eatinerary`\n",
      "2019-07-18 11:31:43,886 INFO sqlalchemy.engine.base.Engine {}\n",
      "2019-07-18 11:31:43,887 INFO sqlalchemy.engine.base.Engine SHOW CREATE TABLE `restaurant`\n",
      "2019-07-18 11:31:43,888 INFO sqlalchemy.engine.base.Engine {}\n",
      "2019-07-18 11:31:43,894 INFO sqlalchemy.engine.base.Engine \n",
      "DROP TABLE restaurant\n",
      "2019-07-18 11:31:43,894 INFO sqlalchemy.engine.base.Engine {}\n",
      "2019-07-18 11:31:44,026 INFO sqlalchemy.engine.base.Engine COMMIT\n",
      "2019-07-18 11:31:44,043 INFO sqlalchemy.engine.base.Engine \n",
      "CREATE TABLE restaurant (\n",
      "\t`Restaurant_id` BIGINT, \n",
      "\t`Name` VARCHAR(50), \n",
      "\t`Address` VARCHAR(50), \n",
      "\t`Postal_code` VARCHAR(10), \n",
      "\t`City` VARCHAR(30), \n",
      "\t`Latitude` INTEGER, \n",
      "\t`Longitude` INTEGER, \n",
      "\t`Stars` FLOAT, \n",
      "\t`Monday_open` DATETIME, \n",
      "\t`Monday_close` DATETIME, \n",
      "\t`Tuesday_open` DATETIME, \n",
      "\t`Tuesday_close` DATETIME, \n",
      "\t`Wednesday_open` DATETIME, \n",
      "\t`Wednesday_close` DATETIME, \n",
      "\t`Thursday_open` DATETIME, \n",
      "\t`Thursday_close` DATETIME, \n",
      "\t`Friday_open` DATETIME, \n",
      "\t`Friday_close` DATETIME, \n",
      "\t`Saturday_open` DATETIME, \n",
      "\t`Saturday_close` DATETIME, \n",
      "\t`Sunday_open` DATETIME, \n",
      "\t`Sunday_close` DATETIME, \n",
      "\t`Category_ids` INTEGER, \n",
      "\t`Over_19` BOOL, \n",
      "\t`BYOBCorkage` BOOL, \n",
      "\t`BikeParking` BOOL, \n",
      "\t`BusinessAcceptsCreditCards` BOOL, \n",
      "\t`CoatCheck` BOOL, \n",
      "\t`DogsAllowed` BOOL, \n",
      "\t`GoodForDancing` BOOL, \n",
      "\t`GoodForKids` BOOL, \n",
      "\t`HappyHour` BOOL, \n",
      "\t`HasTV` BOOL, \n",
      "\t`OutdoorSeating` BOOL, \n",
      "\t`RestaurantsCounterService` BOOL, \n",
      "\t`RestaurantsGoodForGroups` BOOL, \n",
      "\t`RestaurantsPriceRange2` INTEGER, \n",
      "\t`RestaurantsTableService` BOOL, \n",
      "\t`RestaurantsTakeOut` BOOL, \n",
      "\t`WheelchairAccessible` BOOL, \n",
      "\t`Ambience_romantic` BOOL, \n",
      "\t`Ambience_touristy` BOOL, \n",
      "\t`Ambience_hipster` BOOL, \n",
      "\t`Ambience_intimate` BOOL, \n",
      "\t`Ambience_classy` BOOL, \n",
      "\t`Ambience_upscale` BOOL, \n",
      "\t`Ambience_divey` BOOL, \n",
      "\t`Ambience_trendy` BOOL, \n",
      "\t`Ambience_casual` BOOL, \n",
      "\t`Parking_garage` BOOL, \n",
      "\t`Parking_valet` BOOL, \n",
      "\t`Parking_street` BOOL, \n",
      "\t`Parking_validated` BOOL, \n",
      "\t`Parking_lot` BOOL, \n",
      "\t`Meal_dessert` BOOL, \n",
      "\t`Meal_brunch` BOOL, \n",
      "\t`Meal_latenight` BOOL, \n",
      "\t`Meal_lunch` BOOL, \n",
      "\t`Meal_dinner` BOOL, \n",
      "\t`Meal_breakfast` BOOL, \n",
      "\t`Best_night_monday` BOOL, \n",
      "\t`Best_night_tuesday` BOOL, \n",
      "\t`Best_night_friday` BOOL, \n",
      "\t`Best_night_wednesday` BOOL, \n",
      "\t`Best_night_thursday` BOOL, \n",
      "\t`Best_night_sunday` BOOL, \n",
      "\t`Best_night_saturday` BOOL, \n",
      "\t`Alcohol_beer_and_wine` BOOL, \n",
      "\t`Alcohol_full_bar` BOOL, \n",
      "\t`Dietary_Restrictions_dairy-free` BOOL, \n",
      "\t`Dietary_Restrictions_gluten-free` BOOL, \n",
      "\t`Dietary_Restrictions_vegan` BOOL, \n",
      "\t`Dietary_Restrictions_kosher` BOOL, \n",
      "\t`Dietary_Restrictions_halal` BOOL, \n",
      "\t`Dietary_Restrictions_soy-free` BOOL, \n",
      "\t`Dietary_Restrictions_vegetarian` BOOL, \n",
      "\t`Music_dj` BOOL, \n",
      "\t`Music_live` BOOL, \n",
      "\t`Music_background_music` BOOL, \n",
      "\t`Music_no_music` BOOL, \n",
      "\t`Music_jukebox` BOOL, \n",
      "\t`Music_video` BOOL, \n",
      "\t`Music_karaoke` BOOL, \n",
      "\t`Noise_quiet` BOOL, \n",
      "\t`Noise_average` BOOL, \n",
      "\t`Noise_loud` BOOL, \n",
      "\t`Noise_very_loud` BOOL, \n",
      "\t`Restaurants_Attire_dressy` BOOL, \n",
      "\t`Restaurants_Attire_casual` BOOL, \n",
      "\t`Restaurants_Attire_formal` BOOL, \n",
      "\t`Smoking_no` BOOL, \n",
      "\t`Smoking_outdoor` BOOL, \n",
      "\t`Smoking_yes` BOOL, \n",
      "\tCHECK (`Over_19` IN (0, 1)), \n",
      "\tCHECK (`BYOBCorkage` IN (0, 1)), \n",
      "\tCHECK (`BikeParking` IN (0, 1)), \n",
      "\tCHECK (`BusinessAcceptsCreditCards` IN (0, 1)), \n",
      "\tCHECK (`CoatCheck` IN (0, 1)), \n",
      "\tCHECK (`DogsAllowed` IN (0, 1)), \n",
      "\tCHECK (`GoodForDancing` IN (0, 1)), \n",
      "\tCHECK (`GoodForKids` IN (0, 1)), \n",
      "\tCHECK (`HappyHour` IN (0, 1)), \n",
      "\tCHECK (`HasTV` IN (0, 1)), \n",
      "\tCHECK (`OutdoorSeating` IN (0, 1)), \n",
      "\tCHECK (`RestaurantsCounterService` IN (0, 1)), \n",
      "\tCHECK (`RestaurantsGoodForGroups` IN (0, 1)), \n",
      "\tCHECK (`RestaurantsTableService` IN (0, 1)), \n",
      "\tCHECK (`RestaurantsTakeOut` IN (0, 1)), \n",
      "\tCHECK (`WheelchairAccessible` IN (0, 1)), \n",
      "\tCHECK (`Ambience_romantic` IN (0, 1)), \n",
      "\tCHECK (`Ambience_touristy` IN (0, 1)), \n",
      "\tCHECK (`Ambience_hipster` IN (0, 1)), \n",
      "\tCHECK (`Ambience_intimate` IN (0, 1)), \n",
      "\tCHECK (`Ambience_classy` IN (0, 1)), \n",
      "\tCHECK (`Ambience_upscale` IN (0, 1)), \n",
      "\tCHECK (`Ambience_divey` IN (0, 1)), \n",
      "\tCHECK (`Ambience_trendy` IN (0, 1)), \n",
      "\tCHECK (`Ambience_casual` IN (0, 1)), \n",
      "\tCHECK (`Parking_garage` IN (0, 1)), \n",
      "\tCHECK (`Parking_valet` IN (0, 1)), \n",
      "\tCHECK (`Parking_street` IN (0, 1)), \n",
      "\tCHECK (`Parking_validated` IN (0, 1)), \n",
      "\tCHECK (`Parking_lot` IN (0, 1)), \n",
      "\tCHECK (`Meal_dessert` IN (0, 1)), \n",
      "\tCHECK (`Meal_brunch` IN (0, 1)), \n",
      "\tCHECK (`Meal_latenight` IN (0, 1)), \n",
      "\tCHECK (`Meal_lunch` IN (0, 1)), \n",
      "\tCHECK (`Meal_dinner` IN (0, 1)), \n",
      "\tCHECK (`Meal_breakfast` IN (0, 1)), \n",
      "\tCHECK (`Best_night_monday` IN (0, 1)), \n",
      "\tCHECK (`Best_night_tuesday` IN (0, 1)), \n",
      "\tCHECK (`Best_night_friday` IN (0, 1)), \n",
      "\tCHECK (`Best_night_wednesday` IN (0, 1)), \n",
      "\tCHECK (`Best_night_thursday` IN (0, 1)), \n",
      "\tCHECK (`Best_night_sunday` IN (0, 1)), \n",
      "\tCHECK (`Best_night_saturday` IN (0, 1)), \n",
      "\tCHECK (`Alcohol_beer_and_wine` IN (0, 1)), \n",
      "\tCHECK (`Alcohol_full_bar` IN (0, 1)), \n",
      "\tCHECK (`Dietary_Restrictions_dairy-free` IN (0, 1)), \n",
      "\tCHECK (`Dietary_Restrictions_gluten-free` IN (0, 1)), \n",
      "\tCHECK (`Dietary_Restrictions_vegan` IN (0, 1)), \n",
      "\tCHECK (`Dietary_Restrictions_kosher` IN (0, 1)), \n",
      "\tCHECK (`Dietary_Restrictions_halal` IN (0, 1)), \n",
      "\tCHECK (`Dietary_Restrictions_soy-free` IN (0, 1)), \n",
      "\tCHECK (`Dietary_Restrictions_vegetarian` IN (0, 1)), \n",
      "\tCHECK (`Music_dj` IN (0, 1)), \n",
      "\tCHECK (`Music_live` IN (0, 1)), \n",
      "\tCHECK (`Music_background_music` IN (0, 1)), \n",
      "\tCHECK (`Music_no_music` IN (0, 1)), \n",
      "\tCHECK (`Music_jukebox` IN (0, 1)), \n",
      "\tCHECK (`Music_video` IN (0, 1)), \n",
      "\tCHECK (`Music_karaoke` IN (0, 1)), \n",
      "\tCHECK (`Noise_quiet` IN (0, 1)), \n",
      "\tCHECK (`Noise_average` IN (0, 1)), \n",
      "\tCHECK (`Noise_loud` IN (0, 1)), \n",
      "\tCHECK (`Noise_very_loud` IN (0, 1)), \n",
      "\tCHECK (`Restaurants_Attire_dressy` IN (0, 1)), \n",
      "\tCHECK (`Restaurants_Attire_casual` IN (0, 1)), \n",
      "\tCHECK (`Restaurants_Attire_formal` IN (0, 1)), \n",
      "\tCHECK (`Smoking_no` IN (0, 1)), \n",
      "\tCHECK (`Smoking_outdoor` IN (0, 1)), \n",
      "\tCHECK (`Smoking_yes` IN (0, 1))\n",
      ")\n",
      "\n",
      "\n",
      "2019-07-18 11:31:44,044 INFO sqlalchemy.engine.base.Engine {}\n",
      "2019-07-18 11:31:44,259 INFO sqlalchemy.engine.base.Engine COMMIT\n",
      "2019-07-18 11:31:44,260 INFO sqlalchemy.engine.base.Engine CREATE INDEX `ix_restaurant_Restaurant_id` ON restaurant (`Restaurant_id`)\n",
      "2019-07-18 11:31:44,261 INFO sqlalchemy.engine.base.Engine {}\n",
      "2019-07-18 11:31:44,444 INFO sqlalchemy.engine.base.Engine COMMIT\n",
      "2019-07-18 11:31:44,475 INFO sqlalchemy.engine.base.Engine BEGIN (implicit)\n",
      "2019-07-18 11:31:45,486 INFO sqlalchemy.engine.base.Engine INSERT INTO restaurant (`Restaurant_id`, `Name`, `Address`, `Postal_code`, `City`, `Latitude`, `Longitude`, `Stars`, `Monday_open`, `Monday_close`, `Tuesday_open`, `Tuesday_close`, `Wednesday_open`, `Wednesday_close`, `Thursday_open`, `Thursday_close`, `Friday_open`, `Friday_close`, `Saturday_open`, `Saturday_close`, `Sunday_open`, `Sunday_close`, `Category_ids`, `Over_19`, `BYOBCorkage`, `BikeParking`, `BusinessAcceptsCreditCards`, `CoatCheck`, `DogsAllowed`, `GoodForDancing`, `GoodForKids`, `HappyHour`, `HasTV`, `OutdoorSeating`, `RestaurantsCounterService`, `RestaurantsGoodForGroups`, `RestaurantsPriceRange2`, `RestaurantsTableService`, `RestaurantsTakeOut`, `WheelchairAccessible`, `Ambience_romantic`, `Ambience_touristy`, `Ambience_hipster`, `Ambience_intimate`, `Ambience_classy`, `Ambience_upscale`, `Ambience_divey`, `Ambience_trendy`, `Ambience_casual`, `Parking_garage`, `Parking_valet`, `Parking_street`, `Parking_validated`, `Parking_lot`, `Meal_dessert`, `Meal_brunch`, `Meal_latenight`, `Meal_lunch`, `Meal_dinner`, `Meal_breakfast`, `Best_night_monday`, `Best_night_tuesday`, `Best_night_friday`, `Best_night_wednesday`, `Best_night_thursday`, `Best_night_sunday`, `Best_night_saturday`, `Alcohol_beer_and_wine`, `Alcohol_full_bar`, `Dietary_Restrictions_dairy-free`, `Dietary_Restrictions_gluten-free`, `Dietary_Restrictions_vegan`, `Dietary_Restrictions_kosher`, `Dietary_Restrictions_halal`, `Dietary_Restrictions_soy-free`, `Dietary_Restrictions_vegetarian`, `Music_dj`, `Music_live`, `Music_background_music`, `Music_no_music`, `Music_jukebox`, `Music_video`, `Music_karaoke`, `Noise_quiet`, `Noise_average`, `Noise_loud`, `Noise_very_loud`, `Restaurants_Attire_dressy`, `Restaurants_Attire_casual`, `Restaurants_Attire_formal`, `Smoking_no`, `Smoking_outdoor`, `Smoking_yes`) VALUES (%(Restaurant_id)s, %(Name)s, %(Address)s, %(Postal_code)s, %(City)s, %(Latitude)s, %(Longitude)s, %(Stars)s, %(Monday_open)s, %(Monday_close)s, %(Tuesday_open)s, %(Tuesday_close)s, %(Wednesday_open)s, %(Wednesday_close)s, %(Thursday_open)s, %(Thursday_close)s, %(Friday_open)s, %(Friday_close)s, %(Saturday_open)s, %(Saturday_close)s, %(Sunday_open)s, %(Sunday_close)s, %(Category_ids)s, %(Over_19)s, %(BYOBCorkage)s, %(BikeParking)s, %(BusinessAcceptsCreditCards)s, %(CoatCheck)s, %(DogsAllowed)s, %(GoodForDancing)s, %(GoodForKids)s, %(HappyHour)s, %(HasTV)s, %(OutdoorSeating)s, %(RestaurantsCounterService)s, %(RestaurantsGoodForGroups)s, %(RestaurantsPriceRange2)s, %(RestaurantsTableService)s, %(RestaurantsTakeOut)s, %(WheelchairAccessible)s, %(Ambience_romantic)s, %(Ambience_touristy)s, %(Ambience_hipster)s, %(Ambience_intimate)s, %(Ambience_classy)s, %(Ambience_upscale)s, %(Ambience_divey)s, %(Ambience_trendy)s, %(Ambience_casual)s, %(Parking_garage)s, %(Parking_valet)s, %(Parking_street)s, %(Parking_validated)s, %(Parking_lot)s, %(Meal_dessert)s, %(Meal_brunch)s, %(Meal_latenight)s, %(Meal_lunch)s, %(Meal_dinner)s, %(Meal_breakfast)s, %(Best_night_monday)s, %(Best_night_tuesday)s, %(Best_night_friday)s, %(Best_night_wednesday)s, %(Best_night_thursday)s, %(Best_night_sunday)s, %(Best_night_saturday)s, %(Alcohol_beer_and_wine)s, %(Alcohol_full_bar)s, %(Dietary_Restrictions_dairy-free)s, %(Dietary_Restrictions_gluten-free)s, %(Dietary_Restrictions_vegan)s, %(Dietary_Restrictions_kosher)s, %(Dietary_Restrictions_halal)s, %(Dietary_Restrictions_soy-free)s, %(Dietary_Restrictions_vegetarian)s, %(Music_dj)s, %(Music_live)s, %(Music_background_music)s, %(Music_no_music)s, %(Music_jukebox)s, %(Music_video)s, %(Music_karaoke)s, %(Noise_quiet)s, %(Noise_average)s, %(Noise_loud)s, %(Noise_very_loud)s, %(Restaurants_Attire_dressy)s, %(Restaurants_Attire_casual)s, %(Restaurants_Attire_formal)s, %(Smoking_no)s, %(Smoking_outdoor)s, %(Smoking_yes)s)\n",
      "2019-07-18 11:31:45,487 INFO sqlalchemy.engine.base.Engine ({'Restaurant_id': 0, 'Name': 'Emerald Chinese Restaurant', 'Address': '30 Eglinton Avenue W', 'Postal_code': 'L5R 3E7', 'City': 'Mississauga', 'Latitude': 43.6054989743, 'Longitude': -79.652288909, 'Stars': 2.5, 'Monday_open': '9:00', 'Monday_close': '0:00', 'Tuesday_open': '9:00', 'Tuesday_close': '0:00', 'Wednesday_open': '9:00', 'Wednesday_close': '0:00', 'Thursday_open': '9:00', 'Thursday_close': '0:00', 'Friday_open': '9:00', 'Friday_close': '1:00', 'Saturday_open': '9:00', 'Saturday_close': '1:00', 'Sunday_open': '9:00', 'Sunday_close': '0:00', 'Category_ids': '137,150,36,50,84', 'Over_19': 0, 'BYOBCorkage': 0, 'BikeParking': 0, 'BusinessAcceptsCreditCards': 0, 'CoatCheck': 0, 'DogsAllowed': 0, 'GoodForDancing': 0, 'GoodForKids': 1, 'HappyHour': 0, 'HasTV': 0, 'OutdoorSeating': 0, 'RestaurantsCounterService': 0, 'RestaurantsGoodForGroups': 1, 'RestaurantsPriceRange2': 2.0, 'RestaurantsTableService': 1, 'RestaurantsTakeOut': 1, 'WheelchairAccessible': 0, 'Ambience_romantic': 0, 'Ambience_touristy': 0, 'Ambience_hipster': 0, 'Ambience_intimate': 0, 'Ambience_classy': 0, 'Ambience_upscale': 0, 'Ambience_divey': 0, 'Ambience_trendy': 0, 'Ambience_casual': 1, 'Parking_garage': 0, 'Parking_valet': 0, 'Parking_street': 0, 'Parking_validated': 0, 'Parking_lot': 1, 'Meal_dessert': 0, 'Meal_brunch': 0, 'Meal_latenight': 0, 'Meal_lunch': 1, 'Meal_dinner': 1, 'Meal_breakfast': 0, 'Best_night_monday': 0, 'Best_night_tuesday': 0, 'Best_night_friday': 0, 'Best_night_wednesday': 0, 'Best_night_thursday': 0, 'Best_night_sunday': 0, 'Best_night_saturday': 0, 'Alcohol_beer_and_wine': 0, 'Alcohol_full_bar': 1, 'Dietary_Restrictions_dairy-free': 0, 'Dietary_Restrictions_gluten-free': 0, 'Dietary_Restrictions_vegan': 0, 'Dietary_Restrictions_kosher': 0, 'Dietary_Restrictions_halal': 0, 'Dietary_Restrictions_soy-free': 0, 'Dietary_Restrictions_vegetarian': 0, 'Music_dj': 0, 'Music_live': 0, 'Music_background_music': 0, 'Music_no_music': 0, 'Music_jukebox': 0, 'Music_video': 0, 'Music_karaoke': 0, 'Noise_quiet': 0, 'Noise_average': 0, 'Noise_loud': 1, 'Noise_very_loud': 0, 'Restaurants_Attire_dressy': 0, 'Restaurants_Attire_casual': 1, 'Restaurants_Attire_formal': 0, 'Smoking_no': 0, 'Smoking_outdoor': 0, 'Smoking_yes': 0}, {'Restaurant_id': 1, 'Name': 'Bolt Fresh Bar', 'Address': '1170 Queen Street W', 'Postal_code': 'M6J 1J5', 'City': 'Toronto', 'Latitude': 43.6428886, 'Longitude': -79.4254291, 'Stars': 3.0, 'Monday_open': '8:00', 'Monday_close': '21:00', 'Tuesday_open': '8:00', 'Tuesday_close': '21:00', 'Wednesday_open': '8:00', 'Wednesday_close': '21:00', 'Thursday_open': '8:00', 'Thursday_close': '21:00', 'Friday_open': '8:00', 'Friday_close': '21:00', 'Saturday_open': '9:00', 'Saturday_close': '21:00', 'Sunday_open': '9:00', 'Sunday_close': '21:00', 'Category_ids': '176,59,95', 'Over_19': 0, 'BYOBCorkage': 0, 'BikeParking': 1, 'BusinessAcceptsCreditCards': 0, 'CoatCheck': 0, 'DogsAllowed': 0, 'GoodForDancing': 0, 'GoodForKids': 0, 'HappyHour': 0, 'HasTV': 0, 'OutdoorSeating': 0, 'RestaurantsCounterService': 0, 'RestaurantsGoodForGroups': 0, 'RestaurantsPriceRange2': 2.0, 'RestaurantsTableService': 0, 'RestaurantsTakeOut': 1, 'WheelchairAccessible': 0, 'Ambience_romantic': 0, 'Ambience_touristy': 0, 'Ambience_hipster': 0, 'Ambience_intimate': 0, 'Ambience_classy': 0, 'Ambience_upscale': 0, 'Ambience_divey': 0, 'Ambience_trendy': 0, 'Ambience_casual': 0, 'Parking_garage': 0, 'Parking_valet': 0, 'Parking_street': 1, 'Parking_validated': 0, 'Parking_lot': 0, 'Meal_dessert': 0, 'Meal_brunch': 0, 'Meal_latenight': 0, 'Meal_lunch': 0, 'Meal_dinner': 0, 'Meal_breakfast': 0, 'Best_night_monday': 0, 'Best_night_tuesday': 0, 'Best_night_friday': 0, 'Best_night_wednesday': 0, 'Best_night_thursday': 0, 'Best_night_sunday': 0, 'Best_night_saturday': 0, 'Alcohol_beer_and_wine': 0, 'Alcohol_full_bar': 0, 'Dietary_Restrictions_dairy-free': 0, 'Dietary_Restrictions_gluten-free': 0, 'Dietary_Restrictions_vegan': 0, 'Dietary_Restrictions_kosher': 0, 'Dietary_Restrictions_halal': 0, 'Dietary_Restrictions_soy-free': 0, 'Dietary_Restrictions_vegetarian': 0, 'Music_dj': 0, 'Music_live': 0, 'Music_background_music': 0, 'Music_no_music': 0, 'Music_jukebox': 0, 'Music_video': 0, 'Music_karaoke': 0, 'Noise_quiet': 0, 'Noise_average': 0, 'Noise_loud': 0, 'Noise_very_loud': 0, 'Restaurants_Attire_dressy': 0, 'Restaurants_Attire_casual': 0, 'Restaurants_Attire_formal': 0, 'Smoking_no': 0, 'Smoking_outdoor': 0, 'Smoking_yes': 0}, {'Restaurant_id': 2, 'Name': 'The Steady Cafe  Bar', 'Address': '1051 Bloor Street W', 'Postal_code': 'M6H 1M4', 'City': 'Toronto', 'Latitude': 43.6604937, 'Longitude': -79.432099, 'Stars': 3.5, 'Monday_open': None, 'Monday_close': None, 'Tuesday_open': '9:00', 'Tuesday_close': '18:00', 'Wednesday_open': '9:00', 'Wednesday_close': '18:00', 'Thursday_open': '9:00', 'Thursday_close': '18:00', 'Friday_open': '9:00', 'Friday_close': '2:00', 'Saturday_open': '10:00', 'Saturday_close': '2:00', 'Sunday_open': '10:00', 'Sunday_close': '15:00', 'Category_ids': '148,162,176,19,39', 'Over_19': 0, 'BYOBCorkage': 0, 'BikeParking': 1, 'BusinessAcceptsCreditCards': 0, 'CoatCheck': 0, 'DogsAllowed': 0, 'GoodForDancing': 0, 'GoodForKids': 0, 'HappyHour': 0, 'HasTV': 0, 'OutdoorSeating': 0, 'RestaurantsCounterService': 0, 'RestaurantsGoodForGroups': 1, 'RestaurantsPriceRange2': 2.0, 'RestaurantsTableService': 0, 'RestaurantsTakeOut': 0, 'WheelchairAccessible': 0, 'Ambience_romantic': 0, 'Ambience_touristy': 0, 'Ambience_hipster': 0, 'Ambience_intimate': 0, 'Ambience_classy': 0, 'Ambience_upscale': 0, 'Ambience_divey': 0, 'Ambience_trendy': 0, 'Ambience_casual': 1, 'Parking_garage': 0, 'Parking_valet': 0, 'Parking_street': 1, 'Parking_validated': 0, 'Parking_lot': 0, 'Meal_dessert': 0, 'Meal_brunch': 0, 'Meal_latenight': 0, 'Meal_lunch': 0, 'Meal_dinner': 0, 'Meal_breakfast': 0, 'Best_night_monday': 0, 'Best_night_tuesday': 0, 'Best_night_friday': 0, 'Best_night_wednesday': 0, 'Best_night_thursday': 0, 'Best_night_sunday': 0, 'Best_night_saturday': 0, 'Alcohol_beer_and_wine': 0, 'Alcohol_full_bar': 1, 'Dietary_Restrictions_dairy-free': 0, 'Dietary_Restrictions_gluten-free': 0, 'Dietary_Restrictions_vegan': 0, 'Dietary_Restrictions_kosher': 0, 'Dietary_Restrictions_halal': 0, 'Dietary_Restrictions_soy-free': 0, 'Dietary_Restrictions_vegetarian': 0, 'Music_dj': 0, 'Music_live': 0, 'Music_background_music': 0, 'Music_no_music': 0, 'Music_jukebox': 0, 'Music_video': 0, 'Music_karaoke': 0, 'Noise_quiet': 0, 'Noise_average': 1, 'Noise_loud': 0, 'Noise_very_loud': 0, 'Restaurants_Attire_dressy': 0, 'Restaurants_Attire_casual': 1, 'Restaurants_Attire_formal': 0, 'Smoking_no': 0, 'Smoking_outdoor': 0, 'Smoking_yes': 0}, {'Restaurant_id': 3, 'Name': 'Mad Crush Wine Bar', 'Address': '582 College Street', 'Postal_code': 'M6G 1B3', 'City': 'Toronto', 'Latitude': 43.6554201, 'Longitude': -79.4133518, 'Stars': 4.0, 'Monday_open': None, 'Monday_close': None, 'Tuesday_open': None, 'Tuesday_close': None, 'Wednesday_open': None, 'Wednesday_close': None, 'Thursday_open': '18:00', 'Thursday_close': '2:00', 'Friday_open': '18:00', 'Friday_close': '2:00', 'Saturday_open': '18:00', 'Saturday_close': '2:00', 'Sunday_open': None, 'Sunday_close': None, 'Category_ids': '113,182,19', 'Over_19': 0, 'BYOBCorkage': 0, 'BikeParking': 1, 'BusinessAcceptsCreditCards': 0, 'CoatCheck': 0, 'DogsAllowed': 0, 'GoodForDancing': 0, 'GoodForKids': 0, 'HappyHour': 0, 'HasTV': 0, 'OutdoorSeating': 1, 'RestaurantsCounterService': 0, 'RestaurantsGoodForGroups': 1, 'RestaurantsPriceRange2': 3.0, 'RestaurantsTableService': 1, 'RestaurantsTakeOut': 1, 'WheelchairAccessible': 1, 'Ambience_romantic': 0, 'Ambience_touristy': 0, 'Ambience_hipster': 0, 'Ambience_intimate': 0, 'Ambience_classy': 0, 'Ambience_upscale': 0, 'Ambience_divey': 0, 'Ambience_trendy': 0, 'Ambience_casual': 0, 'Parking_garage': 0, 'Parking_valet': 0, 'Parking_street': 1, 'Parking_validated': 0, 'Parking_lot': 0, 'Meal_dessert': 0, 'Meal_brunch': 0, 'Meal_latenight': 0, 'Meal_lunch': 0, 'Meal_dinner': 0, 'Meal_breakfast': 0, 'Best_night_monday': 0, 'Best_night_tuesday': 0, 'Best_night_friday': 0, 'Best_night_wednesday': 0, 'Best_night_thursday': 0, 'Best_night_sunday': 1, 'Best_night_saturday': 0, 'Alcohol_beer_and_wine': 0, 'Alcohol_full_bar': 1, 'Dietary_Restrictions_dairy-free': 0, 'Dietary_Restrictions_gluten-free': 0, 'Dietary_Restrictions_vegan': 0, 'Dietary_Restrictions_kosher': 0, 'Dietary_Restrictions_halal': 0, 'Dietary_Restrictions_soy-free': 0, 'Dietary_Restrictions_vegetarian': 0, 'Music_dj': 0, 'Music_live': 0, 'Music_background_music': 0, 'Music_no_music': 0, 'Music_jukebox': 0, 'Music_video': 0, 'Music_karaoke': 0, 'Noise_quiet': 0, 'Noise_average': 0, 'Noise_loud': 0, 'Noise_very_loud': 0, 'Restaurants_Attire_dressy': 1, 'Restaurants_Attire_casual': 0, 'Restaurants_Attire_formal': 0, 'Smoking_no': 0, 'Smoking_outdoor': 0, 'Smoking_yes': 0}, {'Restaurant_id': 4, 'Name': 'Buk Chang Dong Soon Tofu', 'Address': '3085 Hurontario Street', 'Postal_code': 'L5A', 'City': 'Mississauga', 'Latitude': 43.582262, 'Longitude': -79.618858, 'Stars': 4.0, 'Monday_open': '11:00', 'Monday_close': '22:00', 'Tuesday_open': '11:00', 'Tuesday_close': '22:00', 'Wednesday_open': '11:00', 'Wednesday_close': '22:00', 'Thursday_open': '11:00', 'Thursday_close': '22:00', 'Friday_open': '11:00', 'Friday_close': '22:00', 'Saturday_open': '11:00', 'Saturday_close': '22:00', 'Sunday_open': '11:00', 'Sunday_close': '22:00', 'Category_ids': '98', 'Over_19': 0, 'BYOBCorkage': 0, 'BikeParking': 1, 'BusinessAcceptsCreditCards': 0, 'CoatCheck': 0, 'DogsAllowed': 0, 'GoodForDancing': 0, 'GoodForKids': 1, 'HappyHour': 0, 'HasTV': 0, 'OutdoorSeating': 0, 'RestaurantsCounterService': 0, 'RestaurantsGoodForGroups': 1, 'RestaurantsPriceRange2': 1.0, 'RestaurantsTableService': 1, 'RestaurantsTakeOut': 1, 'WheelchairAccessible': 0, 'Ambience_romantic': 0, 'Ambience_touristy': 0, 'Ambience_hipster': 0, 'Ambience_intimate': 0, 'Ambience_classy': 0, 'Ambience_upscale': 0, 'Ambience_divey': 0, 'Ambience_trendy': 0, 'Ambience_casual': 1, 'Parking_garage': 0, 'Parking_valet': 0, 'Parking_street': 0, 'Parking_validated': 0, 'Parking_lot': 1, 'Meal_dessert': 0, 'Meal_brunch': 0, 'Meal_latenight': 0, 'Meal_lunch': 1, 'Meal_dinner': 1, 'Meal_breakfast': 0, 'Best_night_monday': 0, 'Best_night_tuesday': 0, 'Best_night_friday': 0, 'Best_night_wednesday': 0, 'Best_night_thursday': 0, 'Best_night_sunday': 0, 'Best_night_saturday': 0, 'Alcohol_beer_and_wine': 0, 'Alcohol_full_bar': 0, 'Dietary_Restrictions_dairy-free': 0, 'Dietary_Restrictions_gluten-free': 0, 'Dietary_Restrictions_vegan': 0, 'Dietary_Restrictions_kosher': 0, 'Dietary_Restrictions_halal': 0, 'Dietary_Restrictions_soy-free': 0, 'Dietary_Restrictions_vegetarian': 0, 'Music_dj': 0, 'Music_live': 0, 'Music_background_music': 0, 'Music_no_music': 0, 'Music_jukebox': 0, 'Music_video': 0, 'Music_karaoke': 0, 'Noise_quiet': 0, 'Noise_average': 1, 'Noise_loud': 0, 'Noise_very_loud': 0, 'Restaurants_Attire_dressy': 0, 'Restaurants_Attire_casual': 1, 'Restaurants_Attire_formal': 0, 'Smoking_no': 0, 'Smoking_outdoor': 0, 'Smoking_yes': 0}, {'Restaurant_id': 5, 'Name': 'The Sweet Gallery', 'Address': '350 Bering Avenue', 'Postal_code': 'M8Z 3A9', 'City': 'Etobicoke', 'Latitude': 43.637329, 'Longitude': -79.5311665, 'Stars': 4.0, 'Monday_open': None, 'Monday_close': None, 'Tuesday_open': '8:00', 'Tuesday_close': '18:00', 'Wednesday_open': '8:00', 'Wednesday_close': '18:00', 'Thursday_open': '8:00', 'Thursday_close': '18:00', 'Friday_open': '8:00', 'Friday_close': '18:00', 'Saturday_open': '8:00', 'Saturday_close': '18:00', 'Sunday_open': None, 'Sunday_close': None, 'Category_ids': '134,19,26,39,49', 'Over_19': 0, 'BYOBCorkage': 0, 'BikeParking': 1, 'BusinessAcceptsCreditCards': 0, 'CoatCheck': 0, 'DogsAllowed': 0, 'GoodForDancing': 0, 'GoodForKids': 1, 'HappyHour': 0, 'HasTV': 0, 'OutdoorSeating': 1, 'RestaurantsCounterService': 0, 'RestaurantsGoodForGroups': 1, 'RestaurantsPriceRange2': 2.0, 'RestaurantsTableService': 1, 'RestaurantsTakeOut': 1, 'WheelchairAccessible': 0, 'Ambience_romantic': 0, 'Ambience_touristy': 0, 'Ambience_hipster': 0, 'Ambience_intimate': 0, 'Ambience_classy': 0, 'Ambience_upscale': 0, 'Ambience_divey': 0, 'Ambience_trendy': 0, 'Ambience_casual': 0, 'Parking_garage': 0, 'Parking_valet': 0, 'Parking_street': 1, 'Parking_validated': 0, 'Parking_lot': 1, 'Meal_dessert': 0, 'Meal_brunch': 0, 'Meal_latenight': 0, 'Meal_lunch': 0, 'Meal_dinner': 0, 'Meal_breakfast': 0, 'Best_night_monday': 0, 'Best_night_tuesday': 0, 'Best_night_friday': 0, 'Best_night_wednesday': 0, 'Best_night_thursday': 0, 'Best_night_sunday': 0, 'Best_night_saturday': 0, 'Alcohol_beer_and_wine': 0, 'Alcohol_full_bar': 0, 'Dietary_Restrictions_dairy-free': 0, 'Dietary_Restrictions_gluten-free': 0, 'Dietary_Restrictions_vegan': 0, 'Dietary_Restrictions_kosher': 0, 'Dietary_Restrictions_halal': 0, 'Dietary_Restrictions_soy-free': 0, 'Dietary_Restrictions_vegetarian': 0, 'Music_dj': 0, 'Music_live': 0, 'Music_background_music': 0, 'Music_no_music': 0, 'Music_jukebox': 0, 'Music_video': 0, 'Music_karaoke': 0, 'Noise_quiet': 1, 'Noise_average': 0, 'Noise_loud': 0, 'Noise_very_loud': 0, 'Restaurants_Attire_dressy': 0, 'Restaurants_Attire_casual': 1, 'Restaurants_Attire_formal': 0, 'Smoking_no': 0, 'Smoking_outdoor': 0, 'Smoking_yes': 0}, {'Restaurant_id': 6, 'Name': 'Burrito Bandidos', 'Address': '1614 Queen Street E', 'Postal_code': 'M4L 1G4', 'City': 'Toronto', 'Latitude': 43.6661812, 'Longitude': -79.3164682, 'Stars': 3.5, 'Monday_open': '11:00', 'Monday_close': '23:00', 'Tuesday_open': '11:00', 'Tuesday_close': '23:00', 'Wednesday_open': '11:00', 'Wednesday_close': '23:00', 'Thursday_open': '11:00', 'Thursday_close': '23:00', 'Friday_open': '11:00', 'Friday_close': '23:00', 'Saturday_open': '12:00', 'Saturday_close': '23:00', 'Sunday_open': '12:00', 'Sunday_close': '22:00', 'Category_ids': '109,167', 'Over_19': 0, 'BYOBCorkage': 0, 'BikeParking': 1, 'BusinessAcceptsCreditCards': 0, 'CoatCheck': 0, 'DogsAllowed': 0, 'GoodForDancing': 0, 'GoodForKids': 1, 'HappyHour': 0, 'HasTV': 0, 'OutdoorSeating': 0, 'RestaurantsCounterService': 0, 'RestaurantsGoodForGroups': 1, 'RestaurantsPriceRange2': 2.0, 'RestaurantsTableService': 0, 'RestaurantsTakeOut': 1, 'WheelchairAccessible': 0, 'Ambience_romantic': 0, 'Ambience_touristy': 0, 'Ambience_hipster': 0, 'Ambience_intimate': 0, 'Ambience_classy': 0, 'Ambience_upscale': 0, 'Ambience_divey': 0, 'Ambience_trendy': 0, 'Ambience_casual': 1, 'Parking_garage': 0, 'Parking_valet': 0, 'Parking_street': 1, 'Parking_validated': 0, 'Parking_lot': 0, 'Meal_dessert': 0, 'Meal_brunch': 0, 'Meal_latenight': 0, 'Meal_lunch': 0, 'Meal_dinner': 0, 'Meal_breakfast': 0, 'Best_night_monday': 0, 'Best_night_tuesday': 0, 'Best_night_friday': 0, 'Best_night_wednesday': 0, 'Best_night_thursday': 0, 'Best_night_sunday': 0, 'Best_night_saturday': 0, 'Alcohol_beer_and_wine': 0, 'Alcohol_full_bar': 0, 'Dietary_Restrictions_dairy-free': 0, 'Dietary_Restrictions_gluten-free': 0, 'Dietary_Restrictions_vegan': 0, 'Dietary_Restrictions_kosher': 0, 'Dietary_Restrictions_halal': 0, 'Dietary_Restrictions_soy-free': 0, 'Dietary_Restrictions_vegetarian': 0, 'Music_dj': 0, 'Music_live': 0, 'Music_background_music': 0, 'Music_no_music': 0, 'Music_jukebox': 0, 'Music_video': 0, 'Music_karaoke': 0, 'Noise_quiet': 0, 'Noise_average': 1, 'Noise_loud': 0, 'Noise_very_loud': 0, 'Restaurants_Attire_dressy': 0, 'Restaurants_Attire_casual': 1, 'Restaurants_Attire_formal': 0, 'Smoking_no': 0, 'Smoking_outdoor': 0, 'Smoking_yes': 0}, {'Restaurant_id': 7, 'Name': 'Fabulous Cakes and Confections Inc', 'Address': '4300 Steeles Avenue W, Unit 9', 'Postal_code': 'L4L 4C2', 'City': 'Vaughan', 'Latitude': 43.7675451093, 'Longitude': -79.5617757296, 'Stars': 3.5, 'Monday_open': None, 'Monday_close': None, 'Tuesday_open': '12:00', 'Tuesday_close': '17:00', 'Wednesday_open': '12:00', 'Wednesday_close': '17:00', 'Thursday_open': '12:00', 'Thursday_close': '17:00', 'Friday_open': '12:00', 'Friday_close': '17:00', 'Saturday_open': '12:00', 'Saturday_close': '17:00', 'Sunday_open': None, 'Sunday_close': None, 'Category_ids': '49', 'Over_19': 0, 'BYOBCorkage': 0, 'BikeParking': 0, 'BusinessAcceptsCreditCards': 0, 'CoatCheck': 0, 'DogsAllowed': 0, 'GoodForDancing': 0, 'GoodForKids': 0, 'HappyHour': 0, 'HasTV': 0, 'OutdoorSeating': 0, 'RestaurantsCounterService': 0, 'RestaurantsGoodForGroups': 0, 'RestaurantsPriceRange2': 2.0, 'RestaurantsTableService': 0, 'RestaurantsTakeOut': 0, 'WheelchairAccessible': 0, 'Ambience_romantic': 0, 'Ambience_touristy': 0, 'Ambience_hipster': 0, 'Ambience_intimate': 0, 'Ambience_classy': 0, 'Ambience_upscale': 0, 'Ambience_divey': 0, 'Ambience_trendy': 0, 'Ambience_casual': 0, 'Parking_garage': 0, 'Parking_valet': 0, 'Parking_street': 0, 'Parking_validated': 0, 'Parking_lot': 0, 'Meal_dessert': 0, 'Meal_brunch': 0, 'Meal_latenight': 0, 'Meal_lunch': 0, 'Meal_dinner': 0, 'Meal_breakfast': 0, 'Best_night_monday': 0, 'Best_night_tuesday': 0, 'Best_night_friday': 0, 'Best_night_wednesday': 0, 'Best_night_thursday': 0, 'Best_night_sunday': 0, 'Best_night_saturday': 0, 'Alcohol_beer_and_wine': 0, 'Alcohol_full_bar': 0, 'Dietary_Restrictions_dairy-free': 0, 'Dietary_Restrictions_gluten-free': 0, 'Dietary_Restrictions_vegan': 0, 'Dietary_Restrictions_kosher': 0, 'Dietary_Restrictions_halal': 0, 'Dietary_Restrictions_soy-free': 0, 'Dietary_Restrictions_vegetarian': 0, 'Music_dj': 0, 'Music_live': 0, 'Music_background_music': 0, 'Music_no_music': 0, 'Music_jukebox': 0, 'Music_video': 0, 'Music_karaoke': 0, 'Noise_quiet': 0, 'Noise_average': 0, 'Noise_loud': 0, 'Noise_very_loud': 0, 'Restaurants_Attire_dressy': 0, 'Restaurants_Attire_casual': 0, 'Restaurants_Attire_formal': 0, 'Smoking_no': 0, 'Smoking_outdoor': 0, 'Smoking_yes': 0}  ... displaying 10 of 12220 total bound parameter sets ...  {'Restaurant_id': 12218, 'Name': 'Thai Fantasy', 'Address': '578 Yonge Street', 'Postal_code': 'M4Y 1Z3', 'City': 'Toronto', 'Latitude': 43.6651203, 'Longitude': -79.3848093, 'Stars': 4.0, 'Monday_open': '0:00', 'Monday_close': '0:00', 'Tuesday_open': '11:00', 'Tuesday_close': '23:00', 'Wednesday_open': '11:00', 'Wednesday_close': '23:00', 'Thursday_open': '11:00', 'Thursday_close': '23:00', 'Friday_open': '11:00', 'Friday_close': '23:00', 'Saturday_open': '12:00', 'Saturday_close': '23:00', 'Sunday_open': '12:00', 'Sunday_close': '22:00', 'Category_ids': '168', 'Over_19': 0, 'BYOBCorkage': 0, 'BikeParking': 1, 'BusinessAcceptsCreditCards': 1, 'CoatCheck': 0, 'DogsAllowed': 0, 'GoodForDancing': 0, 'GoodForKids': 1, 'HappyHour': 0, 'HasTV': 0, 'OutdoorSeating': 0, 'RestaurantsCounterService': 0, 'RestaurantsGoodForGroups': 1, 'RestaurantsPriceRange2': 2.0, 'RestaurantsTableService': 1, 'RestaurantsTakeOut': 1, 'WheelchairAccessible': 0, 'Ambience_romantic': 0, 'Ambience_touristy': 0, 'Ambience_hipster': 0, 'Ambience_intimate': 0, 'Ambience_classy': 0, 'Ambience_upscale': 0, 'Ambience_divey': 0, 'Ambience_trendy': 0, 'Ambience_casual': 1, 'Parking_garage': 0, 'Parking_valet': 0, 'Parking_street': 1, 'Parking_validated': 0, 'Parking_lot': 0, 'Meal_dessert': 0, 'Meal_brunch': 0, 'Meal_latenight': 0, 'Meal_lunch': 1, 'Meal_dinner': 1, 'Meal_breakfast': 0, 'Best_night_monday': 0, 'Best_night_tuesday': 0, 'Best_night_friday': 0, 'Best_night_wednesday': 0, 'Best_night_thursday': 0, 'Best_night_sunday': 0, 'Best_night_saturday': 0, 'Alcohol_beer_and_wine': 1, 'Alcohol_full_bar': 0, 'Dietary_Restrictions_dairy-free': 0, 'Dietary_Restrictions_gluten-free': 0, 'Dietary_Restrictions_vegan': 0, 'Dietary_Restrictions_kosher': 0, 'Dietary_Restrictions_halal': 0, 'Dietary_Restrictions_soy-free': 0, 'Dietary_Restrictions_vegetarian': 0, 'Music_dj': 0, 'Music_live': 0, 'Music_background_music': 0, 'Music_no_music': 0, 'Music_jukebox': 0, 'Music_video': 0, 'Music_karaoke': 0, 'Noise_quiet': 0, 'Noise_average': 1, 'Noise_loud': 0, 'Noise_very_loud': 0, 'Restaurants_Attire_dressy': 0, 'Restaurants_Attire_casual': 1, 'Restaurants_Attire_formal': 0, 'Smoking_no': 0, 'Smoking_outdoor': 0, 'Smoking_yes': 0}, {'Restaurant_id': 12219, 'Name': 'Asia Hut', 'Address': '1450 Kingston Rd', 'Postal_code': 'L1V 1C1', 'City': 'Pickering', 'Latitude': 43.841844, 'Longitude': -79.083881, 'Stars': 4.5, 'Monday_open': '11:00', 'Monday_close': '21:30', 'Tuesday_open': '11:00', 'Tuesday_close': '21:30', 'Wednesday_open': '11:00', 'Wednesday_close': '21:30', 'Thursday_open': '11:00', 'Thursday_close': '21:30', 'Friday_open': '11:00', 'Friday_close': '22:30', 'Saturday_open': '11:00', 'Saturday_close': '22:30', 'Sunday_open': '16:00', 'Sunday_close': '21:30', 'Category_ids': '146,30,36', 'Over_19': 0, 'BYOBCorkage': 0, 'BikeParking': 1, 'BusinessAcceptsCreditCards': 0, 'CoatCheck': 0, 'DogsAllowed': 0, 'GoodForDancing': 0, 'GoodForKids': 0, 'HappyHour': 0, 'HasTV': 0, 'OutdoorSeating': 0, 'RestaurantsCounterService': 0, 'RestaurantsGoodForGroups': 0, 'RestaurantsPriceRange2': None, 'RestaurantsTableService': 0, 'RestaurantsTakeOut': 1, 'WheelchairAccessible': 0, 'Ambience_romantic': 0, 'Ambience_touristy': 0, 'Ambience_hipster': 0, 'Ambience_intimate': 0, 'Ambience_classy': 0, 'Ambience_upscale': 0, 'Ambience_divey': 0, 'Ambience_trendy': 0, 'Ambience_casual': 0, 'Parking_garage': 0, 'Parking_valet': 0, 'Parking_street': 0, 'Parking_validated': 0, 'Parking_lot': 0, 'Meal_dessert': 0, 'Meal_brunch': 0, 'Meal_latenight': 0, 'Meal_lunch': 0, 'Meal_dinner': 0, 'Meal_breakfast': 0, 'Best_night_monday': 0, 'Best_night_tuesday': 0, 'Best_night_friday': 0, 'Best_night_wednesday': 0, 'Best_night_thursday': 0, 'Best_night_sunday': 0, 'Best_night_saturday': 0, 'Alcohol_beer_and_wine': 0, 'Alcohol_full_bar': 0, 'Dietary_Restrictions_dairy-free': 0, 'Dietary_Restrictions_gluten-free': 0, 'Dietary_Restrictions_vegan': 0, 'Dietary_Restrictions_kosher': 0, 'Dietary_Restrictions_halal': 0, 'Dietary_Restrictions_soy-free': 0, 'Dietary_Restrictions_vegetarian': 0, 'Music_dj': 0, 'Music_live': 0, 'Music_background_music': 0, 'Music_no_music': 0, 'Music_jukebox': 0, 'Music_video': 0, 'Music_karaoke': 0, 'Noise_quiet': 0, 'Noise_average': 0, 'Noise_loud': 0, 'Noise_very_loud': 0, 'Restaurants_Attire_dressy': 0, 'Restaurants_Attire_casual': 1, 'Restaurants_Attire_formal': 0, 'Smoking_no': 0, 'Smoking_outdoor': 0, 'Smoking_yes': 0})\n",
      "2019-07-18 11:31:45,851 INFO sqlalchemy.engine.base.Engine ROLLBACK\n"
     ]
    },
    {
     "ename": "InternalError",
     "evalue": "(pymysql.err.InternalError) (1292, \"Incorrect datetime value: '9:00' for column 'Monday_open' at row 1\")\n[SQL: INSERT INTO restaurant (`Restaurant_id`, `Name`, `Address`, `Postal_code`, `City`, `Latitude`, `Longitude`, `Stars`, `Monday_open`, `Monday_close`, `Tuesday_open`, `Tuesday_close`, `Wednesday_open`, `Wednesday_close`, `Thursday_open`, `Thursday_close`, `Friday_open`, `Friday_close`, `Saturday_open`, `Saturday_close`, `Sunday_open`, `Sunday_close`, `Category_ids`, `Over_19`, `BYOBCorkage`, `BikeParking`, `BusinessAcceptsCreditCards`, `CoatCheck`, `DogsAllowed`, `GoodForDancing`, `GoodForKids`, `HappyHour`, `HasTV`, `OutdoorSeating`, `RestaurantsCounterService`, `RestaurantsGoodForGroups`, `RestaurantsPriceRange2`, `RestaurantsTableService`, `RestaurantsTakeOut`, `WheelchairAccessible`, `Ambience_romantic`, `Ambience_touristy`, `Ambience_hipster`, `Ambience_intimate`, `Ambience_classy`, `Ambience_upscale`, `Ambience_divey`, `Ambience_trendy`, `Ambience_casual`, `Parking_garage`, `Parking_valet`, `Parking_street`, `Parking_validated`, `Parking_lot`, `Meal_dessert`, `Meal_brunch`, `Meal_latenight`, `Meal_lunch`, `Meal_dinner`, `Meal_breakfast`, `Best_night_monday`, `Best_night_tuesday`, `Best_night_friday`, `Best_night_wednesday`, `Best_night_thursday`, `Best_night_sunday`, `Best_night_saturday`, `Alcohol_beer_and_wine`, `Alcohol_full_bar`, `Dietary_Restrictions_dairy-free`, `Dietary_Restrictions_gluten-free`, `Dietary_Restrictions_vegan`, `Dietary_Restrictions_kosher`, `Dietary_Restrictions_halal`, `Dietary_Restrictions_soy-free`, `Dietary_Restrictions_vegetarian`, `Music_dj`, `Music_live`, `Music_background_music`, `Music_no_music`, `Music_jukebox`, `Music_video`, `Music_karaoke`, `Noise_quiet`, `Noise_average`, `Noise_loud`, `Noise_very_loud`, `Restaurants_Attire_dressy`, `Restaurants_Attire_casual`, `Restaurants_Attire_formal`, `Smoking_no`, `Smoking_outdoor`, `Smoking_yes`) VALUES (%(Restaurant_id)s, %(Name)s, %(Address)s, %(Postal_code)s, %(City)s, %(Latitude)s, %(Longitude)s, %(Stars)s, %(Monday_open)s, %(Monday_close)s, %(Tuesday_open)s, %(Tuesday_close)s, %(Wednesday_open)s, %(Wednesday_close)s, %(Thursday_open)s, %(Thursday_close)s, %(Friday_open)s, %(Friday_close)s, %(Saturday_open)s, %(Saturday_close)s, %(Sunday_open)s, %(Sunday_close)s, %(Category_ids)s, %(Over_19)s, %(BYOBCorkage)s, %(BikeParking)s, %(BusinessAcceptsCreditCards)s, %(CoatCheck)s, %(DogsAllowed)s, %(GoodForDancing)s, %(GoodForKids)s, %(HappyHour)s, %(HasTV)s, %(OutdoorSeating)s, %(RestaurantsCounterService)s, %(RestaurantsGoodForGroups)s, %(RestaurantsPriceRange2)s, %(RestaurantsTableService)s, %(RestaurantsTakeOut)s, %(WheelchairAccessible)s, %(Ambience_romantic)s, %(Ambience_touristy)s, %(Ambience_hipster)s, %(Ambience_intimate)s, %(Ambience_classy)s, %(Ambience_upscale)s, %(Ambience_divey)s, %(Ambience_trendy)s, %(Ambience_casual)s, %(Parking_garage)s, %(Parking_valet)s, %(Parking_street)s, %(Parking_validated)s, %(Parking_lot)s, %(Meal_dessert)s, %(Meal_brunch)s, %(Meal_latenight)s, %(Meal_lunch)s, %(Meal_dinner)s, %(Meal_breakfast)s, %(Best_night_monday)s, %(Best_night_tuesday)s, %(Best_night_friday)s, %(Best_night_wednesday)s, %(Best_night_thursday)s, %(Best_night_sunday)s, %(Best_night_saturday)s, %(Alcohol_beer_and_wine)s, %(Alcohol_full_bar)s, %(Dietary_Restrictions_dairy-free)s, %(Dietary_Restrictions_gluten-free)s, %(Dietary_Restrictions_vegan)s, %(Dietary_Restrictions_kosher)s, %(Dietary_Restrictions_halal)s, %(Dietary_Restrictions_soy-free)s, %(Dietary_Restrictions_vegetarian)s, %(Music_dj)s, %(Music_live)s, %(Music_background_music)s, %(Music_no_music)s, %(Music_jukebox)s, %(Music_video)s, %(Music_karaoke)s, %(Noise_quiet)s, %(Noise_average)s, %(Noise_loud)s, %(Noise_very_loud)s, %(Restaurants_Attire_dressy)s, %(Restaurants_Attire_casual)s, %(Restaurants_Attire_formal)s, %(Smoking_no)s, %(Smoking_outdoor)s, %(Smoking_yes)s)]\n[parameters: ({'Restaurant_id': 0, 'Name': 'Emerald Chinese Restaurant', 'Address': '30 Eglinton Avenue W', 'Postal_code': 'L5R 3E7', 'City': 'Mississauga', 'Latitude': 43.6054989743, 'Longitude': -79.652288909, 'Stars': 2.5, 'Monday_open': '9:00', 'Monday_close': '0:00', 'Tuesday_open': '9:00', 'Tuesday_close': '0:00', 'Wednesday_open': '9:00', 'Wednesday_close': '0:00', 'Thursday_open': '9:00', 'Thursday_close': '0:00', 'Friday_open': '9:00', 'Friday_close': '1:00', 'Saturday_open': '9:00', 'Saturday_close': '1:00', 'Sunday_open': '9:00', 'Sunday_close': '0:00', 'Category_ids': '137,150,36,50,84', 'Over_19': 0, 'BYOBCorkage': 0, 'BikeParking': 0, 'BusinessAcceptsCreditCards': 0, 'CoatCheck': 0, 'DogsAllowed': 0, 'GoodForDancing': 0, 'GoodForKids': 1, 'HappyHour': 0, 'HasTV': 0, 'OutdoorSeating': 0, 'RestaurantsCounterService': 0, 'RestaurantsGoodForGroups': 1, 'RestaurantsPriceRange2': 2.0, 'RestaurantsTableService': 1, 'RestaurantsTakeOut': 1, 'WheelchairAccessible': 0, 'Ambience_romantic': 0, 'Ambience_touristy': 0, 'Ambience_hipster': 0, 'Ambience_intimate': 0, 'Ambience_classy': 0, 'Ambience_upscale': 0, 'Ambience_divey': 0, 'Ambience_trendy': 0, 'Ambience_casual': 1, 'Parking_garage': 0, 'Parking_valet': 0, 'Parking_street': 0, 'Parking_validated': 0, 'Parking_lot': 1, 'Meal_dessert': 0, 'Meal_brunch': 0, 'Meal_latenight': 0, 'Meal_lunch': 1, 'Meal_dinner': 1, 'Meal_breakfast': 0, 'Best_night_monday': 0, 'Best_night_tuesday': 0, 'Best_night_friday': 0, 'Best_night_wednesday': 0, 'Best_night_thursday': 0, 'Best_night_sunday': 0, 'Best_night_saturday': 0, 'Alcohol_beer_and_wine': 0, 'Alcohol_full_bar': 1, 'Dietary_Restrictions_dairy-free': 0, 'Dietary_Restrictions_gluten-free': 0, 'Dietary_Restrictions_vegan': 0, 'Dietary_Restrictions_kosher': 0, 'Dietary_Restrictions_halal': 0, 'Dietary_Restrictions_soy-free': 0, 'Dietary_Restrictions_vegetarian': 0, 'Music_dj': 0, 'Music_live': 0, 'Music_background_music': 0, 'Music_no_music': 0, 'Music_jukebox': 0, 'Music_video': 0, 'Music_karaoke': 0, 'Noise_quiet': 0, 'Noise_average': 0, 'Noise_loud': 1, 'Noise_very_loud': 0, 'Restaurants_Attire_dressy': 0, 'Restaurants_Attire_casual': 1, 'Restaurants_Attire_formal': 0, 'Smoking_no': 0, 'Smoking_outdoor': 0, 'Smoking_yes': 0}, {'Restaurant_id': 1, 'Name': 'Bolt Fresh Bar', 'Address': '1170 Queen Street W', 'Postal_code': 'M6J 1J5', 'City': 'Toronto', 'Latitude': 43.6428886, 'Longitude': -79.4254291, 'Stars': 3.0, 'Monday_open': '8:00', 'Monday_close': '21:00', 'Tuesday_open': '8:00', 'Tuesday_close': '21:00', 'Wednesday_open': '8:00', 'Wednesday_close': '21:00', 'Thursday_open': '8:00', 'Thursday_close': '21:00', 'Friday_open': '8:00', 'Friday_close': '21:00', 'Saturday_open': '9:00', 'Saturday_close': '21:00', 'Sunday_open': '9:00', 'Sunday_close': '21:00', 'Category_ids': '176,59,95', 'Over_19': 0, 'BYOBCorkage': 0, 'BikeParking': 1, 'BusinessAcceptsCreditCards': 0, 'CoatCheck': 0, 'DogsAllowed': 0, 'GoodForDancing': 0, 'GoodForKids': 0, 'HappyHour': 0, 'HasTV': 0, 'OutdoorSeating': 0, 'RestaurantsCounterService': 0, 'RestaurantsGoodForGroups': 0, 'RestaurantsPriceRange2': 2.0, 'RestaurantsTableService': 0, 'RestaurantsTakeOut': 1, 'WheelchairAccessible': 0, 'Ambience_romantic': 0, 'Ambience_touristy': 0, 'Ambience_hipster': 0, 'Ambience_intimate': 0, 'Ambience_classy': 0, 'Ambience_upscale': 0, 'Ambience_divey': 0, 'Ambience_trendy': 0, 'Ambience_casual': 0, 'Parking_garage': 0, 'Parking_valet': 0, 'Parking_street': 1, 'Parking_validated': 0, 'Parking_lot': 0, 'Meal_dessert': 0, 'Meal_brunch': 0, 'Meal_latenight': 0, 'Meal_lunch': 0, 'Meal_dinner': 0, 'Meal_breakfast': 0, 'Best_night_monday': 0, 'Best_night_tuesday': 0, 'Best_night_friday': 0, 'Best_night_wednesday': 0, 'Best_night_thursday': 0, 'Best_night_sunday': 0, 'Best_night_saturday': 0, 'Alcohol_beer_and_wine': 0, 'Alcohol_full_bar': 0, 'Dietary_Restrictions_dairy-free': 0, 'Dietary_Restrictions_gluten-free': 0, 'Dietary_Restrictions_vegan': 0, 'Dietary_Restrictions_kosher': 0, 'Dietary_Restrictions_halal': 0, 'Dietary_Restrictions_soy-free': 0, 'Dietary_Restrictions_vegetarian': 0, 'Music_dj': 0, 'Music_live': 0, 'Music_background_music': 0, 'Music_no_music': 0, 'Music_jukebox': 0, 'Music_video': 0, 'Music_karaoke': 0, 'Noise_quiet': 0, 'Noise_average': 0, 'Noise_loud': 0, 'Noise_very_loud': 0, 'Restaurants_Attire_dressy': 0, 'Restaurants_Attire_casual': 0, 'Restaurants_Attire_formal': 0, 'Smoking_no': 0, 'Smoking_outdoor': 0, 'Smoking_yes': 0}, {'Restaurant_id': 2, 'Name': 'The Steady Cafe  Bar', 'Address': '1051 Bloor Street W', 'Postal_code': 'M6H 1M4', 'City': 'Toronto', 'Latitude': 43.6604937, 'Longitude': -79.432099, 'Stars': 3.5, 'Monday_open': None, 'Monday_close': None, 'Tuesday_open': '9:00', 'Tuesday_close': '18:00', 'Wednesday_open': '9:00', 'Wednesday_close': '18:00', 'Thursday_open': '9:00', 'Thursday_close': '18:00', 'Friday_open': '9:00', 'Friday_close': '2:00', 'Saturday_open': '10:00', 'Saturday_close': '2:00', 'Sunday_open': '10:00', 'Sunday_close': '15:00', 'Category_ids': '148,162,176,19,39', 'Over_19': 0, 'BYOBCorkage': 0, 'BikeParking': 1, 'BusinessAcceptsCreditCards': 0, 'CoatCheck': 0, 'DogsAllowed': 0, 'GoodForDancing': 0, 'GoodForKids': 0, 'HappyHour': 0, 'HasTV': 0, 'OutdoorSeating': 0, 'RestaurantsCounterService': 0, 'RestaurantsGoodForGroups': 1, 'RestaurantsPriceRange2': 2.0, 'RestaurantsTableService': 0, 'RestaurantsTakeOut': 0, 'WheelchairAccessible': 0, 'Ambience_romantic': 0, 'Ambience_touristy': 0, 'Ambience_hipster': 0, 'Ambience_intimate': 0, 'Ambience_classy': 0, 'Ambience_upscale': 0, 'Ambience_divey': 0, 'Ambience_trendy': 0, 'Ambience_casual': 1, 'Parking_garage': 0, 'Parking_valet': 0, 'Parking_street': 1, 'Parking_validated': 0, 'Parking_lot': 0, 'Meal_dessert': 0, 'Meal_brunch': 0, 'Meal_latenight': 0, 'Meal_lunch': 0, 'Meal_dinner': 0, 'Meal_breakfast': 0, 'Best_night_monday': 0, 'Best_night_tuesday': 0, 'Best_night_friday': 0, 'Best_night_wednesday': 0, 'Best_night_thursday': 0, 'Best_night_sunday': 0, 'Best_night_saturday': 0, 'Alcohol_beer_and_wine': 0, 'Alcohol_full_bar': 1, 'Dietary_Restrictions_dairy-free': 0, 'Dietary_Restrictions_gluten-free': 0, 'Dietary_Restrictions_vegan': 0, 'Dietary_Restrictions_kosher': 0, 'Dietary_Restrictions_halal': 0, 'Dietary_Restrictions_soy-free': 0, 'Dietary_Restrictions_vegetarian': 0, 'Music_dj': 0, 'Music_live': 0, 'Music_background_music': 0, 'Music_no_music': 0, 'Music_jukebox': 0, 'Music_video': 0, 'Music_karaoke': 0, 'Noise_quiet': 0, 'Noise_average': 1, 'Noise_loud': 0, 'Noise_very_loud': 0, 'Restaurants_Attire_dressy': 0, 'Restaurants_Attire_casual': 1, 'Restaurants_Attire_formal': 0, 'Smoking_no': 0, 'Smoking_outdoor': 0, 'Smoking_yes': 0}, {'Restaurant_id': 3, 'Name': 'Mad Crush Wine Bar', 'Address': '582 College Street', 'Postal_code': 'M6G 1B3', 'City': 'Toronto', 'Latitude': 43.6554201, 'Longitude': -79.4133518, 'Stars': 4.0, 'Monday_open': None, 'Monday_close': None, 'Tuesday_open': None, 'Tuesday_close': None, 'Wednesday_open': None, 'Wednesday_close': None, 'Thursday_open': '18:00', 'Thursday_close': '2:00', 'Friday_open': '18:00', 'Friday_close': '2:00', 'Saturday_open': '18:00', 'Saturday_close': '2:00', 'Sunday_open': None, 'Sunday_close': None, 'Category_ids': '113,182,19', 'Over_19': 0, 'BYOBCorkage': 0, 'BikeParking': 1, 'BusinessAcceptsCreditCards': 0, 'CoatCheck': 0, 'DogsAllowed': 0, 'GoodForDancing': 0, 'GoodForKids': 0, 'HappyHour': 0, 'HasTV': 0, 'OutdoorSeating': 1, 'RestaurantsCounterService': 0, 'RestaurantsGoodForGroups': 1, 'RestaurantsPriceRange2': 3.0, 'RestaurantsTableService': 1, 'RestaurantsTakeOut': 1, 'WheelchairAccessible': 1, 'Ambience_romantic': 0, 'Ambience_touristy': 0, 'Ambience_hipster': 0, 'Ambience_intimate': 0, 'Ambience_classy': 0, 'Ambience_upscale': 0, 'Ambience_divey': 0, 'Ambience_trendy': 0, 'Ambience_casual': 0, 'Parking_garage': 0, 'Parking_valet': 0, 'Parking_street': 1, 'Parking_validated': 0, 'Parking_lot': 0, 'Meal_dessert': 0, 'Meal_brunch': 0, 'Meal_latenight': 0, 'Meal_lunch': 0, 'Meal_dinner': 0, 'Meal_breakfast': 0, 'Best_night_monday': 0, 'Best_night_tuesday': 0, 'Best_night_friday': 0, 'Best_night_wednesday': 0, 'Best_night_thursday': 0, 'Best_night_sunday': 1, 'Best_night_saturday': 0, 'Alcohol_beer_and_wine': 0, 'Alcohol_full_bar': 1, 'Dietary_Restrictions_dairy-free': 0, 'Dietary_Restrictions_gluten-free': 0, 'Dietary_Restrictions_vegan': 0, 'Dietary_Restrictions_kosher': 0, 'Dietary_Restrictions_halal': 0, 'Dietary_Restrictions_soy-free': 0, 'Dietary_Restrictions_vegetarian': 0, 'Music_dj': 0, 'Music_live': 0, 'Music_background_music': 0, 'Music_no_music': 0, 'Music_jukebox': 0, 'Music_video': 0, 'Music_karaoke': 0, 'Noise_quiet': 0, 'Noise_average': 0, 'Noise_loud': 0, 'Noise_very_loud': 0, 'Restaurants_Attire_dressy': 1, 'Restaurants_Attire_casual': 0, 'Restaurants_Attire_formal': 0, 'Smoking_no': 0, 'Smoking_outdoor': 0, 'Smoking_yes': 0}, {'Restaurant_id': 4, 'Name': 'Buk Chang Dong Soon Tofu', 'Address': '3085 Hurontario Street', 'Postal_code': 'L5A', 'City': 'Mississauga', 'Latitude': 43.582262, 'Longitude': -79.618858, 'Stars': 4.0, 'Monday_open': '11:00', 'Monday_close': '22:00', 'Tuesday_open': '11:00', 'Tuesday_close': '22:00', 'Wednesday_open': '11:00', 'Wednesday_close': '22:00', 'Thursday_open': '11:00', 'Thursday_close': '22:00', 'Friday_open': '11:00', 'Friday_close': '22:00', 'Saturday_open': '11:00', 'Saturday_close': '22:00', 'Sunday_open': '11:00', 'Sunday_close': '22:00', 'Category_ids': '98', 'Over_19': 0, 'BYOBCorkage': 0, 'BikeParking': 1, 'BusinessAcceptsCreditCards': 0, 'CoatCheck': 0, 'DogsAllowed': 0, 'GoodForDancing': 0, 'GoodForKids': 1, 'HappyHour': 0, 'HasTV': 0, 'OutdoorSeating': 0, 'RestaurantsCounterService': 0, 'RestaurantsGoodForGroups': 1, 'RestaurantsPriceRange2': 1.0, 'RestaurantsTableService': 1, 'RestaurantsTakeOut': 1, 'WheelchairAccessible': 0, 'Ambience_romantic': 0, 'Ambience_touristy': 0, 'Ambience_hipster': 0, 'Ambience_intimate': 0, 'Ambience_classy': 0, 'Ambience_upscale': 0, 'Ambience_divey': 0, 'Ambience_trendy': 0, 'Ambience_casual': 1, 'Parking_garage': 0, 'Parking_valet': 0, 'Parking_street': 0, 'Parking_validated': 0, 'Parking_lot': 1, 'Meal_dessert': 0, 'Meal_brunch': 0, 'Meal_latenight': 0, 'Meal_lunch': 1, 'Meal_dinner': 1, 'Meal_breakfast': 0, 'Best_night_monday': 0, 'Best_night_tuesday': 0, 'Best_night_friday': 0, 'Best_night_wednesday': 0, 'Best_night_thursday': 0, 'Best_night_sunday': 0, 'Best_night_saturday': 0, 'Alcohol_beer_and_wine': 0, 'Alcohol_full_bar': 0, 'Dietary_Restrictions_dairy-free': 0, 'Dietary_Restrictions_gluten-free': 0, 'Dietary_Restrictions_vegan': 0, 'Dietary_Restrictions_kosher': 0, 'Dietary_Restrictions_halal': 0, 'Dietary_Restrictions_soy-free': 0, 'Dietary_Restrictions_vegetarian': 0, 'Music_dj': 0, 'Music_live': 0, 'Music_background_music': 0, 'Music_no_music': 0, 'Music_jukebox': 0, 'Music_video': 0, 'Music_karaoke': 0, 'Noise_quiet': 0, 'Noise_average': 1, 'Noise_loud': 0, 'Noise_very_loud': 0, 'Restaurants_Attire_dressy': 0, 'Restaurants_Attire_casual': 1, 'Restaurants_Attire_formal': 0, 'Smoking_no': 0, 'Smoking_outdoor': 0, 'Smoking_yes': 0}, {'Restaurant_id': 5, 'Name': 'The Sweet Gallery', 'Address': '350 Bering Avenue', 'Postal_code': 'M8Z 3A9', 'City': 'Etobicoke', 'Latitude': 43.637329, 'Longitude': -79.5311665, 'Stars': 4.0, 'Monday_open': None, 'Monday_close': None, 'Tuesday_open': '8:00', 'Tuesday_close': '18:00', 'Wednesday_open': '8:00', 'Wednesday_close': '18:00', 'Thursday_open': '8:00', 'Thursday_close': '18:00', 'Friday_open': '8:00', 'Friday_close': '18:00', 'Saturday_open': '8:00', 'Saturday_close': '18:00', 'Sunday_open': None, 'Sunday_close': None, 'Category_ids': '134,19,26,39,49', 'Over_19': 0, 'BYOBCorkage': 0, 'BikeParking': 1, 'BusinessAcceptsCreditCards': 0, 'CoatCheck': 0, 'DogsAllowed': 0, 'GoodForDancing': 0, 'GoodForKids': 1, 'HappyHour': 0, 'HasTV': 0, 'OutdoorSeating': 1, 'RestaurantsCounterService': 0, 'RestaurantsGoodForGroups': 1, 'RestaurantsPriceRange2': 2.0, 'RestaurantsTableService': 1, 'RestaurantsTakeOut': 1, 'WheelchairAccessible': 0, 'Ambience_romantic': 0, 'Ambience_touristy': 0, 'Ambience_hipster': 0, 'Ambience_intimate': 0, 'Ambience_classy': 0, 'Ambience_upscale': 0, 'Ambience_divey': 0, 'Ambience_trendy': 0, 'Ambience_casual': 0, 'Parking_garage': 0, 'Parking_valet': 0, 'Parking_street': 1, 'Parking_validated': 0, 'Parking_lot': 1, 'Meal_dessert': 0, 'Meal_brunch': 0, 'Meal_latenight': 0, 'Meal_lunch': 0, 'Meal_dinner': 0, 'Meal_breakfast': 0, 'Best_night_monday': 0, 'Best_night_tuesday': 0, 'Best_night_friday': 0, 'Best_night_wednesday': 0, 'Best_night_thursday': 0, 'Best_night_sunday': 0, 'Best_night_saturday': 0, 'Alcohol_beer_and_wine': 0, 'Alcohol_full_bar': 0, 'Dietary_Restrictions_dairy-free': 0, 'Dietary_Restrictions_gluten-free': 0, 'Dietary_Restrictions_vegan': 0, 'Dietary_Restrictions_kosher': 0, 'Dietary_Restrictions_halal': 0, 'Dietary_Restrictions_soy-free': 0, 'Dietary_Restrictions_vegetarian': 0, 'Music_dj': 0, 'Music_live': 0, 'Music_background_music': 0, 'Music_no_music': 0, 'Music_jukebox': 0, 'Music_video': 0, 'Music_karaoke': 0, 'Noise_quiet': 1, 'Noise_average': 0, 'Noise_loud': 0, 'Noise_very_loud': 0, 'Restaurants_Attire_dressy': 0, 'Restaurants_Attire_casual': 1, 'Restaurants_Attire_formal': 0, 'Smoking_no': 0, 'Smoking_outdoor': 0, 'Smoking_yes': 0}, {'Restaurant_id': 6, 'Name': 'Burrito Bandidos', 'Address': '1614 Queen Street E', 'Postal_code': 'M4L 1G4', 'City': 'Toronto', 'Latitude': 43.6661812, 'Longitude': -79.3164682, 'Stars': 3.5, 'Monday_open': '11:00', 'Monday_close': '23:00', 'Tuesday_open': '11:00', 'Tuesday_close': '23:00', 'Wednesday_open': '11:00', 'Wednesday_close': '23:00', 'Thursday_open': '11:00', 'Thursday_close': '23:00', 'Friday_open': '11:00', 'Friday_close': '23:00', 'Saturday_open': '12:00', 'Saturday_close': '23:00', 'Sunday_open': '12:00', 'Sunday_close': '22:00', 'Category_ids': '109,167', 'Over_19': 0, 'BYOBCorkage': 0, 'BikeParking': 1, 'BusinessAcceptsCreditCards': 0, 'CoatCheck': 0, 'DogsAllowed': 0, 'GoodForDancing': 0, 'GoodForKids': 1, 'HappyHour': 0, 'HasTV': 0, 'OutdoorSeating': 0, 'RestaurantsCounterService': 0, 'RestaurantsGoodForGroups': 1, 'RestaurantsPriceRange2': 2.0, 'RestaurantsTableService': 0, 'RestaurantsTakeOut': 1, 'WheelchairAccessible': 0, 'Ambience_romantic': 0, 'Ambience_touristy': 0, 'Ambience_hipster': 0, 'Ambience_intimate': 0, 'Ambience_classy': 0, 'Ambience_upscale': 0, 'Ambience_divey': 0, 'Ambience_trendy': 0, 'Ambience_casual': 1, 'Parking_garage': 0, 'Parking_valet': 0, 'Parking_street': 1, 'Parking_validated': 0, 'Parking_lot': 0, 'Meal_dessert': 0, 'Meal_brunch': 0, 'Meal_latenight': 0, 'Meal_lunch': 0, 'Meal_dinner': 0, 'Meal_breakfast': 0, 'Best_night_monday': 0, 'Best_night_tuesday': 0, 'Best_night_friday': 0, 'Best_night_wednesday': 0, 'Best_night_thursday': 0, 'Best_night_sunday': 0, 'Best_night_saturday': 0, 'Alcohol_beer_and_wine': 0, 'Alcohol_full_bar': 0, 'Dietary_Restrictions_dairy-free': 0, 'Dietary_Restrictions_gluten-free': 0, 'Dietary_Restrictions_vegan': 0, 'Dietary_Restrictions_kosher': 0, 'Dietary_Restrictions_halal': 0, 'Dietary_Restrictions_soy-free': 0, 'Dietary_Restrictions_vegetarian': 0, 'Music_dj': 0, 'Music_live': 0, 'Music_background_music': 0, 'Music_no_music': 0, 'Music_jukebox': 0, 'Music_video': 0, 'Music_karaoke': 0, 'Noise_quiet': 0, 'Noise_average': 1, 'Noise_loud': 0, 'Noise_very_loud': 0, 'Restaurants_Attire_dressy': 0, 'Restaurants_Attire_casual': 1, 'Restaurants_Attire_formal': 0, 'Smoking_no': 0, 'Smoking_outdoor': 0, 'Smoking_yes': 0}, {'Restaurant_id': 7, 'Name': 'Fabulous Cakes and Confections Inc', 'Address': '4300 Steeles Avenue W, Unit 9', 'Postal_code': 'L4L 4C2', 'City': 'Vaughan', 'Latitude': 43.7675451093, 'Longitude': -79.5617757296, 'Stars': 3.5, 'Monday_open': None, 'Monday_close': None, 'Tuesday_open': '12:00', 'Tuesday_close': '17:00', 'Wednesday_open': '12:00', 'Wednesday_close': '17:00', 'Thursday_open': '12:00', 'Thursday_close': '17:00', 'Friday_open': '12:00', 'Friday_close': '17:00', 'Saturday_open': '12:00', 'Saturday_close': '17:00', 'Sunday_open': None, 'Sunday_close': None, 'Category_ids': '49', 'Over_19': 0, 'BYOBCorkage': 0, 'BikeParking': 0, 'BusinessAcceptsCreditCards': 0, 'CoatCheck': 0, 'DogsAllowed': 0, 'GoodForDancing': 0, 'GoodForKids': 0, 'HappyHour': 0, 'HasTV': 0, 'OutdoorSeating': 0, 'RestaurantsCounterService': 0, 'RestaurantsGoodForGroups': 0, 'RestaurantsPriceRange2': 2.0, 'RestaurantsTableService': 0, 'RestaurantsTakeOut': 0, 'WheelchairAccessible': 0, 'Ambience_romantic': 0, 'Ambience_touristy': 0, 'Ambience_hipster': 0, 'Ambience_intimate': 0, 'Ambience_classy': 0, 'Ambience_upscale': 0, 'Ambience_divey': 0, 'Ambience_trendy': 0, 'Ambience_casual': 0, 'Parking_garage': 0, 'Parking_valet': 0, 'Parking_street': 0, 'Parking_validated': 0, 'Parking_lot': 0, 'Meal_dessert': 0, 'Meal_brunch': 0, 'Meal_latenight': 0, 'Meal_lunch': 0, 'Meal_dinner': 0, 'Meal_breakfast': 0, 'Best_night_monday': 0, 'Best_night_tuesday': 0, 'Best_night_friday': 0, 'Best_night_wednesday': 0, 'Best_night_thursday': 0, 'Best_night_sunday': 0, 'Best_night_saturday': 0, 'Alcohol_beer_and_wine': 0, 'Alcohol_full_bar': 0, 'Dietary_Restrictions_dairy-free': 0, 'Dietary_Restrictions_gluten-free': 0, 'Dietary_Restrictions_vegan': 0, 'Dietary_Restrictions_kosher': 0, 'Dietary_Restrictions_halal': 0, 'Dietary_Restrictions_soy-free': 0, 'Dietary_Restrictions_vegetarian': 0, 'Music_dj': 0, 'Music_live': 0, 'Music_background_music': 0, 'Music_no_music': 0, 'Music_jukebox': 0, 'Music_video': 0, 'Music_karaoke': 0, 'Noise_quiet': 0, 'Noise_average': 0, 'Noise_loud': 0, 'Noise_very_loud': 0, 'Restaurants_Attire_dressy': 0, 'Restaurants_Attire_casual': 0, 'Restaurants_Attire_formal': 0, 'Smoking_no': 0, 'Smoking_outdoor': 0, 'Smoking_yes': 0}  ... displaying 10 of 12220 total bound parameter sets ...  {'Restaurant_id': 12218, 'Name': 'Thai Fantasy', 'Address': '578 Yonge Street', 'Postal_code': 'M4Y 1Z3', 'City': 'Toronto', 'Latitude': 43.6651203, 'Longitude': -79.3848093, 'Stars': 4.0, 'Monday_open': '0:00', 'Monday_close': '0:00', 'Tuesday_open': '11:00', 'Tuesday_close': '23:00', 'Wednesday_open': '11:00', 'Wednesday_close': '23:00', 'Thursday_open': '11:00', 'Thursday_close': '23:00', 'Friday_open': '11:00', 'Friday_close': '23:00', 'Saturday_open': '12:00', 'Saturday_close': '23:00', 'Sunday_open': '12:00', 'Sunday_close': '22:00', 'Category_ids': '168', 'Over_19': 0, 'BYOBCorkage': 0, 'BikeParking': 1, 'BusinessAcceptsCreditCards': 1, 'CoatCheck': 0, 'DogsAllowed': 0, 'GoodForDancing': 0, 'GoodForKids': 1, 'HappyHour': 0, 'HasTV': 0, 'OutdoorSeating': 0, 'RestaurantsCounterService': 0, 'RestaurantsGoodForGroups': 1, 'RestaurantsPriceRange2': 2.0, 'RestaurantsTableService': 1, 'RestaurantsTakeOut': 1, 'WheelchairAccessible': 0, 'Ambience_romantic': 0, 'Ambience_touristy': 0, 'Ambience_hipster': 0, 'Ambience_intimate': 0, 'Ambience_classy': 0, 'Ambience_upscale': 0, 'Ambience_divey': 0, 'Ambience_trendy': 0, 'Ambience_casual': 1, 'Parking_garage': 0, 'Parking_valet': 0, 'Parking_street': 1, 'Parking_validated': 0, 'Parking_lot': 0, 'Meal_dessert': 0, 'Meal_brunch': 0, 'Meal_latenight': 0, 'Meal_lunch': 1, 'Meal_dinner': 1, 'Meal_breakfast': 0, 'Best_night_monday': 0, 'Best_night_tuesday': 0, 'Best_night_friday': 0, 'Best_night_wednesday': 0, 'Best_night_thursday': 0, 'Best_night_sunday': 0, 'Best_night_saturday': 0, 'Alcohol_beer_and_wine': 1, 'Alcohol_full_bar': 0, 'Dietary_Restrictions_dairy-free': 0, 'Dietary_Restrictions_gluten-free': 0, 'Dietary_Restrictions_vegan': 0, 'Dietary_Restrictions_kosher': 0, 'Dietary_Restrictions_halal': 0, 'Dietary_Restrictions_soy-free': 0, 'Dietary_Restrictions_vegetarian': 0, 'Music_dj': 0, 'Music_live': 0, 'Music_background_music': 0, 'Music_no_music': 0, 'Music_jukebox': 0, 'Music_video': 0, 'Music_karaoke': 0, 'Noise_quiet': 0, 'Noise_average': 1, 'Noise_loud': 0, 'Noise_very_loud': 0, 'Restaurants_Attire_dressy': 0, 'Restaurants_Attire_casual': 1, 'Restaurants_Attire_formal': 0, 'Smoking_no': 0, 'Smoking_outdoor': 0, 'Smoking_yes': 0}, {'Restaurant_id': 12219, 'Name': 'Asia Hut', 'Address': '1450 Kingston Rd', 'Postal_code': 'L1V 1C1', 'City': 'Pickering', 'Latitude': 43.841844, 'Longitude': -79.083881, 'Stars': 4.5, 'Monday_open': '11:00', 'Monday_close': '21:30', 'Tuesday_open': '11:00', 'Tuesday_close': '21:30', 'Wednesday_open': '11:00', 'Wednesday_close': '21:30', 'Thursday_open': '11:00', 'Thursday_close': '21:30', 'Friday_open': '11:00', 'Friday_close': '22:30', 'Saturday_open': '11:00', 'Saturday_close': '22:30', 'Sunday_open': '16:00', 'Sunday_close': '21:30', 'Category_ids': '146,30,36', 'Over_19': 0, 'BYOBCorkage': 0, 'BikeParking': 1, 'BusinessAcceptsCreditCards': 0, 'CoatCheck': 0, 'DogsAllowed': 0, 'GoodForDancing': 0, 'GoodForKids': 0, 'HappyHour': 0, 'HasTV': 0, 'OutdoorSeating': 0, 'RestaurantsCounterService': 0, 'RestaurantsGoodForGroups': 0, 'RestaurantsPriceRange2': None, 'RestaurantsTableService': 0, 'RestaurantsTakeOut': 1, 'WheelchairAccessible': 0, 'Ambience_romantic': 0, 'Ambience_touristy': 0, 'Ambience_hipster': 0, 'Ambience_intimate': 0, 'Ambience_classy': 0, 'Ambience_upscale': 0, 'Ambience_divey': 0, 'Ambience_trendy': 0, 'Ambience_casual': 0, 'Parking_garage': 0, 'Parking_valet': 0, 'Parking_street': 0, 'Parking_validated': 0, 'Parking_lot': 0, 'Meal_dessert': 0, 'Meal_brunch': 0, 'Meal_latenight': 0, 'Meal_lunch': 0, 'Meal_dinner': 0, 'Meal_breakfast': 0, 'Best_night_monday': 0, 'Best_night_tuesday': 0, 'Best_night_friday': 0, 'Best_night_wednesday': 0, 'Best_night_thursday': 0, 'Best_night_sunday': 0, 'Best_night_saturday': 0, 'Alcohol_beer_and_wine': 0, 'Alcohol_full_bar': 0, 'Dietary_Restrictions_dairy-free': 0, 'Dietary_Restrictions_gluten-free': 0, 'Dietary_Restrictions_vegan': 0, 'Dietary_Restrictions_kosher': 0, 'Dietary_Restrictions_halal': 0, 'Dietary_Restrictions_soy-free': 0, 'Dietary_Restrictions_vegetarian': 0, 'Music_dj': 0, 'Music_live': 0, 'Music_background_music': 0, 'Music_no_music': 0, 'Music_jukebox': 0, 'Music_video': 0, 'Music_karaoke': 0, 'Noise_quiet': 0, 'Noise_average': 0, 'Noise_loud': 0, 'Noise_very_loud': 0, 'Restaurants_Attire_dressy': 0, 'Restaurants_Attire_casual': 1, 'Restaurants_Attire_formal': 0, 'Smoking_no': 0, 'Smoking_outdoor': 0, 'Smoking_yes': 0})]\n(Background on this error at: http://sqlalche.me/e/2j85)",
     "output_type": "error",
     "traceback": [
      "\u001b[1;31m---------------------------------------------------------------------------\u001b[0m",
      "\u001b[1;31mInternalError\u001b[0m                             Traceback (most recent call last)",
      "\u001b[1;32mE:\\Users\\brian\\Anaconda3\\envs\\EATinerary\\lib\\site-packages\\sqlalchemy\\engine\\base.py\u001b[0m in \u001b[0;36m_execute_context\u001b[1;34m(self, dialect, constructor, statement, parameters, *args)\u001b[0m\n\u001b[0;32m   1223\u001b[0m                     self.dialect.do_executemany(\n\u001b[1;32m-> 1224\u001b[1;33m                         \u001b[0mcursor\u001b[0m\u001b[1;33m,\u001b[0m \u001b[0mstatement\u001b[0m\u001b[1;33m,\u001b[0m \u001b[0mparameters\u001b[0m\u001b[1;33m,\u001b[0m \u001b[0mcontext\u001b[0m\u001b[1;33m\u001b[0m\u001b[1;33m\u001b[0m\u001b[0m\n\u001b[0m\u001b[0;32m   1225\u001b[0m                     )\n",
      "\u001b[1;32mE:\\Users\\brian\\Anaconda3\\envs\\EATinerary\\lib\\site-packages\\sqlalchemy\\dialects\\mysql\\mysqldb.py\u001b[0m in \u001b[0;36mdo_executemany\u001b[1;34m(self, cursor, statement, parameters, context)\u001b[0m\n\u001b[0;32m    131\u001b[0m     \u001b[1;32mdef\u001b[0m \u001b[0mdo_executemany\u001b[0m\u001b[1;33m(\u001b[0m\u001b[0mself\u001b[0m\u001b[1;33m,\u001b[0m \u001b[0mcursor\u001b[0m\u001b[1;33m,\u001b[0m \u001b[0mstatement\u001b[0m\u001b[1;33m,\u001b[0m \u001b[0mparameters\u001b[0m\u001b[1;33m,\u001b[0m \u001b[0mcontext\u001b[0m\u001b[1;33m=\u001b[0m\u001b[1;32mNone\u001b[0m\u001b[1;33m)\u001b[0m\u001b[1;33m:\u001b[0m\u001b[1;33m\u001b[0m\u001b[1;33m\u001b[0m\u001b[0m\n\u001b[1;32m--> 132\u001b[1;33m         \u001b[0mrowcount\u001b[0m \u001b[1;33m=\u001b[0m \u001b[0mcursor\u001b[0m\u001b[1;33m.\u001b[0m\u001b[0mexecutemany\u001b[0m\u001b[1;33m(\u001b[0m\u001b[0mstatement\u001b[0m\u001b[1;33m,\u001b[0m \u001b[0mparameters\u001b[0m\u001b[1;33m)\u001b[0m\u001b[1;33m\u001b[0m\u001b[1;33m\u001b[0m\u001b[0m\n\u001b[0m\u001b[0;32m    133\u001b[0m         \u001b[1;32mif\u001b[0m \u001b[0mcontext\u001b[0m \u001b[1;32mis\u001b[0m \u001b[1;32mnot\u001b[0m \u001b[1;32mNone\u001b[0m\u001b[1;33m:\u001b[0m\u001b[1;33m\u001b[0m\u001b[1;33m\u001b[0m\u001b[0m\n",
      "\u001b[1;32mE:\\Users\\brian\\Anaconda3\\envs\\EATinerary\\lib\\site-packages\\pymysql\\cursors.py\u001b[0m in \u001b[0;36mexecutemany\u001b[1;34m(self, query, args)\u001b[0m\n\u001b[0;32m    196\u001b[0m                                          \u001b[0mself\u001b[0m\u001b[1;33m.\u001b[0m\u001b[0mmax_stmt_length\u001b[0m\u001b[1;33m,\u001b[0m\u001b[1;33m\u001b[0m\u001b[1;33m\u001b[0m\u001b[0m\n\u001b[1;32m--> 197\u001b[1;33m                                          self._get_db().encoding)\n\u001b[0m\u001b[0;32m    198\u001b[0m \u001b[1;33m\u001b[0m\u001b[0m\n",
      "\u001b[1;32mE:\\Users\\brian\\Anaconda3\\envs\\EATinerary\\lib\\site-packages\\pymysql\\cursors.py\u001b[0m in \u001b[0;36m_do_execute_many\u001b[1;34m(self, prefix, values, postfix, args, max_stmt_length, encoding)\u001b[0m\n\u001b[0;32m    228\u001b[0m             \u001b[1;32mif\u001b[0m \u001b[0mlen\u001b[0m\u001b[1;33m(\u001b[0m\u001b[0msql\u001b[0m\u001b[1;33m)\u001b[0m \u001b[1;33m+\u001b[0m \u001b[0mlen\u001b[0m\u001b[1;33m(\u001b[0m\u001b[0mv\u001b[0m\u001b[1;33m)\u001b[0m \u001b[1;33m+\u001b[0m \u001b[0mlen\u001b[0m\u001b[1;33m(\u001b[0m\u001b[0mpostfix\u001b[0m\u001b[1;33m)\u001b[0m \u001b[1;33m+\u001b[0m \u001b[1;36m1\u001b[0m \u001b[1;33m>\u001b[0m \u001b[0mmax_stmt_length\u001b[0m\u001b[1;33m:\u001b[0m\u001b[1;33m\u001b[0m\u001b[1;33m\u001b[0m\u001b[0m\n\u001b[1;32m--> 229\u001b[1;33m                 \u001b[0mrows\u001b[0m \u001b[1;33m+=\u001b[0m \u001b[0mself\u001b[0m\u001b[1;33m.\u001b[0m\u001b[0mexecute\u001b[0m\u001b[1;33m(\u001b[0m\u001b[0msql\u001b[0m \u001b[1;33m+\u001b[0m \u001b[0mpostfix\u001b[0m\u001b[1;33m)\u001b[0m\u001b[1;33m\u001b[0m\u001b[1;33m\u001b[0m\u001b[0m\n\u001b[0m\u001b[0;32m    230\u001b[0m                 \u001b[0msql\u001b[0m \u001b[1;33m=\u001b[0m \u001b[0mbytearray\u001b[0m\u001b[1;33m(\u001b[0m\u001b[0mprefix\u001b[0m\u001b[1;33m)\u001b[0m\u001b[1;33m\u001b[0m\u001b[1;33m\u001b[0m\u001b[0m\n",
      "\u001b[1;32mE:\\Users\\brian\\Anaconda3\\envs\\EATinerary\\lib\\site-packages\\pymysql\\cursors.py\u001b[0m in \u001b[0;36mexecute\u001b[1;34m(self, query, args)\u001b[0m\n\u001b[0;32m    169\u001b[0m \u001b[1;33m\u001b[0m\u001b[0m\n\u001b[1;32m--> 170\u001b[1;33m         \u001b[0mresult\u001b[0m \u001b[1;33m=\u001b[0m \u001b[0mself\u001b[0m\u001b[1;33m.\u001b[0m\u001b[0m_query\u001b[0m\u001b[1;33m(\u001b[0m\u001b[0mquery\u001b[0m\u001b[1;33m)\u001b[0m\u001b[1;33m\u001b[0m\u001b[1;33m\u001b[0m\u001b[0m\n\u001b[0m\u001b[0;32m    171\u001b[0m         \u001b[0mself\u001b[0m\u001b[1;33m.\u001b[0m\u001b[0m_executed\u001b[0m \u001b[1;33m=\u001b[0m \u001b[0mquery\u001b[0m\u001b[1;33m\u001b[0m\u001b[1;33m\u001b[0m\u001b[0m\n",
      "\u001b[1;32mE:\\Users\\brian\\Anaconda3\\envs\\EATinerary\\lib\\site-packages\\pymysql\\cursors.py\u001b[0m in \u001b[0;36m_query\u001b[1;34m(self, q)\u001b[0m\n\u001b[0;32m    327\u001b[0m         \u001b[0mself\u001b[0m\u001b[1;33m.\u001b[0m\u001b[0m_clear_result\u001b[0m\u001b[1;33m(\u001b[0m\u001b[1;33m)\u001b[0m\u001b[1;33m\u001b[0m\u001b[1;33m\u001b[0m\u001b[0m\n\u001b[1;32m--> 328\u001b[1;33m         \u001b[0mconn\u001b[0m\u001b[1;33m.\u001b[0m\u001b[0mquery\u001b[0m\u001b[1;33m(\u001b[0m\u001b[0mq\u001b[0m\u001b[1;33m)\u001b[0m\u001b[1;33m\u001b[0m\u001b[1;33m\u001b[0m\u001b[0m\n\u001b[0m\u001b[0;32m    329\u001b[0m         \u001b[0mself\u001b[0m\u001b[1;33m.\u001b[0m\u001b[0m_do_get_result\u001b[0m\u001b[1;33m(\u001b[0m\u001b[1;33m)\u001b[0m\u001b[1;33m\u001b[0m\u001b[1;33m\u001b[0m\u001b[0m\n",
      "\u001b[1;32mE:\\Users\\brian\\Anaconda3\\envs\\EATinerary\\lib\\site-packages\\pymysql\\connections.py\u001b[0m in \u001b[0;36mquery\u001b[1;34m(self, sql, unbuffered)\u001b[0m\n\u001b[0;32m    516\u001b[0m         \u001b[0mself\u001b[0m\u001b[1;33m.\u001b[0m\u001b[0m_execute_command\u001b[0m\u001b[1;33m(\u001b[0m\u001b[0mCOMMAND\u001b[0m\u001b[1;33m.\u001b[0m\u001b[0mCOM_QUERY\u001b[0m\u001b[1;33m,\u001b[0m \u001b[0msql\u001b[0m\u001b[1;33m)\u001b[0m\u001b[1;33m\u001b[0m\u001b[1;33m\u001b[0m\u001b[0m\n\u001b[1;32m--> 517\u001b[1;33m         \u001b[0mself\u001b[0m\u001b[1;33m.\u001b[0m\u001b[0m_affected_rows\u001b[0m \u001b[1;33m=\u001b[0m \u001b[0mself\u001b[0m\u001b[1;33m.\u001b[0m\u001b[0m_read_query_result\u001b[0m\u001b[1;33m(\u001b[0m\u001b[0munbuffered\u001b[0m\u001b[1;33m=\u001b[0m\u001b[0munbuffered\u001b[0m\u001b[1;33m)\u001b[0m\u001b[1;33m\u001b[0m\u001b[1;33m\u001b[0m\u001b[0m\n\u001b[0m\u001b[0;32m    518\u001b[0m         \u001b[1;32mreturn\u001b[0m \u001b[0mself\u001b[0m\u001b[1;33m.\u001b[0m\u001b[0m_affected_rows\u001b[0m\u001b[1;33m\u001b[0m\u001b[1;33m\u001b[0m\u001b[0m\n",
      "\u001b[1;32mE:\\Users\\brian\\Anaconda3\\envs\\EATinerary\\lib\\site-packages\\pymysql\\connections.py\u001b[0m in \u001b[0;36m_read_query_result\u001b[1;34m(self, unbuffered)\u001b[0m\n\u001b[0;32m    731\u001b[0m             \u001b[0mresult\u001b[0m \u001b[1;33m=\u001b[0m \u001b[0mMySQLResult\u001b[0m\u001b[1;33m(\u001b[0m\u001b[0mself\u001b[0m\u001b[1;33m)\u001b[0m\u001b[1;33m\u001b[0m\u001b[1;33m\u001b[0m\u001b[0m\n\u001b[1;32m--> 732\u001b[1;33m             \u001b[0mresult\u001b[0m\u001b[1;33m.\u001b[0m\u001b[0mread\u001b[0m\u001b[1;33m(\u001b[0m\u001b[1;33m)\u001b[0m\u001b[1;33m\u001b[0m\u001b[1;33m\u001b[0m\u001b[0m\n\u001b[0m\u001b[0;32m    733\u001b[0m         \u001b[0mself\u001b[0m\u001b[1;33m.\u001b[0m\u001b[0m_result\u001b[0m \u001b[1;33m=\u001b[0m \u001b[0mresult\u001b[0m\u001b[1;33m\u001b[0m\u001b[1;33m\u001b[0m\u001b[0m\n",
      "\u001b[1;32mE:\\Users\\brian\\Anaconda3\\envs\\EATinerary\\lib\\site-packages\\pymysql\\connections.py\u001b[0m in \u001b[0;36mread\u001b[1;34m(self)\u001b[0m\n\u001b[0;32m   1074\u001b[0m         \u001b[1;32mtry\u001b[0m\u001b[1;33m:\u001b[0m\u001b[1;33m\u001b[0m\u001b[1;33m\u001b[0m\u001b[0m\n\u001b[1;32m-> 1075\u001b[1;33m             \u001b[0mfirst_packet\u001b[0m \u001b[1;33m=\u001b[0m \u001b[0mself\u001b[0m\u001b[1;33m.\u001b[0m\u001b[0mconnection\u001b[0m\u001b[1;33m.\u001b[0m\u001b[0m_read_packet\u001b[0m\u001b[1;33m(\u001b[0m\u001b[1;33m)\u001b[0m\u001b[1;33m\u001b[0m\u001b[1;33m\u001b[0m\u001b[0m\n\u001b[0m\u001b[0;32m   1076\u001b[0m \u001b[1;33m\u001b[0m\u001b[0m\n",
      "\u001b[1;32mE:\\Users\\brian\\Anaconda3\\envs\\EATinerary\\lib\\site-packages\\pymysql\\connections.py\u001b[0m in \u001b[0;36m_read_packet\u001b[1;34m(self, packet_type)\u001b[0m\n\u001b[0;32m    683\u001b[0m         \u001b[0mpacket\u001b[0m \u001b[1;33m=\u001b[0m \u001b[0mpacket_type\u001b[0m\u001b[1;33m(\u001b[0m\u001b[0mbuff\u001b[0m\u001b[1;33m,\u001b[0m \u001b[0mself\u001b[0m\u001b[1;33m.\u001b[0m\u001b[0mencoding\u001b[0m\u001b[1;33m)\u001b[0m\u001b[1;33m\u001b[0m\u001b[1;33m\u001b[0m\u001b[0m\n\u001b[1;32m--> 684\u001b[1;33m         \u001b[0mpacket\u001b[0m\u001b[1;33m.\u001b[0m\u001b[0mcheck_error\u001b[0m\u001b[1;33m(\u001b[0m\u001b[1;33m)\u001b[0m\u001b[1;33m\u001b[0m\u001b[1;33m\u001b[0m\u001b[0m\n\u001b[0m\u001b[0;32m    685\u001b[0m         \u001b[1;32mreturn\u001b[0m \u001b[0mpacket\u001b[0m\u001b[1;33m\u001b[0m\u001b[1;33m\u001b[0m\u001b[0m\n",
      "\u001b[1;32mE:\\Users\\brian\\Anaconda3\\envs\\EATinerary\\lib\\site-packages\\pymysql\\protocol.py\u001b[0m in \u001b[0;36mcheck_error\u001b[1;34m(self)\u001b[0m\n\u001b[0;32m    219\u001b[0m             \u001b[1;32mif\u001b[0m \u001b[0mDEBUG\u001b[0m\u001b[1;33m:\u001b[0m \u001b[0mprint\u001b[0m\u001b[1;33m(\u001b[0m\u001b[1;34m\"errno =\"\u001b[0m\u001b[1;33m,\u001b[0m \u001b[0merrno\u001b[0m\u001b[1;33m)\u001b[0m\u001b[1;33m\u001b[0m\u001b[1;33m\u001b[0m\u001b[0m\n\u001b[1;32m--> 220\u001b[1;33m             \u001b[0merr\u001b[0m\u001b[1;33m.\u001b[0m\u001b[0mraise_mysql_exception\u001b[0m\u001b[1;33m(\u001b[0m\u001b[0mself\u001b[0m\u001b[1;33m.\u001b[0m\u001b[0m_data\u001b[0m\u001b[1;33m)\u001b[0m\u001b[1;33m\u001b[0m\u001b[1;33m\u001b[0m\u001b[0m\n\u001b[0m\u001b[0;32m    221\u001b[0m \u001b[1;33m\u001b[0m\u001b[0m\n",
      "\u001b[1;32mE:\\Users\\brian\\Anaconda3\\envs\\EATinerary\\lib\\site-packages\\pymysql\\err.py\u001b[0m in \u001b[0;36mraise_mysql_exception\u001b[1;34m(data)\u001b[0m\n\u001b[0;32m    108\u001b[0m     \u001b[0merrorclass\u001b[0m \u001b[1;33m=\u001b[0m \u001b[0merror_map\u001b[0m\u001b[1;33m.\u001b[0m\u001b[0mget\u001b[0m\u001b[1;33m(\u001b[0m\u001b[0merrno\u001b[0m\u001b[1;33m,\u001b[0m \u001b[0mInternalError\u001b[0m\u001b[1;33m)\u001b[0m\u001b[1;33m\u001b[0m\u001b[1;33m\u001b[0m\u001b[0m\n\u001b[1;32m--> 109\u001b[1;33m     \u001b[1;32mraise\u001b[0m \u001b[0merrorclass\u001b[0m\u001b[1;33m(\u001b[0m\u001b[0merrno\u001b[0m\u001b[1;33m,\u001b[0m \u001b[0merrval\u001b[0m\u001b[1;33m)\u001b[0m\u001b[1;33m\u001b[0m\u001b[1;33m\u001b[0m\u001b[0m\n\u001b[0m",
      "\u001b[1;31mInternalError\u001b[0m: (1292, \"Incorrect datetime value: '9:00' for column 'Monday_open' at row 1\")",
      "\nThe above exception was the direct cause of the following exception:\n",
      "\u001b[1;31mInternalError\u001b[0m                             Traceback (most recent call last)",
      "\u001b[1;32m<ipython-input-61-13aa3df77406>\u001b[0m in \u001b[0;36m<module>\u001b[1;34m\u001b[0m\n\u001b[0;32m      1\u001b[0m \u001b[1;31m# Creating sql database and tables for the restaurants and the unique categories\u001b[0m\u001b[1;33m\u001b[0m\u001b[1;33m\u001b[0m\u001b[1;33m\u001b[0m\u001b[0m\n\u001b[1;32m----> 2\u001b[1;33m \u001b[0mbusiness\u001b[0m\u001b[1;33m.\u001b[0m\u001b[0mto_sql\u001b[0m\u001b[1;33m(\u001b[0m\u001b[1;34m'restaurant'\u001b[0m\u001b[1;33m,\u001b[0m \u001b[0mengine\u001b[0m\u001b[1;33m,\u001b[0m \u001b[0mif_exists\u001b[0m\u001b[1;33m=\u001b[0m\u001b[1;34m'replace'\u001b[0m\u001b[1;33m,\u001b[0m \u001b[0mindex_label\u001b[0m\u001b[1;33m=\u001b[0m\u001b[1;34m'Restaurant_id'\u001b[0m\u001b[1;33m,\u001b[0m \u001b[0mdtype\u001b[0m\u001b[1;33m=\u001b[0m\u001b[0mdataType\u001b[0m\u001b[1;33m)\u001b[0m\u001b[1;33m\u001b[0m\u001b[1;33m\u001b[0m\u001b[0m\n\u001b[0m",
      "\u001b[1;32mE:\\Users\\brian\\Anaconda3\\envs\\EATinerary\\lib\\site-packages\\pandas\\core\\generic.py\u001b[0m in \u001b[0;36mto_sql\u001b[1;34m(self, name, con, schema, if_exists, index, index_label, chunksize, dtype, method)\u001b[0m\n\u001b[0;32m   2529\u001b[0m         sql.to_sql(self, name, con, schema=schema, if_exists=if_exists,\n\u001b[0;32m   2530\u001b[0m                    \u001b[0mindex\u001b[0m\u001b[1;33m=\u001b[0m\u001b[0mindex\u001b[0m\u001b[1;33m,\u001b[0m \u001b[0mindex_label\u001b[0m\u001b[1;33m=\u001b[0m\u001b[0mindex_label\u001b[0m\u001b[1;33m,\u001b[0m \u001b[0mchunksize\u001b[0m\u001b[1;33m=\u001b[0m\u001b[0mchunksize\u001b[0m\u001b[1;33m,\u001b[0m\u001b[1;33m\u001b[0m\u001b[1;33m\u001b[0m\u001b[0m\n\u001b[1;32m-> 2531\u001b[1;33m                    dtype=dtype, method=method)\n\u001b[0m\u001b[0;32m   2532\u001b[0m \u001b[1;33m\u001b[0m\u001b[0m\n\u001b[0;32m   2533\u001b[0m     def to_pickle(self, path, compression='infer',\n",
      "\u001b[1;32mE:\\Users\\brian\\Anaconda3\\envs\\EATinerary\\lib\\site-packages\\pandas\\io\\sql.py\u001b[0m in \u001b[0;36mto_sql\u001b[1;34m(frame, name, con, schema, if_exists, index, index_label, chunksize, dtype, method)\u001b[0m\n\u001b[0;32m    458\u001b[0m     pandas_sql.to_sql(frame, name, if_exists=if_exists, index=index,\n\u001b[0;32m    459\u001b[0m                       \u001b[0mindex_label\u001b[0m\u001b[1;33m=\u001b[0m\u001b[0mindex_label\u001b[0m\u001b[1;33m,\u001b[0m \u001b[0mschema\u001b[0m\u001b[1;33m=\u001b[0m\u001b[0mschema\u001b[0m\u001b[1;33m,\u001b[0m\u001b[1;33m\u001b[0m\u001b[1;33m\u001b[0m\u001b[0m\n\u001b[1;32m--> 460\u001b[1;33m                       chunksize=chunksize, dtype=dtype, method=method)\n\u001b[0m\u001b[0;32m    461\u001b[0m \u001b[1;33m\u001b[0m\u001b[0m\n\u001b[0;32m    462\u001b[0m \u001b[1;33m\u001b[0m\u001b[0m\n",
      "\u001b[1;32mE:\\Users\\brian\\Anaconda3\\envs\\EATinerary\\lib\\site-packages\\pandas\\io\\sql.py\u001b[0m in \u001b[0;36mto_sql\u001b[1;34m(self, frame, name, if_exists, index, index_label, schema, chunksize, dtype, method)\u001b[0m\n\u001b[0;32m   1172\u001b[0m                          schema=schema, dtype=dtype)\n\u001b[0;32m   1173\u001b[0m         \u001b[0mtable\u001b[0m\u001b[1;33m.\u001b[0m\u001b[0mcreate\u001b[0m\u001b[1;33m(\u001b[0m\u001b[1;33m)\u001b[0m\u001b[1;33m\u001b[0m\u001b[1;33m\u001b[0m\u001b[0m\n\u001b[1;32m-> 1174\u001b[1;33m         \u001b[0mtable\u001b[0m\u001b[1;33m.\u001b[0m\u001b[0minsert\u001b[0m\u001b[1;33m(\u001b[0m\u001b[0mchunksize\u001b[0m\u001b[1;33m,\u001b[0m \u001b[0mmethod\u001b[0m\u001b[1;33m=\u001b[0m\u001b[0mmethod\u001b[0m\u001b[1;33m)\u001b[0m\u001b[1;33m\u001b[0m\u001b[1;33m\u001b[0m\u001b[0m\n\u001b[0m\u001b[0;32m   1175\u001b[0m         \u001b[1;32mif\u001b[0m \u001b[1;33m(\u001b[0m\u001b[1;32mnot\u001b[0m \u001b[0mname\u001b[0m\u001b[1;33m.\u001b[0m\u001b[0misdigit\u001b[0m\u001b[1;33m(\u001b[0m\u001b[1;33m)\u001b[0m \u001b[1;32mand\u001b[0m \u001b[1;32mnot\u001b[0m \u001b[0mname\u001b[0m\u001b[1;33m.\u001b[0m\u001b[0mislower\u001b[0m\u001b[1;33m(\u001b[0m\u001b[1;33m)\u001b[0m\u001b[1;33m)\u001b[0m\u001b[1;33m:\u001b[0m\u001b[1;33m\u001b[0m\u001b[1;33m\u001b[0m\u001b[0m\n\u001b[0;32m   1176\u001b[0m             \u001b[1;31m# check for potentially case sensitivity issues (GH7815)\u001b[0m\u001b[1;33m\u001b[0m\u001b[1;33m\u001b[0m\u001b[1;33m\u001b[0m\u001b[0m\n",
      "\u001b[1;32mE:\\Users\\brian\\Anaconda3\\envs\\EATinerary\\lib\\site-packages\\pandas\\io\\sql.py\u001b[0m in \u001b[0;36minsert\u001b[1;34m(self, chunksize, method)\u001b[0m\n\u001b[0;32m    684\u001b[0m \u001b[1;33m\u001b[0m\u001b[0m\n\u001b[0;32m    685\u001b[0m                 \u001b[0mchunk_iter\u001b[0m \u001b[1;33m=\u001b[0m \u001b[0mzip\u001b[0m\u001b[1;33m(\u001b[0m\u001b[1;33m*\u001b[0m\u001b[1;33m[\u001b[0m\u001b[0marr\u001b[0m\u001b[1;33m[\u001b[0m\u001b[0mstart_i\u001b[0m\u001b[1;33m:\u001b[0m\u001b[0mend_i\u001b[0m\u001b[1;33m]\u001b[0m \u001b[1;32mfor\u001b[0m \u001b[0marr\u001b[0m \u001b[1;32min\u001b[0m \u001b[0mdata_list\u001b[0m\u001b[1;33m]\u001b[0m\u001b[1;33m)\u001b[0m\u001b[1;33m\u001b[0m\u001b[1;33m\u001b[0m\u001b[0m\n\u001b[1;32m--> 686\u001b[1;33m                 \u001b[0mexec_insert\u001b[0m\u001b[1;33m(\u001b[0m\u001b[0mconn\u001b[0m\u001b[1;33m,\u001b[0m \u001b[0mkeys\u001b[0m\u001b[1;33m,\u001b[0m \u001b[0mchunk_iter\u001b[0m\u001b[1;33m)\u001b[0m\u001b[1;33m\u001b[0m\u001b[1;33m\u001b[0m\u001b[0m\n\u001b[0m\u001b[0;32m    687\u001b[0m \u001b[1;33m\u001b[0m\u001b[0m\n\u001b[0;32m    688\u001b[0m     def _query_iterator(self, result, chunksize, columns, coerce_float=True,\n",
      "\u001b[1;32mE:\\Users\\brian\\Anaconda3\\envs\\EATinerary\\lib\\site-packages\\pandas\\io\\sql.py\u001b[0m in \u001b[0;36m_execute_insert\u001b[1;34m(self, conn, keys, data_iter)\u001b[0m\n\u001b[0;32m    597\u001b[0m         \"\"\"\n\u001b[0;32m    598\u001b[0m         \u001b[0mdata\u001b[0m \u001b[1;33m=\u001b[0m \u001b[1;33m[\u001b[0m\u001b[0mdict\u001b[0m\u001b[1;33m(\u001b[0m\u001b[0mzip\u001b[0m\u001b[1;33m(\u001b[0m\u001b[0mkeys\u001b[0m\u001b[1;33m,\u001b[0m \u001b[0mrow\u001b[0m\u001b[1;33m)\u001b[0m\u001b[1;33m)\u001b[0m \u001b[1;32mfor\u001b[0m \u001b[0mrow\u001b[0m \u001b[1;32min\u001b[0m \u001b[0mdata_iter\u001b[0m\u001b[1;33m]\u001b[0m\u001b[1;33m\u001b[0m\u001b[1;33m\u001b[0m\u001b[0m\n\u001b[1;32m--> 599\u001b[1;33m         \u001b[0mconn\u001b[0m\u001b[1;33m.\u001b[0m\u001b[0mexecute\u001b[0m\u001b[1;33m(\u001b[0m\u001b[0mself\u001b[0m\u001b[1;33m.\u001b[0m\u001b[0mtable\u001b[0m\u001b[1;33m.\u001b[0m\u001b[0minsert\u001b[0m\u001b[1;33m(\u001b[0m\u001b[1;33m)\u001b[0m\u001b[1;33m,\u001b[0m \u001b[0mdata\u001b[0m\u001b[1;33m)\u001b[0m\u001b[1;33m\u001b[0m\u001b[1;33m\u001b[0m\u001b[0m\n\u001b[0m\u001b[0;32m    600\u001b[0m \u001b[1;33m\u001b[0m\u001b[0m\n\u001b[0;32m    601\u001b[0m     \u001b[1;32mdef\u001b[0m \u001b[0m_execute_insert_multi\u001b[0m\u001b[1;33m(\u001b[0m\u001b[0mself\u001b[0m\u001b[1;33m,\u001b[0m \u001b[0mconn\u001b[0m\u001b[1;33m,\u001b[0m \u001b[0mkeys\u001b[0m\u001b[1;33m,\u001b[0m \u001b[0mdata_iter\u001b[0m\u001b[1;33m)\u001b[0m\u001b[1;33m:\u001b[0m\u001b[1;33m\u001b[0m\u001b[1;33m\u001b[0m\u001b[0m\n",
      "\u001b[1;32mE:\\Users\\brian\\Anaconda3\\envs\\EATinerary\\lib\\site-packages\\sqlalchemy\\engine\\base.py\u001b[0m in \u001b[0;36mexecute\u001b[1;34m(self, object_, *multiparams, **params)\u001b[0m\n\u001b[0;32m    986\u001b[0m             \u001b[1;32mraise\u001b[0m \u001b[0mexc\u001b[0m\u001b[1;33m.\u001b[0m\u001b[0mObjectNotExecutableError\u001b[0m\u001b[1;33m(\u001b[0m\u001b[0mobject_\u001b[0m\u001b[1;33m)\u001b[0m\u001b[1;33m\u001b[0m\u001b[1;33m\u001b[0m\u001b[0m\n\u001b[0;32m    987\u001b[0m         \u001b[1;32melse\u001b[0m\u001b[1;33m:\u001b[0m\u001b[1;33m\u001b[0m\u001b[1;33m\u001b[0m\u001b[0m\n\u001b[1;32m--> 988\u001b[1;33m             \u001b[1;32mreturn\u001b[0m \u001b[0mmeth\u001b[0m\u001b[1;33m(\u001b[0m\u001b[0mself\u001b[0m\u001b[1;33m,\u001b[0m \u001b[0mmultiparams\u001b[0m\u001b[1;33m,\u001b[0m \u001b[0mparams\u001b[0m\u001b[1;33m)\u001b[0m\u001b[1;33m\u001b[0m\u001b[1;33m\u001b[0m\u001b[0m\n\u001b[0m\u001b[0;32m    989\u001b[0m \u001b[1;33m\u001b[0m\u001b[0m\n\u001b[0;32m    990\u001b[0m     \u001b[1;32mdef\u001b[0m \u001b[0m_execute_function\u001b[0m\u001b[1;33m(\u001b[0m\u001b[0mself\u001b[0m\u001b[1;33m,\u001b[0m \u001b[0mfunc\u001b[0m\u001b[1;33m,\u001b[0m \u001b[0mmultiparams\u001b[0m\u001b[1;33m,\u001b[0m \u001b[0mparams\u001b[0m\u001b[1;33m)\u001b[0m\u001b[1;33m:\u001b[0m\u001b[1;33m\u001b[0m\u001b[1;33m\u001b[0m\u001b[0m\n",
      "\u001b[1;32mE:\\Users\\brian\\Anaconda3\\envs\\EATinerary\\lib\\site-packages\\sqlalchemy\\sql\\elements.py\u001b[0m in \u001b[0;36m_execute_on_connection\u001b[1;34m(self, connection, multiparams, params)\u001b[0m\n\u001b[0;32m    285\u001b[0m     \u001b[1;32mdef\u001b[0m \u001b[0m_execute_on_connection\u001b[0m\u001b[1;33m(\u001b[0m\u001b[0mself\u001b[0m\u001b[1;33m,\u001b[0m \u001b[0mconnection\u001b[0m\u001b[1;33m,\u001b[0m \u001b[0mmultiparams\u001b[0m\u001b[1;33m,\u001b[0m \u001b[0mparams\u001b[0m\u001b[1;33m)\u001b[0m\u001b[1;33m:\u001b[0m\u001b[1;33m\u001b[0m\u001b[1;33m\u001b[0m\u001b[0m\n\u001b[0;32m    286\u001b[0m         \u001b[1;32mif\u001b[0m \u001b[0mself\u001b[0m\u001b[1;33m.\u001b[0m\u001b[0msupports_execution\u001b[0m\u001b[1;33m:\u001b[0m\u001b[1;33m\u001b[0m\u001b[1;33m\u001b[0m\u001b[0m\n\u001b[1;32m--> 287\u001b[1;33m             \u001b[1;32mreturn\u001b[0m \u001b[0mconnection\u001b[0m\u001b[1;33m.\u001b[0m\u001b[0m_execute_clauseelement\u001b[0m\u001b[1;33m(\u001b[0m\u001b[0mself\u001b[0m\u001b[1;33m,\u001b[0m \u001b[0mmultiparams\u001b[0m\u001b[1;33m,\u001b[0m \u001b[0mparams\u001b[0m\u001b[1;33m)\u001b[0m\u001b[1;33m\u001b[0m\u001b[1;33m\u001b[0m\u001b[0m\n\u001b[0m\u001b[0;32m    288\u001b[0m         \u001b[1;32melse\u001b[0m\u001b[1;33m:\u001b[0m\u001b[1;33m\u001b[0m\u001b[1;33m\u001b[0m\u001b[0m\n\u001b[0;32m    289\u001b[0m             \u001b[1;32mraise\u001b[0m \u001b[0mexc\u001b[0m\u001b[1;33m.\u001b[0m\u001b[0mObjectNotExecutableError\u001b[0m\u001b[1;33m(\u001b[0m\u001b[0mself\u001b[0m\u001b[1;33m)\u001b[0m\u001b[1;33m\u001b[0m\u001b[1;33m\u001b[0m\u001b[0m\n",
      "\u001b[1;32mE:\\Users\\brian\\Anaconda3\\envs\\EATinerary\\lib\\site-packages\\sqlalchemy\\engine\\base.py\u001b[0m in \u001b[0;36m_execute_clauseelement\u001b[1;34m(self, elem, multiparams, params)\u001b[0m\n\u001b[0;32m   1105\u001b[0m             \u001b[0mdistilled_params\u001b[0m\u001b[1;33m,\u001b[0m\u001b[1;33m\u001b[0m\u001b[1;33m\u001b[0m\u001b[0m\n\u001b[0;32m   1106\u001b[0m             \u001b[0mcompiled_sql\u001b[0m\u001b[1;33m,\u001b[0m\u001b[1;33m\u001b[0m\u001b[1;33m\u001b[0m\u001b[0m\n\u001b[1;32m-> 1107\u001b[1;33m             \u001b[0mdistilled_params\u001b[0m\u001b[1;33m,\u001b[0m\u001b[1;33m\u001b[0m\u001b[1;33m\u001b[0m\u001b[0m\n\u001b[0m\u001b[0;32m   1108\u001b[0m         )\n\u001b[0;32m   1109\u001b[0m         \u001b[1;32mif\u001b[0m \u001b[0mself\u001b[0m\u001b[1;33m.\u001b[0m\u001b[0m_has_events\u001b[0m \u001b[1;32mor\u001b[0m \u001b[0mself\u001b[0m\u001b[1;33m.\u001b[0m\u001b[0mengine\u001b[0m\u001b[1;33m.\u001b[0m\u001b[0m_has_events\u001b[0m\u001b[1;33m:\u001b[0m\u001b[1;33m\u001b[0m\u001b[1;33m\u001b[0m\u001b[0m\n",
      "\u001b[1;32mE:\\Users\\brian\\Anaconda3\\envs\\EATinerary\\lib\\site-packages\\sqlalchemy\\engine\\base.py\u001b[0m in \u001b[0;36m_execute_context\u001b[1;34m(self, dialect, constructor, statement, parameters, *args)\u001b[0m\n\u001b[0;32m   1246\u001b[0m         \u001b[1;32mexcept\u001b[0m \u001b[0mBaseException\u001b[0m \u001b[1;32mas\u001b[0m \u001b[0me\u001b[0m\u001b[1;33m:\u001b[0m\u001b[1;33m\u001b[0m\u001b[1;33m\u001b[0m\u001b[0m\n\u001b[0;32m   1247\u001b[0m             self._handle_dbapi_exception(\n\u001b[1;32m-> 1248\u001b[1;33m                 \u001b[0me\u001b[0m\u001b[1;33m,\u001b[0m \u001b[0mstatement\u001b[0m\u001b[1;33m,\u001b[0m \u001b[0mparameters\u001b[0m\u001b[1;33m,\u001b[0m \u001b[0mcursor\u001b[0m\u001b[1;33m,\u001b[0m \u001b[0mcontext\u001b[0m\u001b[1;33m\u001b[0m\u001b[1;33m\u001b[0m\u001b[0m\n\u001b[0m\u001b[0;32m   1249\u001b[0m             )\n\u001b[0;32m   1250\u001b[0m \u001b[1;33m\u001b[0m\u001b[0m\n",
      "\u001b[1;32mE:\\Users\\brian\\Anaconda3\\envs\\EATinerary\\lib\\site-packages\\sqlalchemy\\engine\\base.py\u001b[0m in \u001b[0;36m_handle_dbapi_exception\u001b[1;34m(self, e, statement, parameters, cursor, context)\u001b[0m\n\u001b[0;32m   1464\u001b[0m                 \u001b[0mutil\u001b[0m\u001b[1;33m.\u001b[0m\u001b[0mraise_from_cause\u001b[0m\u001b[1;33m(\u001b[0m\u001b[0mnewraise\u001b[0m\u001b[1;33m,\u001b[0m \u001b[0mexc_info\u001b[0m\u001b[1;33m)\u001b[0m\u001b[1;33m\u001b[0m\u001b[1;33m\u001b[0m\u001b[0m\n\u001b[0;32m   1465\u001b[0m             \u001b[1;32melif\u001b[0m \u001b[0mshould_wrap\u001b[0m\u001b[1;33m:\u001b[0m\u001b[1;33m\u001b[0m\u001b[1;33m\u001b[0m\u001b[0m\n\u001b[1;32m-> 1466\u001b[1;33m                 \u001b[0mutil\u001b[0m\u001b[1;33m.\u001b[0m\u001b[0mraise_from_cause\u001b[0m\u001b[1;33m(\u001b[0m\u001b[0msqlalchemy_exception\u001b[0m\u001b[1;33m,\u001b[0m \u001b[0mexc_info\u001b[0m\u001b[1;33m)\u001b[0m\u001b[1;33m\u001b[0m\u001b[1;33m\u001b[0m\u001b[0m\n\u001b[0m\u001b[0;32m   1467\u001b[0m             \u001b[1;32melse\u001b[0m\u001b[1;33m:\u001b[0m\u001b[1;33m\u001b[0m\u001b[1;33m\u001b[0m\u001b[0m\n\u001b[0;32m   1468\u001b[0m                 \u001b[0mutil\u001b[0m\u001b[1;33m.\u001b[0m\u001b[0mreraise\u001b[0m\u001b[1;33m(\u001b[0m\u001b[1;33m*\u001b[0m\u001b[0mexc_info\u001b[0m\u001b[1;33m)\u001b[0m\u001b[1;33m\u001b[0m\u001b[1;33m\u001b[0m\u001b[0m\n",
      "\u001b[1;32mE:\\Users\\brian\\Anaconda3\\envs\\EATinerary\\lib\\site-packages\\sqlalchemy\\util\\compat.py\u001b[0m in \u001b[0;36mraise_from_cause\u001b[1;34m(exception, exc_info)\u001b[0m\n\u001b[0;32m    397\u001b[0m     \u001b[0mexc_type\u001b[0m\u001b[1;33m,\u001b[0m \u001b[0mexc_value\u001b[0m\u001b[1;33m,\u001b[0m \u001b[0mexc_tb\u001b[0m \u001b[1;33m=\u001b[0m \u001b[0mexc_info\u001b[0m\u001b[1;33m\u001b[0m\u001b[1;33m\u001b[0m\u001b[0m\n\u001b[0;32m    398\u001b[0m     \u001b[0mcause\u001b[0m \u001b[1;33m=\u001b[0m \u001b[0mexc_value\u001b[0m \u001b[1;32mif\u001b[0m \u001b[0mexc_value\u001b[0m \u001b[1;32mis\u001b[0m \u001b[1;32mnot\u001b[0m \u001b[0mexception\u001b[0m \u001b[1;32melse\u001b[0m \u001b[1;32mNone\u001b[0m\u001b[1;33m\u001b[0m\u001b[1;33m\u001b[0m\u001b[0m\n\u001b[1;32m--> 399\u001b[1;33m     \u001b[0mreraise\u001b[0m\u001b[1;33m(\u001b[0m\u001b[0mtype\u001b[0m\u001b[1;33m(\u001b[0m\u001b[0mexception\u001b[0m\u001b[1;33m)\u001b[0m\u001b[1;33m,\u001b[0m \u001b[0mexception\u001b[0m\u001b[1;33m,\u001b[0m \u001b[0mtb\u001b[0m\u001b[1;33m=\u001b[0m\u001b[0mexc_tb\u001b[0m\u001b[1;33m,\u001b[0m \u001b[0mcause\u001b[0m\u001b[1;33m=\u001b[0m\u001b[0mcause\u001b[0m\u001b[1;33m)\u001b[0m\u001b[1;33m\u001b[0m\u001b[1;33m\u001b[0m\u001b[0m\n\u001b[0m\u001b[0;32m    400\u001b[0m \u001b[1;33m\u001b[0m\u001b[0m\n\u001b[0;32m    401\u001b[0m \u001b[1;33m\u001b[0m\u001b[0m\n",
      "\u001b[1;32mE:\\Users\\brian\\Anaconda3\\envs\\EATinerary\\lib\\site-packages\\sqlalchemy\\util\\compat.py\u001b[0m in \u001b[0;36mreraise\u001b[1;34m(tp, value, tb, cause)\u001b[0m\n\u001b[0;32m    151\u001b[0m             \u001b[0mvalue\u001b[0m\u001b[1;33m.\u001b[0m\u001b[0m__cause__\u001b[0m \u001b[1;33m=\u001b[0m \u001b[0mcause\u001b[0m\u001b[1;33m\u001b[0m\u001b[1;33m\u001b[0m\u001b[0m\n\u001b[0;32m    152\u001b[0m         \u001b[1;32mif\u001b[0m \u001b[0mvalue\u001b[0m\u001b[1;33m.\u001b[0m\u001b[0m__traceback__\u001b[0m \u001b[1;32mis\u001b[0m \u001b[1;32mnot\u001b[0m \u001b[0mtb\u001b[0m\u001b[1;33m:\u001b[0m\u001b[1;33m\u001b[0m\u001b[1;33m\u001b[0m\u001b[0m\n\u001b[1;32m--> 153\u001b[1;33m             \u001b[1;32mraise\u001b[0m \u001b[0mvalue\u001b[0m\u001b[1;33m.\u001b[0m\u001b[0mwith_traceback\u001b[0m\u001b[1;33m(\u001b[0m\u001b[0mtb\u001b[0m\u001b[1;33m)\u001b[0m\u001b[1;33m\u001b[0m\u001b[1;33m\u001b[0m\u001b[0m\n\u001b[0m\u001b[0;32m    154\u001b[0m         \u001b[1;32mraise\u001b[0m \u001b[0mvalue\u001b[0m\u001b[1;33m\u001b[0m\u001b[1;33m\u001b[0m\u001b[0m\n\u001b[0;32m    155\u001b[0m \u001b[1;33m\u001b[0m\u001b[0m\n",
      "\u001b[1;32mE:\\Users\\brian\\Anaconda3\\envs\\EATinerary\\lib\\site-packages\\sqlalchemy\\engine\\base.py\u001b[0m in \u001b[0;36m_execute_context\u001b[1;34m(self, dialect, constructor, statement, parameters, *args)\u001b[0m\n\u001b[0;32m   1222\u001b[0m                 \u001b[1;32mif\u001b[0m \u001b[1;32mnot\u001b[0m \u001b[0mevt_handled\u001b[0m\u001b[1;33m:\u001b[0m\u001b[1;33m\u001b[0m\u001b[1;33m\u001b[0m\u001b[0m\n\u001b[0;32m   1223\u001b[0m                     self.dialect.do_executemany(\n\u001b[1;32m-> 1224\u001b[1;33m                         \u001b[0mcursor\u001b[0m\u001b[1;33m,\u001b[0m \u001b[0mstatement\u001b[0m\u001b[1;33m,\u001b[0m \u001b[0mparameters\u001b[0m\u001b[1;33m,\u001b[0m \u001b[0mcontext\u001b[0m\u001b[1;33m\u001b[0m\u001b[1;33m\u001b[0m\u001b[0m\n\u001b[0m\u001b[0;32m   1225\u001b[0m                     )\n\u001b[0;32m   1226\u001b[0m             \u001b[1;32melif\u001b[0m \u001b[1;32mnot\u001b[0m \u001b[0mparameters\u001b[0m \u001b[1;32mand\u001b[0m \u001b[0mcontext\u001b[0m\u001b[1;33m.\u001b[0m\u001b[0mno_parameters\u001b[0m\u001b[1;33m:\u001b[0m\u001b[1;33m\u001b[0m\u001b[1;33m\u001b[0m\u001b[0m\n",
      "\u001b[1;32mE:\\Users\\brian\\Anaconda3\\envs\\EATinerary\\lib\\site-packages\\sqlalchemy\\dialects\\mysql\\mysqldb.py\u001b[0m in \u001b[0;36mdo_executemany\u001b[1;34m(self, cursor, statement, parameters, context)\u001b[0m\n\u001b[0;32m    130\u001b[0m \u001b[1;33m\u001b[0m\u001b[0m\n\u001b[0;32m    131\u001b[0m     \u001b[1;32mdef\u001b[0m \u001b[0mdo_executemany\u001b[0m\u001b[1;33m(\u001b[0m\u001b[0mself\u001b[0m\u001b[1;33m,\u001b[0m \u001b[0mcursor\u001b[0m\u001b[1;33m,\u001b[0m \u001b[0mstatement\u001b[0m\u001b[1;33m,\u001b[0m \u001b[0mparameters\u001b[0m\u001b[1;33m,\u001b[0m \u001b[0mcontext\u001b[0m\u001b[1;33m=\u001b[0m\u001b[1;32mNone\u001b[0m\u001b[1;33m)\u001b[0m\u001b[1;33m:\u001b[0m\u001b[1;33m\u001b[0m\u001b[1;33m\u001b[0m\u001b[0m\n\u001b[1;32m--> 132\u001b[1;33m         \u001b[0mrowcount\u001b[0m \u001b[1;33m=\u001b[0m \u001b[0mcursor\u001b[0m\u001b[1;33m.\u001b[0m\u001b[0mexecutemany\u001b[0m\u001b[1;33m(\u001b[0m\u001b[0mstatement\u001b[0m\u001b[1;33m,\u001b[0m \u001b[0mparameters\u001b[0m\u001b[1;33m)\u001b[0m\u001b[1;33m\u001b[0m\u001b[1;33m\u001b[0m\u001b[0m\n\u001b[0m\u001b[0;32m    133\u001b[0m         \u001b[1;32mif\u001b[0m \u001b[0mcontext\u001b[0m \u001b[1;32mis\u001b[0m \u001b[1;32mnot\u001b[0m \u001b[1;32mNone\u001b[0m\u001b[1;33m:\u001b[0m\u001b[1;33m\u001b[0m\u001b[1;33m\u001b[0m\u001b[0m\n\u001b[0;32m    134\u001b[0m             \u001b[0mcontext\u001b[0m\u001b[1;33m.\u001b[0m\u001b[0m_rowcount\u001b[0m \u001b[1;33m=\u001b[0m \u001b[0mrowcount\u001b[0m\u001b[1;33m\u001b[0m\u001b[1;33m\u001b[0m\u001b[0m\n",
      "\u001b[1;32mE:\\Users\\brian\\Anaconda3\\envs\\EATinerary\\lib\\site-packages\\pymysql\\cursors.py\u001b[0m in \u001b[0;36mexecutemany\u001b[1;34m(self, query, args)\u001b[0m\n\u001b[0;32m    195\u001b[0m             return self._do_execute_many(q_prefix, q_values, q_postfix, args,\n\u001b[0;32m    196\u001b[0m                                          \u001b[0mself\u001b[0m\u001b[1;33m.\u001b[0m\u001b[0mmax_stmt_length\u001b[0m\u001b[1;33m,\u001b[0m\u001b[1;33m\u001b[0m\u001b[1;33m\u001b[0m\u001b[0m\n\u001b[1;32m--> 197\u001b[1;33m                                          self._get_db().encoding)\n\u001b[0m\u001b[0;32m    198\u001b[0m \u001b[1;33m\u001b[0m\u001b[0m\n\u001b[0;32m    199\u001b[0m         \u001b[0mself\u001b[0m\u001b[1;33m.\u001b[0m\u001b[0mrowcount\u001b[0m \u001b[1;33m=\u001b[0m \u001b[0msum\u001b[0m\u001b[1;33m(\u001b[0m\u001b[0mself\u001b[0m\u001b[1;33m.\u001b[0m\u001b[0mexecute\u001b[0m\u001b[1;33m(\u001b[0m\u001b[0mquery\u001b[0m\u001b[1;33m,\u001b[0m \u001b[0marg\u001b[0m\u001b[1;33m)\u001b[0m \u001b[1;32mfor\u001b[0m \u001b[0marg\u001b[0m \u001b[1;32min\u001b[0m \u001b[0margs\u001b[0m\u001b[1;33m)\u001b[0m\u001b[1;33m\u001b[0m\u001b[1;33m\u001b[0m\u001b[0m\n",
      "\u001b[1;32mE:\\Users\\brian\\Anaconda3\\envs\\EATinerary\\lib\\site-packages\\pymysql\\cursors.py\u001b[0m in \u001b[0;36m_do_execute_many\u001b[1;34m(self, prefix, values, postfix, args, max_stmt_length, encoding)\u001b[0m\n\u001b[0;32m    227\u001b[0m                     \u001b[0mv\u001b[0m \u001b[1;33m=\u001b[0m \u001b[0mv\u001b[0m\u001b[1;33m.\u001b[0m\u001b[0mencode\u001b[0m\u001b[1;33m(\u001b[0m\u001b[0mencoding\u001b[0m\u001b[1;33m,\u001b[0m \u001b[1;34m'surrogateescape'\u001b[0m\u001b[1;33m)\u001b[0m\u001b[1;33m\u001b[0m\u001b[1;33m\u001b[0m\u001b[0m\n\u001b[0;32m    228\u001b[0m             \u001b[1;32mif\u001b[0m \u001b[0mlen\u001b[0m\u001b[1;33m(\u001b[0m\u001b[0msql\u001b[0m\u001b[1;33m)\u001b[0m \u001b[1;33m+\u001b[0m \u001b[0mlen\u001b[0m\u001b[1;33m(\u001b[0m\u001b[0mv\u001b[0m\u001b[1;33m)\u001b[0m \u001b[1;33m+\u001b[0m \u001b[0mlen\u001b[0m\u001b[1;33m(\u001b[0m\u001b[0mpostfix\u001b[0m\u001b[1;33m)\u001b[0m \u001b[1;33m+\u001b[0m \u001b[1;36m1\u001b[0m \u001b[1;33m>\u001b[0m \u001b[0mmax_stmt_length\u001b[0m\u001b[1;33m:\u001b[0m\u001b[1;33m\u001b[0m\u001b[1;33m\u001b[0m\u001b[0m\n\u001b[1;32m--> 229\u001b[1;33m                 \u001b[0mrows\u001b[0m \u001b[1;33m+=\u001b[0m \u001b[0mself\u001b[0m\u001b[1;33m.\u001b[0m\u001b[0mexecute\u001b[0m\u001b[1;33m(\u001b[0m\u001b[0msql\u001b[0m \u001b[1;33m+\u001b[0m \u001b[0mpostfix\u001b[0m\u001b[1;33m)\u001b[0m\u001b[1;33m\u001b[0m\u001b[1;33m\u001b[0m\u001b[0m\n\u001b[0m\u001b[0;32m    230\u001b[0m                 \u001b[0msql\u001b[0m \u001b[1;33m=\u001b[0m \u001b[0mbytearray\u001b[0m\u001b[1;33m(\u001b[0m\u001b[0mprefix\u001b[0m\u001b[1;33m)\u001b[0m\u001b[1;33m\u001b[0m\u001b[1;33m\u001b[0m\u001b[0m\n\u001b[0;32m    231\u001b[0m             \u001b[1;32melse\u001b[0m\u001b[1;33m:\u001b[0m\u001b[1;33m\u001b[0m\u001b[1;33m\u001b[0m\u001b[0m\n",
      "\u001b[1;32mE:\\Users\\brian\\Anaconda3\\envs\\EATinerary\\lib\\site-packages\\pymysql\\cursors.py\u001b[0m in \u001b[0;36mexecute\u001b[1;34m(self, query, args)\u001b[0m\n\u001b[0;32m    168\u001b[0m         \u001b[0mquery\u001b[0m \u001b[1;33m=\u001b[0m \u001b[0mself\u001b[0m\u001b[1;33m.\u001b[0m\u001b[0mmogrify\u001b[0m\u001b[1;33m(\u001b[0m\u001b[0mquery\u001b[0m\u001b[1;33m,\u001b[0m \u001b[0margs\u001b[0m\u001b[1;33m)\u001b[0m\u001b[1;33m\u001b[0m\u001b[1;33m\u001b[0m\u001b[0m\n\u001b[0;32m    169\u001b[0m \u001b[1;33m\u001b[0m\u001b[0m\n\u001b[1;32m--> 170\u001b[1;33m         \u001b[0mresult\u001b[0m \u001b[1;33m=\u001b[0m \u001b[0mself\u001b[0m\u001b[1;33m.\u001b[0m\u001b[0m_query\u001b[0m\u001b[1;33m(\u001b[0m\u001b[0mquery\u001b[0m\u001b[1;33m)\u001b[0m\u001b[1;33m\u001b[0m\u001b[1;33m\u001b[0m\u001b[0m\n\u001b[0m\u001b[0;32m    171\u001b[0m         \u001b[0mself\u001b[0m\u001b[1;33m.\u001b[0m\u001b[0m_executed\u001b[0m \u001b[1;33m=\u001b[0m \u001b[0mquery\u001b[0m\u001b[1;33m\u001b[0m\u001b[1;33m\u001b[0m\u001b[0m\n\u001b[0;32m    172\u001b[0m         \u001b[1;32mreturn\u001b[0m \u001b[0mresult\u001b[0m\u001b[1;33m\u001b[0m\u001b[1;33m\u001b[0m\u001b[0m\n",
      "\u001b[1;32mE:\\Users\\brian\\Anaconda3\\envs\\EATinerary\\lib\\site-packages\\pymysql\\cursors.py\u001b[0m in \u001b[0;36m_query\u001b[1;34m(self, q)\u001b[0m\n\u001b[0;32m    326\u001b[0m         \u001b[0mself\u001b[0m\u001b[1;33m.\u001b[0m\u001b[0m_last_executed\u001b[0m \u001b[1;33m=\u001b[0m \u001b[0mq\u001b[0m\u001b[1;33m\u001b[0m\u001b[1;33m\u001b[0m\u001b[0m\n\u001b[0;32m    327\u001b[0m         \u001b[0mself\u001b[0m\u001b[1;33m.\u001b[0m\u001b[0m_clear_result\u001b[0m\u001b[1;33m(\u001b[0m\u001b[1;33m)\u001b[0m\u001b[1;33m\u001b[0m\u001b[1;33m\u001b[0m\u001b[0m\n\u001b[1;32m--> 328\u001b[1;33m         \u001b[0mconn\u001b[0m\u001b[1;33m.\u001b[0m\u001b[0mquery\u001b[0m\u001b[1;33m(\u001b[0m\u001b[0mq\u001b[0m\u001b[1;33m)\u001b[0m\u001b[1;33m\u001b[0m\u001b[1;33m\u001b[0m\u001b[0m\n\u001b[0m\u001b[0;32m    329\u001b[0m         \u001b[0mself\u001b[0m\u001b[1;33m.\u001b[0m\u001b[0m_do_get_result\u001b[0m\u001b[1;33m(\u001b[0m\u001b[1;33m)\u001b[0m\u001b[1;33m\u001b[0m\u001b[1;33m\u001b[0m\u001b[0m\n\u001b[0;32m    330\u001b[0m         \u001b[1;32mreturn\u001b[0m \u001b[0mself\u001b[0m\u001b[1;33m.\u001b[0m\u001b[0mrowcount\u001b[0m\u001b[1;33m\u001b[0m\u001b[1;33m\u001b[0m\u001b[0m\n",
      "\u001b[1;32mE:\\Users\\brian\\Anaconda3\\envs\\EATinerary\\lib\\site-packages\\pymysql\\connections.py\u001b[0m in \u001b[0;36mquery\u001b[1;34m(self, sql, unbuffered)\u001b[0m\n\u001b[0;32m    515\u001b[0m                 \u001b[0msql\u001b[0m \u001b[1;33m=\u001b[0m \u001b[0msql\u001b[0m\u001b[1;33m.\u001b[0m\u001b[0mencode\u001b[0m\u001b[1;33m(\u001b[0m\u001b[0mself\u001b[0m\u001b[1;33m.\u001b[0m\u001b[0mencoding\u001b[0m\u001b[1;33m,\u001b[0m \u001b[1;34m'surrogateescape'\u001b[0m\u001b[1;33m)\u001b[0m\u001b[1;33m\u001b[0m\u001b[1;33m\u001b[0m\u001b[0m\n\u001b[0;32m    516\u001b[0m         \u001b[0mself\u001b[0m\u001b[1;33m.\u001b[0m\u001b[0m_execute_command\u001b[0m\u001b[1;33m(\u001b[0m\u001b[0mCOMMAND\u001b[0m\u001b[1;33m.\u001b[0m\u001b[0mCOM_QUERY\u001b[0m\u001b[1;33m,\u001b[0m \u001b[0msql\u001b[0m\u001b[1;33m)\u001b[0m\u001b[1;33m\u001b[0m\u001b[1;33m\u001b[0m\u001b[0m\n\u001b[1;32m--> 517\u001b[1;33m         \u001b[0mself\u001b[0m\u001b[1;33m.\u001b[0m\u001b[0m_affected_rows\u001b[0m \u001b[1;33m=\u001b[0m \u001b[0mself\u001b[0m\u001b[1;33m.\u001b[0m\u001b[0m_read_query_result\u001b[0m\u001b[1;33m(\u001b[0m\u001b[0munbuffered\u001b[0m\u001b[1;33m=\u001b[0m\u001b[0munbuffered\u001b[0m\u001b[1;33m)\u001b[0m\u001b[1;33m\u001b[0m\u001b[1;33m\u001b[0m\u001b[0m\n\u001b[0m\u001b[0;32m    518\u001b[0m         \u001b[1;32mreturn\u001b[0m \u001b[0mself\u001b[0m\u001b[1;33m.\u001b[0m\u001b[0m_affected_rows\u001b[0m\u001b[1;33m\u001b[0m\u001b[1;33m\u001b[0m\u001b[0m\n\u001b[0;32m    519\u001b[0m \u001b[1;33m\u001b[0m\u001b[0m\n",
      "\u001b[1;32mE:\\Users\\brian\\Anaconda3\\envs\\EATinerary\\lib\\site-packages\\pymysql\\connections.py\u001b[0m in \u001b[0;36m_read_query_result\u001b[1;34m(self, unbuffered)\u001b[0m\n\u001b[0;32m    730\u001b[0m         \u001b[1;32melse\u001b[0m\u001b[1;33m:\u001b[0m\u001b[1;33m\u001b[0m\u001b[1;33m\u001b[0m\u001b[0m\n\u001b[0;32m    731\u001b[0m             \u001b[0mresult\u001b[0m \u001b[1;33m=\u001b[0m \u001b[0mMySQLResult\u001b[0m\u001b[1;33m(\u001b[0m\u001b[0mself\u001b[0m\u001b[1;33m)\u001b[0m\u001b[1;33m\u001b[0m\u001b[1;33m\u001b[0m\u001b[0m\n\u001b[1;32m--> 732\u001b[1;33m             \u001b[0mresult\u001b[0m\u001b[1;33m.\u001b[0m\u001b[0mread\u001b[0m\u001b[1;33m(\u001b[0m\u001b[1;33m)\u001b[0m\u001b[1;33m\u001b[0m\u001b[1;33m\u001b[0m\u001b[0m\n\u001b[0m\u001b[0;32m    733\u001b[0m         \u001b[0mself\u001b[0m\u001b[1;33m.\u001b[0m\u001b[0m_result\u001b[0m \u001b[1;33m=\u001b[0m \u001b[0mresult\u001b[0m\u001b[1;33m\u001b[0m\u001b[1;33m\u001b[0m\u001b[0m\n\u001b[0;32m    734\u001b[0m         \u001b[1;32mif\u001b[0m \u001b[0mresult\u001b[0m\u001b[1;33m.\u001b[0m\u001b[0mserver_status\u001b[0m \u001b[1;32mis\u001b[0m \u001b[1;32mnot\u001b[0m \u001b[1;32mNone\u001b[0m\u001b[1;33m:\u001b[0m\u001b[1;33m\u001b[0m\u001b[1;33m\u001b[0m\u001b[0m\n",
      "\u001b[1;32mE:\\Users\\brian\\Anaconda3\\envs\\EATinerary\\lib\\site-packages\\pymysql\\connections.py\u001b[0m in \u001b[0;36mread\u001b[1;34m(self)\u001b[0m\n\u001b[0;32m   1073\u001b[0m     \u001b[1;32mdef\u001b[0m \u001b[0mread\u001b[0m\u001b[1;33m(\u001b[0m\u001b[0mself\u001b[0m\u001b[1;33m)\u001b[0m\u001b[1;33m:\u001b[0m\u001b[1;33m\u001b[0m\u001b[1;33m\u001b[0m\u001b[0m\n\u001b[0;32m   1074\u001b[0m         \u001b[1;32mtry\u001b[0m\u001b[1;33m:\u001b[0m\u001b[1;33m\u001b[0m\u001b[1;33m\u001b[0m\u001b[0m\n\u001b[1;32m-> 1075\u001b[1;33m             \u001b[0mfirst_packet\u001b[0m \u001b[1;33m=\u001b[0m \u001b[0mself\u001b[0m\u001b[1;33m.\u001b[0m\u001b[0mconnection\u001b[0m\u001b[1;33m.\u001b[0m\u001b[0m_read_packet\u001b[0m\u001b[1;33m(\u001b[0m\u001b[1;33m)\u001b[0m\u001b[1;33m\u001b[0m\u001b[1;33m\u001b[0m\u001b[0m\n\u001b[0m\u001b[0;32m   1076\u001b[0m \u001b[1;33m\u001b[0m\u001b[0m\n\u001b[0;32m   1077\u001b[0m             \u001b[1;32mif\u001b[0m \u001b[0mfirst_packet\u001b[0m\u001b[1;33m.\u001b[0m\u001b[0mis_ok_packet\u001b[0m\u001b[1;33m(\u001b[0m\u001b[1;33m)\u001b[0m\u001b[1;33m:\u001b[0m\u001b[1;33m\u001b[0m\u001b[1;33m\u001b[0m\u001b[0m\n",
      "\u001b[1;32mE:\\Users\\brian\\Anaconda3\\envs\\EATinerary\\lib\\site-packages\\pymysql\\connections.py\u001b[0m in \u001b[0;36m_read_packet\u001b[1;34m(self, packet_type)\u001b[0m\n\u001b[0;32m    682\u001b[0m \u001b[1;33m\u001b[0m\u001b[0m\n\u001b[0;32m    683\u001b[0m         \u001b[0mpacket\u001b[0m \u001b[1;33m=\u001b[0m \u001b[0mpacket_type\u001b[0m\u001b[1;33m(\u001b[0m\u001b[0mbuff\u001b[0m\u001b[1;33m,\u001b[0m \u001b[0mself\u001b[0m\u001b[1;33m.\u001b[0m\u001b[0mencoding\u001b[0m\u001b[1;33m)\u001b[0m\u001b[1;33m\u001b[0m\u001b[1;33m\u001b[0m\u001b[0m\n\u001b[1;32m--> 684\u001b[1;33m         \u001b[0mpacket\u001b[0m\u001b[1;33m.\u001b[0m\u001b[0mcheck_error\u001b[0m\u001b[1;33m(\u001b[0m\u001b[1;33m)\u001b[0m\u001b[1;33m\u001b[0m\u001b[1;33m\u001b[0m\u001b[0m\n\u001b[0m\u001b[0;32m    685\u001b[0m         \u001b[1;32mreturn\u001b[0m \u001b[0mpacket\u001b[0m\u001b[1;33m\u001b[0m\u001b[1;33m\u001b[0m\u001b[0m\n\u001b[0;32m    686\u001b[0m \u001b[1;33m\u001b[0m\u001b[0m\n",
      "\u001b[1;32mE:\\Users\\brian\\Anaconda3\\envs\\EATinerary\\lib\\site-packages\\pymysql\\protocol.py\u001b[0m in \u001b[0;36mcheck_error\u001b[1;34m(self)\u001b[0m\n\u001b[0;32m    218\u001b[0m             \u001b[0merrno\u001b[0m \u001b[1;33m=\u001b[0m \u001b[0mself\u001b[0m\u001b[1;33m.\u001b[0m\u001b[0mread_uint16\u001b[0m\u001b[1;33m(\u001b[0m\u001b[1;33m)\u001b[0m\u001b[1;33m\u001b[0m\u001b[1;33m\u001b[0m\u001b[0m\n\u001b[0;32m    219\u001b[0m             \u001b[1;32mif\u001b[0m \u001b[0mDEBUG\u001b[0m\u001b[1;33m:\u001b[0m \u001b[0mprint\u001b[0m\u001b[1;33m(\u001b[0m\u001b[1;34m\"errno =\"\u001b[0m\u001b[1;33m,\u001b[0m \u001b[0merrno\u001b[0m\u001b[1;33m)\u001b[0m\u001b[1;33m\u001b[0m\u001b[1;33m\u001b[0m\u001b[0m\n\u001b[1;32m--> 220\u001b[1;33m             \u001b[0merr\u001b[0m\u001b[1;33m.\u001b[0m\u001b[0mraise_mysql_exception\u001b[0m\u001b[1;33m(\u001b[0m\u001b[0mself\u001b[0m\u001b[1;33m.\u001b[0m\u001b[0m_data\u001b[0m\u001b[1;33m)\u001b[0m\u001b[1;33m\u001b[0m\u001b[1;33m\u001b[0m\u001b[0m\n\u001b[0m\u001b[0;32m    221\u001b[0m \u001b[1;33m\u001b[0m\u001b[0m\n\u001b[0;32m    222\u001b[0m     \u001b[1;32mdef\u001b[0m \u001b[0mdump\u001b[0m\u001b[1;33m(\u001b[0m\u001b[0mself\u001b[0m\u001b[1;33m)\u001b[0m\u001b[1;33m:\u001b[0m\u001b[1;33m\u001b[0m\u001b[1;33m\u001b[0m\u001b[0m\n",
      "\u001b[1;32mE:\\Users\\brian\\Anaconda3\\envs\\EATinerary\\lib\\site-packages\\pymysql\\err.py\u001b[0m in \u001b[0;36mraise_mysql_exception\u001b[1;34m(data)\u001b[0m\n\u001b[0;32m    107\u001b[0m         \u001b[0merrval\u001b[0m \u001b[1;33m=\u001b[0m \u001b[0mdata\u001b[0m\u001b[1;33m[\u001b[0m\u001b[1;36m3\u001b[0m\u001b[1;33m:\u001b[0m\u001b[1;33m]\u001b[0m\u001b[1;33m.\u001b[0m\u001b[0mdecode\u001b[0m\u001b[1;33m(\u001b[0m\u001b[1;34m'utf-8'\u001b[0m\u001b[1;33m,\u001b[0m \u001b[1;34m'replace'\u001b[0m\u001b[1;33m)\u001b[0m\u001b[1;33m\u001b[0m\u001b[1;33m\u001b[0m\u001b[0m\n\u001b[0;32m    108\u001b[0m     \u001b[0merrorclass\u001b[0m \u001b[1;33m=\u001b[0m \u001b[0merror_map\u001b[0m\u001b[1;33m.\u001b[0m\u001b[0mget\u001b[0m\u001b[1;33m(\u001b[0m\u001b[0merrno\u001b[0m\u001b[1;33m,\u001b[0m \u001b[0mInternalError\u001b[0m\u001b[1;33m)\u001b[0m\u001b[1;33m\u001b[0m\u001b[1;33m\u001b[0m\u001b[0m\n\u001b[1;32m--> 109\u001b[1;33m     \u001b[1;32mraise\u001b[0m \u001b[0merrorclass\u001b[0m\u001b[1;33m(\u001b[0m\u001b[0merrno\u001b[0m\u001b[1;33m,\u001b[0m \u001b[0merrval\u001b[0m\u001b[1;33m)\u001b[0m\u001b[1;33m\u001b[0m\u001b[1;33m\u001b[0m\u001b[0m\n\u001b[0m",
      "\u001b[1;31mInternalError\u001b[0m: (pymysql.err.InternalError) (1292, \"Incorrect datetime value: '9:00' for column 'Monday_open' at row 1\")\n[SQL: INSERT INTO restaurant (`Restaurant_id`, `Name`, `Address`, `Postal_code`, `City`, `Latitude`, `Longitude`, `Stars`, `Monday_open`, `Monday_close`, `Tuesday_open`, `Tuesday_close`, `Wednesday_open`, `Wednesday_close`, `Thursday_open`, `Thursday_close`, `Friday_open`, `Friday_close`, `Saturday_open`, `Saturday_close`, `Sunday_open`, `Sunday_close`, `Category_ids`, `Over_19`, `BYOBCorkage`, `BikeParking`, `BusinessAcceptsCreditCards`, `CoatCheck`, `DogsAllowed`, `GoodForDancing`, `GoodForKids`, `HappyHour`, `HasTV`, `OutdoorSeating`, `RestaurantsCounterService`, `RestaurantsGoodForGroups`, `RestaurantsPriceRange2`, `RestaurantsTableService`, `RestaurantsTakeOut`, `WheelchairAccessible`, `Ambience_romantic`, `Ambience_touristy`, `Ambience_hipster`, `Ambience_intimate`, `Ambience_classy`, `Ambience_upscale`, `Ambience_divey`, `Ambience_trendy`, `Ambience_casual`, `Parking_garage`, `Parking_valet`, `Parking_street`, `Parking_validated`, `Parking_lot`, `Meal_dessert`, `Meal_brunch`, `Meal_latenight`, `Meal_lunch`, `Meal_dinner`, `Meal_breakfast`, `Best_night_monday`, `Best_night_tuesday`, `Best_night_friday`, `Best_night_wednesday`, `Best_night_thursday`, `Best_night_sunday`, `Best_night_saturday`, `Alcohol_beer_and_wine`, `Alcohol_full_bar`, `Dietary_Restrictions_dairy-free`, `Dietary_Restrictions_gluten-free`, `Dietary_Restrictions_vegan`, `Dietary_Restrictions_kosher`, `Dietary_Restrictions_halal`, `Dietary_Restrictions_soy-free`, `Dietary_Restrictions_vegetarian`, `Music_dj`, `Music_live`, `Music_background_music`, `Music_no_music`, `Music_jukebox`, `Music_video`, `Music_karaoke`, `Noise_quiet`, `Noise_average`, `Noise_loud`, `Noise_very_loud`, `Restaurants_Attire_dressy`, `Restaurants_Attire_casual`, `Restaurants_Attire_formal`, `Smoking_no`, `Smoking_outdoor`, `Smoking_yes`) VALUES (%(Restaurant_id)s, %(Name)s, %(Address)s, %(Postal_code)s, %(City)s, %(Latitude)s, %(Longitude)s, %(Stars)s, %(Monday_open)s, %(Monday_close)s, %(Tuesday_open)s, %(Tuesday_close)s, %(Wednesday_open)s, %(Wednesday_close)s, %(Thursday_open)s, %(Thursday_close)s, %(Friday_open)s, %(Friday_close)s, %(Saturday_open)s, %(Saturday_close)s, %(Sunday_open)s, %(Sunday_close)s, %(Category_ids)s, %(Over_19)s, %(BYOBCorkage)s, %(BikeParking)s, %(BusinessAcceptsCreditCards)s, %(CoatCheck)s, %(DogsAllowed)s, %(GoodForDancing)s, %(GoodForKids)s, %(HappyHour)s, %(HasTV)s, %(OutdoorSeating)s, %(RestaurantsCounterService)s, %(RestaurantsGoodForGroups)s, %(RestaurantsPriceRange2)s, %(RestaurantsTableService)s, %(RestaurantsTakeOut)s, %(WheelchairAccessible)s, %(Ambience_romantic)s, %(Ambience_touristy)s, %(Ambience_hipster)s, %(Ambience_intimate)s, %(Ambience_classy)s, %(Ambience_upscale)s, %(Ambience_divey)s, %(Ambience_trendy)s, %(Ambience_casual)s, %(Parking_garage)s, %(Parking_valet)s, %(Parking_street)s, %(Parking_validated)s, %(Parking_lot)s, %(Meal_dessert)s, %(Meal_brunch)s, %(Meal_latenight)s, %(Meal_lunch)s, %(Meal_dinner)s, %(Meal_breakfast)s, %(Best_night_monday)s, %(Best_night_tuesday)s, %(Best_night_friday)s, %(Best_night_wednesday)s, %(Best_night_thursday)s, %(Best_night_sunday)s, %(Best_night_saturday)s, %(Alcohol_beer_and_wine)s, %(Alcohol_full_bar)s, %(Dietary_Restrictions_dairy-free)s, %(Dietary_Restrictions_gluten-free)s, %(Dietary_Restrictions_vegan)s, %(Dietary_Restrictions_kosher)s, %(Dietary_Restrictions_halal)s, %(Dietary_Restrictions_soy-free)s, %(Dietary_Restrictions_vegetarian)s, %(Music_dj)s, %(Music_live)s, %(Music_background_music)s, %(Music_no_music)s, %(Music_jukebox)s, %(Music_video)s, %(Music_karaoke)s, %(Noise_quiet)s, %(Noise_average)s, %(Noise_loud)s, %(Noise_very_loud)s, %(Restaurants_Attire_dressy)s, %(Restaurants_Attire_casual)s, %(Restaurants_Attire_formal)s, %(Smoking_no)s, %(Smoking_outdoor)s, %(Smoking_yes)s)]\n[parameters: ({'Restaurant_id': 0, 'Name': 'Emerald Chinese Restaurant', 'Address': '30 Eglinton Avenue W', 'Postal_code': 'L5R 3E7', 'City': 'Mississauga', 'Latitude': 43.6054989743, 'Longitude': -79.652288909, 'Stars': 2.5, 'Monday_open': '9:00', 'Monday_close': '0:00', 'Tuesday_open': '9:00', 'Tuesday_close': '0:00', 'Wednesday_open': '9:00', 'Wednesday_close': '0:00', 'Thursday_open': '9:00', 'Thursday_close': '0:00', 'Friday_open': '9:00', 'Friday_close': '1:00', 'Saturday_open': '9:00', 'Saturday_close': '1:00', 'Sunday_open': '9:00', 'Sunday_close': '0:00', 'Category_ids': '137,150,36,50,84', 'Over_19': 0, 'BYOBCorkage': 0, 'BikeParking': 0, 'BusinessAcceptsCreditCards': 0, 'CoatCheck': 0, 'DogsAllowed': 0, 'GoodForDancing': 0, 'GoodForKids': 1, 'HappyHour': 0, 'HasTV': 0, 'OutdoorSeating': 0, 'RestaurantsCounterService': 0, 'RestaurantsGoodForGroups': 1, 'RestaurantsPriceRange2': 2.0, 'RestaurantsTableService': 1, 'RestaurantsTakeOut': 1, 'WheelchairAccessible': 0, 'Ambience_romantic': 0, 'Ambience_touristy': 0, 'Ambience_hipster': 0, 'Ambience_intimate': 0, 'Ambience_classy': 0, 'Ambience_upscale': 0, 'Ambience_divey': 0, 'Ambience_trendy': 0, 'Ambience_casual': 1, 'Parking_garage': 0, 'Parking_valet': 0, 'Parking_street': 0, 'Parking_validated': 0, 'Parking_lot': 1, 'Meal_dessert': 0, 'Meal_brunch': 0, 'Meal_latenight': 0, 'Meal_lunch': 1, 'Meal_dinner': 1, 'Meal_breakfast': 0, 'Best_night_monday': 0, 'Best_night_tuesday': 0, 'Best_night_friday': 0, 'Best_night_wednesday': 0, 'Best_night_thursday': 0, 'Best_night_sunday': 0, 'Best_night_saturday': 0, 'Alcohol_beer_and_wine': 0, 'Alcohol_full_bar': 1, 'Dietary_Restrictions_dairy-free': 0, 'Dietary_Restrictions_gluten-free': 0, 'Dietary_Restrictions_vegan': 0, 'Dietary_Restrictions_kosher': 0, 'Dietary_Restrictions_halal': 0, 'Dietary_Restrictions_soy-free': 0, 'Dietary_Restrictions_vegetarian': 0, 'Music_dj': 0, 'Music_live': 0, 'Music_background_music': 0, 'Music_no_music': 0, 'Music_jukebox': 0, 'Music_video': 0, 'Music_karaoke': 0, 'Noise_quiet': 0, 'Noise_average': 0, 'Noise_loud': 1, 'Noise_very_loud': 0, 'Restaurants_Attire_dressy': 0, 'Restaurants_Attire_casual': 1, 'Restaurants_Attire_formal': 0, 'Smoking_no': 0, 'Smoking_outdoor': 0, 'Smoking_yes': 0}, {'Restaurant_id': 1, 'Name': 'Bolt Fresh Bar', 'Address': '1170 Queen Street W', 'Postal_code': 'M6J 1J5', 'City': 'Toronto', 'Latitude': 43.6428886, 'Longitude': -79.4254291, 'Stars': 3.0, 'Monday_open': '8:00', 'Monday_close': '21:00', 'Tuesday_open': '8:00', 'Tuesday_close': '21:00', 'Wednesday_open': '8:00', 'Wednesday_close': '21:00', 'Thursday_open': '8:00', 'Thursday_close': '21:00', 'Friday_open': '8:00', 'Friday_close': '21:00', 'Saturday_open': '9:00', 'Saturday_close': '21:00', 'Sunday_open': '9:00', 'Sunday_close': '21:00', 'Category_ids': '176,59,95', 'Over_19': 0, 'BYOBCorkage': 0, 'BikeParking': 1, 'BusinessAcceptsCreditCards': 0, 'CoatCheck': 0, 'DogsAllowed': 0, 'GoodForDancing': 0, 'GoodForKids': 0, 'HappyHour': 0, 'HasTV': 0, 'OutdoorSeating': 0, 'RestaurantsCounterService': 0, 'RestaurantsGoodForGroups': 0, 'RestaurantsPriceRange2': 2.0, 'RestaurantsTableService': 0, 'RestaurantsTakeOut': 1, 'WheelchairAccessible': 0, 'Ambience_romantic': 0, 'Ambience_touristy': 0, 'Ambience_hipster': 0, 'Ambience_intimate': 0, 'Ambience_classy': 0, 'Ambience_upscale': 0, 'Ambience_divey': 0, 'Ambience_trendy': 0, 'Ambience_casual': 0, 'Parking_garage': 0, 'Parking_valet': 0, 'Parking_street': 1, 'Parking_validated': 0, 'Parking_lot': 0, 'Meal_dessert': 0, 'Meal_brunch': 0, 'Meal_latenight': 0, 'Meal_lunch': 0, 'Meal_dinner': 0, 'Meal_breakfast': 0, 'Best_night_monday': 0, 'Best_night_tuesday': 0, 'Best_night_friday': 0, 'Best_night_wednesday': 0, 'Best_night_thursday': 0, 'Best_night_sunday': 0, 'Best_night_saturday': 0, 'Alcohol_beer_and_wine': 0, 'Alcohol_full_bar': 0, 'Dietary_Restrictions_dairy-free': 0, 'Dietary_Restrictions_gluten-free': 0, 'Dietary_Restrictions_vegan': 0, 'Dietary_Restrictions_kosher': 0, 'Dietary_Restrictions_halal': 0, 'Dietary_Restrictions_soy-free': 0, 'Dietary_Restrictions_vegetarian': 0, 'Music_dj': 0, 'Music_live': 0, 'Music_background_music': 0, 'Music_no_music': 0, 'Music_jukebox': 0, 'Music_video': 0, 'Music_karaoke': 0, 'Noise_quiet': 0, 'Noise_average': 0, 'Noise_loud': 0, 'Noise_very_loud': 0, 'Restaurants_Attire_dressy': 0, 'Restaurants_Attire_casual': 0, 'Restaurants_Attire_formal': 0, 'Smoking_no': 0, 'Smoking_outdoor': 0, 'Smoking_yes': 0}, {'Restaurant_id': 2, 'Name': 'The Steady Cafe  Bar', 'Address': '1051 Bloor Street W', 'Postal_code': 'M6H 1M4', 'City': 'Toronto', 'Latitude': 43.6604937, 'Longitude': -79.432099, 'Stars': 3.5, 'Monday_open': None, 'Monday_close': None, 'Tuesday_open': '9:00', 'Tuesday_close': '18:00', 'Wednesday_open': '9:00', 'Wednesday_close': '18:00', 'Thursday_open': '9:00', 'Thursday_close': '18:00', 'Friday_open': '9:00', 'Friday_close': '2:00', 'Saturday_open': '10:00', 'Saturday_close': '2:00', 'Sunday_open': '10:00', 'Sunday_close': '15:00', 'Category_ids': '148,162,176,19,39', 'Over_19': 0, 'BYOBCorkage': 0, 'BikeParking': 1, 'BusinessAcceptsCreditCards': 0, 'CoatCheck': 0, 'DogsAllowed': 0, 'GoodForDancing': 0, 'GoodForKids': 0, 'HappyHour': 0, 'HasTV': 0, 'OutdoorSeating': 0, 'RestaurantsCounterService': 0, 'RestaurantsGoodForGroups': 1, 'RestaurantsPriceRange2': 2.0, 'RestaurantsTableService': 0, 'RestaurantsTakeOut': 0, 'WheelchairAccessible': 0, 'Ambience_romantic': 0, 'Ambience_touristy': 0, 'Ambience_hipster': 0, 'Ambience_intimate': 0, 'Ambience_classy': 0, 'Ambience_upscale': 0, 'Ambience_divey': 0, 'Ambience_trendy': 0, 'Ambience_casual': 1, 'Parking_garage': 0, 'Parking_valet': 0, 'Parking_street': 1, 'Parking_validated': 0, 'Parking_lot': 0, 'Meal_dessert': 0, 'Meal_brunch': 0, 'Meal_latenight': 0, 'Meal_lunch': 0, 'Meal_dinner': 0, 'Meal_breakfast': 0, 'Best_night_monday': 0, 'Best_night_tuesday': 0, 'Best_night_friday': 0, 'Best_night_wednesday': 0, 'Best_night_thursday': 0, 'Best_night_sunday': 0, 'Best_night_saturday': 0, 'Alcohol_beer_and_wine': 0, 'Alcohol_full_bar': 1, 'Dietary_Restrictions_dairy-free': 0, 'Dietary_Restrictions_gluten-free': 0, 'Dietary_Restrictions_vegan': 0, 'Dietary_Restrictions_kosher': 0, 'Dietary_Restrictions_halal': 0, 'Dietary_Restrictions_soy-free': 0, 'Dietary_Restrictions_vegetarian': 0, 'Music_dj': 0, 'Music_live': 0, 'Music_background_music': 0, 'Music_no_music': 0, 'Music_jukebox': 0, 'Music_video': 0, 'Music_karaoke': 0, 'Noise_quiet': 0, 'Noise_average': 1, 'Noise_loud': 0, 'Noise_very_loud': 0, 'Restaurants_Attire_dressy': 0, 'Restaurants_Attire_casual': 1, 'Restaurants_Attire_formal': 0, 'Smoking_no': 0, 'Smoking_outdoor': 0, 'Smoking_yes': 0}, {'Restaurant_id': 3, 'Name': 'Mad Crush Wine Bar', 'Address': '582 College Street', 'Postal_code': 'M6G 1B3', 'City': 'Toronto', 'Latitude': 43.6554201, 'Longitude': -79.4133518, 'Stars': 4.0, 'Monday_open': None, 'Monday_close': None, 'Tuesday_open': None, 'Tuesday_close': None, 'Wednesday_open': None, 'Wednesday_close': None, 'Thursday_open': '18:00', 'Thursday_close': '2:00', 'Friday_open': '18:00', 'Friday_close': '2:00', 'Saturday_open': '18:00', 'Saturday_close': '2:00', 'Sunday_open': None, 'Sunday_close': None, 'Category_ids': '113,182,19', 'Over_19': 0, 'BYOBCorkage': 0, 'BikeParking': 1, 'BusinessAcceptsCreditCards': 0, 'CoatCheck': 0, 'DogsAllowed': 0, 'GoodForDancing': 0, 'GoodForKids': 0, 'HappyHour': 0, 'HasTV': 0, 'OutdoorSeating': 1, 'RestaurantsCounterService': 0, 'RestaurantsGoodForGroups': 1, 'RestaurantsPriceRange2': 3.0, 'RestaurantsTableService': 1, 'RestaurantsTakeOut': 1, 'WheelchairAccessible': 1, 'Ambience_romantic': 0, 'Ambience_touristy': 0, 'Ambience_hipster': 0, 'Ambience_intimate': 0, 'Ambience_classy': 0, 'Ambience_upscale': 0, 'Ambience_divey': 0, 'Ambience_trendy': 0, 'Ambience_casual': 0, 'Parking_garage': 0, 'Parking_valet': 0, 'Parking_street': 1, 'Parking_validated': 0, 'Parking_lot': 0, 'Meal_dessert': 0, 'Meal_brunch': 0, 'Meal_latenight': 0, 'Meal_lunch': 0, 'Meal_dinner': 0, 'Meal_breakfast': 0, 'Best_night_monday': 0, 'Best_night_tuesday': 0, 'Best_night_friday': 0, 'Best_night_wednesday': 0, 'Best_night_thursday': 0, 'Best_night_sunday': 1, 'Best_night_saturday': 0, 'Alcohol_beer_and_wine': 0, 'Alcohol_full_bar': 1, 'Dietary_Restrictions_dairy-free': 0, 'Dietary_Restrictions_gluten-free': 0, 'Dietary_Restrictions_vegan': 0, 'Dietary_Restrictions_kosher': 0, 'Dietary_Restrictions_halal': 0, 'Dietary_Restrictions_soy-free': 0, 'Dietary_Restrictions_vegetarian': 0, 'Music_dj': 0, 'Music_live': 0, 'Music_background_music': 0, 'Music_no_music': 0, 'Music_jukebox': 0, 'Music_video': 0, 'Music_karaoke': 0, 'Noise_quiet': 0, 'Noise_average': 0, 'Noise_loud': 0, 'Noise_very_loud': 0, 'Restaurants_Attire_dressy': 1, 'Restaurants_Attire_casual': 0, 'Restaurants_Attire_formal': 0, 'Smoking_no': 0, 'Smoking_outdoor': 0, 'Smoking_yes': 0}, {'Restaurant_id': 4, 'Name': 'Buk Chang Dong Soon Tofu', 'Address': '3085 Hurontario Street', 'Postal_code': 'L5A', 'City': 'Mississauga', 'Latitude': 43.582262, 'Longitude': -79.618858, 'Stars': 4.0, 'Monday_open': '11:00', 'Monday_close': '22:00', 'Tuesday_open': '11:00', 'Tuesday_close': '22:00', 'Wednesday_open': '11:00', 'Wednesday_close': '22:00', 'Thursday_open': '11:00', 'Thursday_close': '22:00', 'Friday_open': '11:00', 'Friday_close': '22:00', 'Saturday_open': '11:00', 'Saturday_close': '22:00', 'Sunday_open': '11:00', 'Sunday_close': '22:00', 'Category_ids': '98', 'Over_19': 0, 'BYOBCorkage': 0, 'BikeParking': 1, 'BusinessAcceptsCreditCards': 0, 'CoatCheck': 0, 'DogsAllowed': 0, 'GoodForDancing': 0, 'GoodForKids': 1, 'HappyHour': 0, 'HasTV': 0, 'OutdoorSeating': 0, 'RestaurantsCounterService': 0, 'RestaurantsGoodForGroups': 1, 'RestaurantsPriceRange2': 1.0, 'RestaurantsTableService': 1, 'RestaurantsTakeOut': 1, 'WheelchairAccessible': 0, 'Ambience_romantic': 0, 'Ambience_touristy': 0, 'Ambience_hipster': 0, 'Ambience_intimate': 0, 'Ambience_classy': 0, 'Ambience_upscale': 0, 'Ambience_divey': 0, 'Ambience_trendy': 0, 'Ambience_casual': 1, 'Parking_garage': 0, 'Parking_valet': 0, 'Parking_street': 0, 'Parking_validated': 0, 'Parking_lot': 1, 'Meal_dessert': 0, 'Meal_brunch': 0, 'Meal_latenight': 0, 'Meal_lunch': 1, 'Meal_dinner': 1, 'Meal_breakfast': 0, 'Best_night_monday': 0, 'Best_night_tuesday': 0, 'Best_night_friday': 0, 'Best_night_wednesday': 0, 'Best_night_thursday': 0, 'Best_night_sunday': 0, 'Best_night_saturday': 0, 'Alcohol_beer_and_wine': 0, 'Alcohol_full_bar': 0, 'Dietary_Restrictions_dairy-free': 0, 'Dietary_Restrictions_gluten-free': 0, 'Dietary_Restrictions_vegan': 0, 'Dietary_Restrictions_kosher': 0, 'Dietary_Restrictions_halal': 0, 'Dietary_Restrictions_soy-free': 0, 'Dietary_Restrictions_vegetarian': 0, 'Music_dj': 0, 'Music_live': 0, 'Music_background_music': 0, 'Music_no_music': 0, 'Music_jukebox': 0, 'Music_video': 0, 'Music_karaoke': 0, 'Noise_quiet': 0, 'Noise_average': 1, 'Noise_loud': 0, 'Noise_very_loud': 0, 'Restaurants_Attire_dressy': 0, 'Restaurants_Attire_casual': 1, 'Restaurants_Attire_formal': 0, 'Smoking_no': 0, 'Smoking_outdoor': 0, 'Smoking_yes': 0}, {'Restaurant_id': 5, 'Name': 'The Sweet Gallery', 'Address': '350 Bering Avenue', 'Postal_code': 'M8Z 3A9', 'City': 'Etobicoke', 'Latitude': 43.637329, 'Longitude': -79.5311665, 'Stars': 4.0, 'Monday_open': None, 'Monday_close': None, 'Tuesday_open': '8:00', 'Tuesday_close': '18:00', 'Wednesday_open': '8:00', 'Wednesday_close': '18:00', 'Thursday_open': '8:00', 'Thursday_close': '18:00', 'Friday_open': '8:00', 'Friday_close': '18:00', 'Saturday_open': '8:00', 'Saturday_close': '18:00', 'Sunday_open': None, 'Sunday_close': None, 'Category_ids': '134,19,26,39,49', 'Over_19': 0, 'BYOBCorkage': 0, 'BikeParking': 1, 'BusinessAcceptsCreditCards': 0, 'CoatCheck': 0, 'DogsAllowed': 0, 'GoodForDancing': 0, 'GoodForKids': 1, 'HappyHour': 0, 'HasTV': 0, 'OutdoorSeating': 1, 'RestaurantsCounterService': 0, 'RestaurantsGoodForGroups': 1, 'RestaurantsPriceRange2': 2.0, 'RestaurantsTableService': 1, 'RestaurantsTakeOut': 1, 'WheelchairAccessible': 0, 'Ambience_romantic': 0, 'Ambience_touristy': 0, 'Ambience_hipster': 0, 'Ambience_intimate': 0, 'Ambience_classy': 0, 'Ambience_upscale': 0, 'Ambience_divey': 0, 'Ambience_trendy': 0, 'Ambience_casual': 0, 'Parking_garage': 0, 'Parking_valet': 0, 'Parking_street': 1, 'Parking_validated': 0, 'Parking_lot': 1, 'Meal_dessert': 0, 'Meal_brunch': 0, 'Meal_latenight': 0, 'Meal_lunch': 0, 'Meal_dinner': 0, 'Meal_breakfast': 0, 'Best_night_monday': 0, 'Best_night_tuesday': 0, 'Best_night_friday': 0, 'Best_night_wednesday': 0, 'Best_night_thursday': 0, 'Best_night_sunday': 0, 'Best_night_saturday': 0, 'Alcohol_beer_and_wine': 0, 'Alcohol_full_bar': 0, 'Dietary_Restrictions_dairy-free': 0, 'Dietary_Restrictions_gluten-free': 0, 'Dietary_Restrictions_vegan': 0, 'Dietary_Restrictions_kosher': 0, 'Dietary_Restrictions_halal': 0, 'Dietary_Restrictions_soy-free': 0, 'Dietary_Restrictions_vegetarian': 0, 'Music_dj': 0, 'Music_live': 0, 'Music_background_music': 0, 'Music_no_music': 0, 'Music_jukebox': 0, 'Music_video': 0, 'Music_karaoke': 0, 'Noise_quiet': 1, 'Noise_average': 0, 'Noise_loud': 0, 'Noise_very_loud': 0, 'Restaurants_Attire_dressy': 0, 'Restaurants_Attire_casual': 1, 'Restaurants_Attire_formal': 0, 'Smoking_no': 0, 'Smoking_outdoor': 0, 'Smoking_yes': 0}, {'Restaurant_id': 6, 'Name': 'Burrito Bandidos', 'Address': '1614 Queen Street E', 'Postal_code': 'M4L 1G4', 'City': 'Toronto', 'Latitude': 43.6661812, 'Longitude': -79.3164682, 'Stars': 3.5, 'Monday_open': '11:00', 'Monday_close': '23:00', 'Tuesday_open': '11:00', 'Tuesday_close': '23:00', 'Wednesday_open': '11:00', 'Wednesday_close': '23:00', 'Thursday_open': '11:00', 'Thursday_close': '23:00', 'Friday_open': '11:00', 'Friday_close': '23:00', 'Saturday_open': '12:00', 'Saturday_close': '23:00', 'Sunday_open': '12:00', 'Sunday_close': '22:00', 'Category_ids': '109,167', 'Over_19': 0, 'BYOBCorkage': 0, 'BikeParking': 1, 'BusinessAcceptsCreditCards': 0, 'CoatCheck': 0, 'DogsAllowed': 0, 'GoodForDancing': 0, 'GoodForKids': 1, 'HappyHour': 0, 'HasTV': 0, 'OutdoorSeating': 0, 'RestaurantsCounterService': 0, 'RestaurantsGoodForGroups': 1, 'RestaurantsPriceRange2': 2.0, 'RestaurantsTableService': 0, 'RestaurantsTakeOut': 1, 'WheelchairAccessible': 0, 'Ambience_romantic': 0, 'Ambience_touristy': 0, 'Ambience_hipster': 0, 'Ambience_intimate': 0, 'Ambience_classy': 0, 'Ambience_upscale': 0, 'Ambience_divey': 0, 'Ambience_trendy': 0, 'Ambience_casual': 1, 'Parking_garage': 0, 'Parking_valet': 0, 'Parking_street': 1, 'Parking_validated': 0, 'Parking_lot': 0, 'Meal_dessert': 0, 'Meal_brunch': 0, 'Meal_latenight': 0, 'Meal_lunch': 0, 'Meal_dinner': 0, 'Meal_breakfast': 0, 'Best_night_monday': 0, 'Best_night_tuesday': 0, 'Best_night_friday': 0, 'Best_night_wednesday': 0, 'Best_night_thursday': 0, 'Best_night_sunday': 0, 'Best_night_saturday': 0, 'Alcohol_beer_and_wine': 0, 'Alcohol_full_bar': 0, 'Dietary_Restrictions_dairy-free': 0, 'Dietary_Restrictions_gluten-free': 0, 'Dietary_Restrictions_vegan': 0, 'Dietary_Restrictions_kosher': 0, 'Dietary_Restrictions_halal': 0, 'Dietary_Restrictions_soy-free': 0, 'Dietary_Restrictions_vegetarian': 0, 'Music_dj': 0, 'Music_live': 0, 'Music_background_music': 0, 'Music_no_music': 0, 'Music_jukebox': 0, 'Music_video': 0, 'Music_karaoke': 0, 'Noise_quiet': 0, 'Noise_average': 1, 'Noise_loud': 0, 'Noise_very_loud': 0, 'Restaurants_Attire_dressy': 0, 'Restaurants_Attire_casual': 1, 'Restaurants_Attire_formal': 0, 'Smoking_no': 0, 'Smoking_outdoor': 0, 'Smoking_yes': 0}, {'Restaurant_id': 7, 'Name': 'Fabulous Cakes and Confections Inc', 'Address': '4300 Steeles Avenue W, Unit 9', 'Postal_code': 'L4L 4C2', 'City': 'Vaughan', 'Latitude': 43.7675451093, 'Longitude': -79.5617757296, 'Stars': 3.5, 'Monday_open': None, 'Monday_close': None, 'Tuesday_open': '12:00', 'Tuesday_close': '17:00', 'Wednesday_open': '12:00', 'Wednesday_close': '17:00', 'Thursday_open': '12:00', 'Thursday_close': '17:00', 'Friday_open': '12:00', 'Friday_close': '17:00', 'Saturday_open': '12:00', 'Saturday_close': '17:00', 'Sunday_open': None, 'Sunday_close': None, 'Category_ids': '49', 'Over_19': 0, 'BYOBCorkage': 0, 'BikeParking': 0, 'BusinessAcceptsCreditCards': 0, 'CoatCheck': 0, 'DogsAllowed': 0, 'GoodForDancing': 0, 'GoodForKids': 0, 'HappyHour': 0, 'HasTV': 0, 'OutdoorSeating': 0, 'RestaurantsCounterService': 0, 'RestaurantsGoodForGroups': 0, 'RestaurantsPriceRange2': 2.0, 'RestaurantsTableService': 0, 'RestaurantsTakeOut': 0, 'WheelchairAccessible': 0, 'Ambience_romantic': 0, 'Ambience_touristy': 0, 'Ambience_hipster': 0, 'Ambience_intimate': 0, 'Ambience_classy': 0, 'Ambience_upscale': 0, 'Ambience_divey': 0, 'Ambience_trendy': 0, 'Ambience_casual': 0, 'Parking_garage': 0, 'Parking_valet': 0, 'Parking_street': 0, 'Parking_validated': 0, 'Parking_lot': 0, 'Meal_dessert': 0, 'Meal_brunch': 0, 'Meal_latenight': 0, 'Meal_lunch': 0, 'Meal_dinner': 0, 'Meal_breakfast': 0, 'Best_night_monday': 0, 'Best_night_tuesday': 0, 'Best_night_friday': 0, 'Best_night_wednesday': 0, 'Best_night_thursday': 0, 'Best_night_sunday': 0, 'Best_night_saturday': 0, 'Alcohol_beer_and_wine': 0, 'Alcohol_full_bar': 0, 'Dietary_Restrictions_dairy-free': 0, 'Dietary_Restrictions_gluten-free': 0, 'Dietary_Restrictions_vegan': 0, 'Dietary_Restrictions_kosher': 0, 'Dietary_Restrictions_halal': 0, 'Dietary_Restrictions_soy-free': 0, 'Dietary_Restrictions_vegetarian': 0, 'Music_dj': 0, 'Music_live': 0, 'Music_background_music': 0, 'Music_no_music': 0, 'Music_jukebox': 0, 'Music_video': 0, 'Music_karaoke': 0, 'Noise_quiet': 0, 'Noise_average': 0, 'Noise_loud': 0, 'Noise_very_loud': 0, 'Restaurants_Attire_dressy': 0, 'Restaurants_Attire_casual': 0, 'Restaurants_Attire_formal': 0, 'Smoking_no': 0, 'Smoking_outdoor': 0, 'Smoking_yes': 0}  ... displaying 10 of 12220 total bound parameter sets ...  {'Restaurant_id': 12218, 'Name': 'Thai Fantasy', 'Address': '578 Yonge Street', 'Postal_code': 'M4Y 1Z3', 'City': 'Toronto', 'Latitude': 43.6651203, 'Longitude': -79.3848093, 'Stars': 4.0, 'Monday_open': '0:00', 'Monday_close': '0:00', 'Tuesday_open': '11:00', 'Tuesday_close': '23:00', 'Wednesday_open': '11:00', 'Wednesday_close': '23:00', 'Thursday_open': '11:00', 'Thursday_close': '23:00', 'Friday_open': '11:00', 'Friday_close': '23:00', 'Saturday_open': '12:00', 'Saturday_close': '23:00', 'Sunday_open': '12:00', 'Sunday_close': '22:00', 'Category_ids': '168', 'Over_19': 0, 'BYOBCorkage': 0, 'BikeParking': 1, 'BusinessAcceptsCreditCards': 1, 'CoatCheck': 0, 'DogsAllowed': 0, 'GoodForDancing': 0, 'GoodForKids': 1, 'HappyHour': 0, 'HasTV': 0, 'OutdoorSeating': 0, 'RestaurantsCounterService': 0, 'RestaurantsGoodForGroups': 1, 'RestaurantsPriceRange2': 2.0, 'RestaurantsTableService': 1, 'RestaurantsTakeOut': 1, 'WheelchairAccessible': 0, 'Ambience_romantic': 0, 'Ambience_touristy': 0, 'Ambience_hipster': 0, 'Ambience_intimate': 0, 'Ambience_classy': 0, 'Ambience_upscale': 0, 'Ambience_divey': 0, 'Ambience_trendy': 0, 'Ambience_casual': 1, 'Parking_garage': 0, 'Parking_valet': 0, 'Parking_street': 1, 'Parking_validated': 0, 'Parking_lot': 0, 'Meal_dessert': 0, 'Meal_brunch': 0, 'Meal_latenight': 0, 'Meal_lunch': 1, 'Meal_dinner': 1, 'Meal_breakfast': 0, 'Best_night_monday': 0, 'Best_night_tuesday': 0, 'Best_night_friday': 0, 'Best_night_wednesday': 0, 'Best_night_thursday': 0, 'Best_night_sunday': 0, 'Best_night_saturday': 0, 'Alcohol_beer_and_wine': 1, 'Alcohol_full_bar': 0, 'Dietary_Restrictions_dairy-free': 0, 'Dietary_Restrictions_gluten-free': 0, 'Dietary_Restrictions_vegan': 0, 'Dietary_Restrictions_kosher': 0, 'Dietary_Restrictions_halal': 0, 'Dietary_Restrictions_soy-free': 0, 'Dietary_Restrictions_vegetarian': 0, 'Music_dj': 0, 'Music_live': 0, 'Music_background_music': 0, 'Music_no_music': 0, 'Music_jukebox': 0, 'Music_video': 0, 'Music_karaoke': 0, 'Noise_quiet': 0, 'Noise_average': 1, 'Noise_loud': 0, 'Noise_very_loud': 0, 'Restaurants_Attire_dressy': 0, 'Restaurants_Attire_casual': 1, 'Restaurants_Attire_formal': 0, 'Smoking_no': 0, 'Smoking_outdoor': 0, 'Smoking_yes': 0}, {'Restaurant_id': 12219, 'Name': 'Asia Hut', 'Address': '1450 Kingston Rd', 'Postal_code': 'L1V 1C1', 'City': 'Pickering', 'Latitude': 43.841844, 'Longitude': -79.083881, 'Stars': 4.5, 'Monday_open': '11:00', 'Monday_close': '21:30', 'Tuesday_open': '11:00', 'Tuesday_close': '21:30', 'Wednesday_open': '11:00', 'Wednesday_close': '21:30', 'Thursday_open': '11:00', 'Thursday_close': '21:30', 'Friday_open': '11:00', 'Friday_close': '22:30', 'Saturday_open': '11:00', 'Saturday_close': '22:30', 'Sunday_open': '16:00', 'Sunday_close': '21:30', 'Category_ids': '146,30,36', 'Over_19': 0, 'BYOBCorkage': 0, 'BikeParking': 1, 'BusinessAcceptsCreditCards': 0, 'CoatCheck': 0, 'DogsAllowed': 0, 'GoodForDancing': 0, 'GoodForKids': 0, 'HappyHour': 0, 'HasTV': 0, 'OutdoorSeating': 0, 'RestaurantsCounterService': 0, 'RestaurantsGoodForGroups': 0, 'RestaurantsPriceRange2': None, 'RestaurantsTableService': 0, 'RestaurantsTakeOut': 1, 'WheelchairAccessible': 0, 'Ambience_romantic': 0, 'Ambience_touristy': 0, 'Ambience_hipster': 0, 'Ambience_intimate': 0, 'Ambience_classy': 0, 'Ambience_upscale': 0, 'Ambience_divey': 0, 'Ambience_trendy': 0, 'Ambience_casual': 0, 'Parking_garage': 0, 'Parking_valet': 0, 'Parking_street': 0, 'Parking_validated': 0, 'Parking_lot': 0, 'Meal_dessert': 0, 'Meal_brunch': 0, 'Meal_latenight': 0, 'Meal_lunch': 0, 'Meal_dinner': 0, 'Meal_breakfast': 0, 'Best_night_monday': 0, 'Best_night_tuesday': 0, 'Best_night_friday': 0, 'Best_night_wednesday': 0, 'Best_night_thursday': 0, 'Best_night_sunday': 0, 'Best_night_saturday': 0, 'Alcohol_beer_and_wine': 0, 'Alcohol_full_bar': 0, 'Dietary_Restrictions_dairy-free': 0, 'Dietary_Restrictions_gluten-free': 0, 'Dietary_Restrictions_vegan': 0, 'Dietary_Restrictions_kosher': 0, 'Dietary_Restrictions_halal': 0, 'Dietary_Restrictions_soy-free': 0, 'Dietary_Restrictions_vegetarian': 0, 'Music_dj': 0, 'Music_live': 0, 'Music_background_music': 0, 'Music_no_music': 0, 'Music_jukebox': 0, 'Music_video': 0, 'Music_karaoke': 0, 'Noise_quiet': 0, 'Noise_average': 0, 'Noise_loud': 0, 'Noise_very_loud': 0, 'Restaurants_Attire_dressy': 0, 'Restaurants_Attire_casual': 1, 'Restaurants_Attire_formal': 0, 'Smoking_no': 0, 'Smoking_outdoor': 0, 'Smoking_yes': 0})]\n(Background on this error at: http://sqlalche.me/e/2j85)"
     ]
    }
   ],
   "source": [
    "# Creating sql database and tables for the restaurants and the unique categories\n",
    "business.to_sql('restaurant', engine, if_exists='replace', index_label='Restaurant_id', dtype=dataType)"
   ]
  }
 ],
 "metadata": {
  "accelerator": "GPU",
  "colab": {
   "name": "ETL.ipynb",
   "provenance": [],
   "version": "0.3.2"
  },
  "kernelspec": {
   "display_name": "Python 3",
   "language": "python",
   "name": "python3"
  },
  "language_info": {
   "codemirror_mode": {
    "name": "ipython",
    "version": 3
   },
   "file_extension": ".py",
   "mimetype": "text/x-python",
   "name": "python",
   "nbconvert_exporter": "python",
   "pygments_lexer": "ipython3",
   "version": "3.6.8"
  }
 },
 "nbformat": 4,
 "nbformat_minor": 4
}
