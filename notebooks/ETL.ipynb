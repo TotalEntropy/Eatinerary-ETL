{
 "cells": [
  {
   "cell_type": "code",
   "execution_count": 1,
   "metadata": {
    "colab": {},
    "colab_type": "code",
    "id": "AUu7CT4B8nf-"
   },
   "outputs": [],
   "source": [
    "# Importing dependencies\n",
    "import os\n",
    "import pandas as pd\n",
    "from pandas.io.json import json_normalize\n",
    "import numpy as np"
   ]
  },
  {
   "cell_type": "code",
   "execution_count": 2,
   "metadata": {},
   "outputs": [],
   "source": [
    "# Path to source JSON\n",
    "businessJson = os.path.join('sourceData', 'business.json')"
   ]
  },
  {
   "cell_type": "code",
   "execution_count": 3,
   "metadata": {},
   "outputs": [],
   "source": [
    "# Path to Yelp food/restaurant categories csv\n",
    "yelpCategories = os.path.join('sourceData', 'yelpCategories.csv')"
   ]
  },
  {
   "cell_type": "code",
   "execution_count": 4,
   "metadata": {},
   "outputs": [],
   "source": [
    "# Creating pd dataframe\n",
    "business = pd.read_json(businessJson, lines=True)"
   ]
  },
  {
   "cell_type": "code",
   "execution_count": 5,
   "metadata": {
    "colab": {},
    "colab_type": "code",
    "id": "S4Hvn-gBXpaY"
   },
   "outputs": [],
   "source": [
    "# Select only the businesses in Ontario\n",
    "business_on = business.loc[business['state'] == 'ON']"
   ]
  },
  {
   "cell_type": "code",
   "execution_count": 6,
   "metadata": {
    "colab": {},
    "colab_type": "code",
    "id": "DodM3It9aKz7"
   },
   "outputs": [],
   "source": [
    "# Dropping any rows with blank values in these categories\n",
    "business_on_clean = business_on.dropna(subset=['name', 'address', 'postal_code', 'city', 'state', 'latitude', 'longitude', 'attributes',\n",
    "                                                          'categories', 'hours']).reset_index(drop=True)"
   ]
  },
  {
   "cell_type": "code",
   "execution_count": 7,
   "metadata": {},
   "outputs": [],
   "source": [
    "# Selecting all of the restaurants\n",
    "# restaurant = business_on_clean[business_on_clean['categories'].str.contains('Restaurants')].reset_index(drop=True)\n",
    "restaurant = business_on_clean"
   ]
  },
  {
   "cell_type": "code",
   "execution_count": 8,
   "metadata": {
    "colab": {},
    "colab_type": "code",
    "id": "QuEHhPW8ewfY"
   },
   "outputs": [],
   "source": [
    "# Regex to fix spelling mistakes \n",
    "restaurant = restaurant.replace({'city': {'^AGINCOURT$': 'Agincourt',\n",
    "                                            '^Bradford West Gwillimbury$': 'Bradford',\n",
    "                                            '^East Ajax$': 'Ajax',\n",
    "                                            '^Caledon.{,8}$': 'Caledon',\n",
    "                                            '^East Gwil{1,2}imbury$': 'East Gwillimbury',\n",
    "                                            '(?i)^.*icoke$': 'Etobicoke',\n",
    "                                            '^.{,9}Toro?nto.{,9}$': 'Toronto',\n",
    "                                            'Malton': 'Mississauga',\n",
    "                                            '^.{,5}Missis{1,2}a?ua?g.{1,2}$': 'Mississauga',\n",
    "                                            '^Regional Municipality of York$': 'North York',\n",
    "                                            '(?i)^North.{0,2}York$': 'North York',\n",
    "                                            '^York Regional Municipality$': 'York',\n",
    "                                            '^Willowdale$': 'North York',\n",
    "                                            '^North of Brampton$': 'Brampton',\n",
    "                                            '(?i)^Oak.?ridges$': 'Oak Ridges',\n",
    "                                            '^oakville$': 'Oakville',\n",
    "                                            '(?i)^Richmond?.?Hill?$': 'Richmond Hill',\n",
    "                                            '^.{,8}Scar.?bo?rough$': 'Scarborough',\n",
    "                                            '^.{,11}Stouffville$': 'Stouffville',\n",
    "                                            '(?i)^Thornhil{,2}$': 'Thornhill',\n",
    "                                            '^.*Vaugh.{,3}$': 'Vaughan',\n",
    "                                            '^Wh.?i.?by$': 'Whitby'}}, regex=True)"
   ]
  },
  {
   "cell_type": "code",
   "execution_count": 9,
   "metadata": {},
   "outputs": [],
   "source": [
    "# Only taking these columns\n",
    "restaurant = restaurant.loc[:, ['name', 'address', 'postal_code', 'city', 'state', 'latitude', 'longitude','categories', 'stars', 'hours', 'attributes']]\n",
    "restaurant.columns = ['Name', 'Address', 'Postal_code', 'City', 'Province', 'Latitude', 'Longitude', 'Categories', 'Stars', 'Hours', 'Attributes']"
   ]
  },
  {
   "cell_type": "code",
   "execution_count": 10,
   "metadata": {},
   "outputs": [],
   "source": [
    "hours_raw = pd.DataFrame(json_normalize(data=restaurant['Hours']))"
   ]
  },
  {
   "cell_type": "code",
   "execution_count": 11,
   "metadata": {},
   "outputs": [],
   "source": [
    "# Reorganise columns\n",
    "hours_raw = hours_raw.loc[:,['Monday', 'Tuesday', 'Wednesday', 'Thursday', 'Friday', 'Saturday', 'Sunday']]"
   ]
  },
  {
   "cell_type": "code",
   "execution_count": 12,
   "metadata": {},
   "outputs": [],
   "source": [
    "# Create a new DF with opening and closing hours\n",
    "columns=hours_raw.columns\n",
    "hours = hours_raw"
   ]
  },
  {
   "cell_type": "code",
   "execution_count": 13,
   "metadata": {},
   "outputs": [],
   "source": [
    "# Loop through and split the columns\n",
    "for column in columns:\n",
    "    hours[[f\"{column}_open\", f\"{column}_close\"]]=hours_raw[column].str.split('-', expand=True)\n",
    "hours.drop(columns=columns, inplace=True)\n",
    "hours = hours.apply(lambda x: x.str.strip())"
   ]
  },
  {
   "cell_type": "code",
   "execution_count": 14,
   "metadata": {},
   "outputs": [
    {
     "data": {
      "text/html": [
       "<div>\n",
       "<style scoped>\n",
       "    .dataframe tbody tr th:only-of-type {\n",
       "        vertical-align: middle;\n",
       "    }\n",
       "\n",
       "    .dataframe tbody tr th {\n",
       "        vertical-align: top;\n",
       "    }\n",
       "\n",
       "    .dataframe thead th {\n",
       "        text-align: right;\n",
       "    }\n",
       "</style>\n",
       "<table border=\"1\" class=\"dataframe\">\n",
       "  <thead>\n",
       "    <tr style=\"text-align: right;\">\n",
       "      <th></th>\n",
       "      <th>Name</th>\n",
       "      <th>Address</th>\n",
       "      <th>Postal_code</th>\n",
       "      <th>City</th>\n",
       "      <th>Province</th>\n",
       "      <th>Latitude</th>\n",
       "      <th>Longitude</th>\n",
       "      <th>Categories</th>\n",
       "      <th>Stars</th>\n",
       "      <th>Hours</th>\n",
       "      <th>...</th>\n",
       "      <th>Wednesday_open</th>\n",
       "      <th>Wednesday_close</th>\n",
       "      <th>Thursday_open</th>\n",
       "      <th>Thursday_close</th>\n",
       "      <th>Friday_open</th>\n",
       "      <th>Friday_close</th>\n",
       "      <th>Saturday_open</th>\n",
       "      <th>Saturday_close</th>\n",
       "      <th>Sunday_open</th>\n",
       "      <th>Sunday_close</th>\n",
       "    </tr>\n",
       "  </thead>\n",
       "  <tbody>\n",
       "    <tr>\n",
       "      <th>20817</th>\n",
       "      <td>KOKO! Share Bar</td>\n",
       "      <td>81 Yorkville Avenue</td>\n",
       "      <td>M5R 1C1</td>\n",
       "      <td>Toronto</td>\n",
       "      <td>ON</td>\n",
       "      <td>43.670948</td>\n",
       "      <td>-79.391502</td>\n",
       "      <td>Korean, Japanese, Asian Fusion, Restaurants</td>\n",
       "      <td>3.5</td>\n",
       "      <td>{'Monday': '11:30-22:30', 'Tuesday': '11:30-22...</td>\n",
       "      <td>...</td>\n",
       "      <td>11:30</td>\n",
       "      <td>22:30</td>\n",
       "      <td>11:30</td>\n",
       "      <td>23:0</td>\n",
       "      <td>11:30</td>\n",
       "      <td>23:0</td>\n",
       "      <td>11:30</td>\n",
       "      <td>23:0</td>\n",
       "      <td>11:30</td>\n",
       "      <td>22:30</td>\n",
       "    </tr>\n",
       "    <tr>\n",
       "      <th>20818</th>\n",
       "      <td>Indian Hero</td>\n",
       "      <td>8920 Highway 50</td>\n",
       "      <td>L6P 3A3</td>\n",
       "      <td>Brampton</td>\n",
       "      <td>ON</td>\n",
       "      <td>43.775089</td>\n",
       "      <td>-79.653807</td>\n",
       "      <td>Restaurants, Indian</td>\n",
       "      <td>3.0</td>\n",
       "      <td>{'Monday': '11:30-22:0', 'Wednesday': '11:30-2...</td>\n",
       "      <td>...</td>\n",
       "      <td>11:30</td>\n",
       "      <td>22:0</td>\n",
       "      <td>11:30</td>\n",
       "      <td>22:0</td>\n",
       "      <td>11:30</td>\n",
       "      <td>23:45</td>\n",
       "      <td>12:0</td>\n",
       "      <td>23:45</td>\n",
       "      <td>12:0</td>\n",
       "      <td>22:0</td>\n",
       "    </tr>\n",
       "    <tr>\n",
       "      <th>20819</th>\n",
       "      <td>Thai Fantasy</td>\n",
       "      <td>578 Yonge Street</td>\n",
       "      <td>M4Y 1Z3</td>\n",
       "      <td>Toronto</td>\n",
       "      <td>ON</td>\n",
       "      <td>43.665120</td>\n",
       "      <td>-79.384809</td>\n",
       "      <td>Restaurants, Thai</td>\n",
       "      <td>4.0</td>\n",
       "      <td>{'Monday': '0:0-0:0', 'Tuesday': '11:0-23:0', ...</td>\n",
       "      <td>...</td>\n",
       "      <td>11:0</td>\n",
       "      <td>23:0</td>\n",
       "      <td>11:0</td>\n",
       "      <td>23:0</td>\n",
       "      <td>11:0</td>\n",
       "      <td>23:0</td>\n",
       "      <td>12:0</td>\n",
       "      <td>23:0</td>\n",
       "      <td>12:0</td>\n",
       "      <td>22:0</td>\n",
       "    </tr>\n",
       "    <tr>\n",
       "      <th>20820</th>\n",
       "      <td>LTS Nails</td>\n",
       "      <td>540 Eglinton Avenue W</td>\n",
       "      <td>M5N</td>\n",
       "      <td>Toronto</td>\n",
       "      <td>ON</td>\n",
       "      <td>43.703476</td>\n",
       "      <td>-79.414548</td>\n",
       "      <td>Nail Salons, Beauty &amp; Spas</td>\n",
       "      <td>4.5</td>\n",
       "      <td>{'Monday': '0:0-0:0', 'Tuesday': '10:0-19:0', ...</td>\n",
       "      <td>...</td>\n",
       "      <td>10:0</td>\n",
       "      <td>19:0</td>\n",
       "      <td>10:0</td>\n",
       "      <td>19:0</td>\n",
       "      <td>10:0</td>\n",
       "      <td>19:0</td>\n",
       "      <td>10:0</td>\n",
       "      <td>19:0</td>\n",
       "      <td>23:0</td>\n",
       "      <td>17:0</td>\n",
       "    </tr>\n",
       "    <tr>\n",
       "      <th>20821</th>\n",
       "      <td>Asia Hut</td>\n",
       "      <td>1450 Kingston Rd</td>\n",
       "      <td>L1V 1C1</td>\n",
       "      <td>Pickering</td>\n",
       "      <td>ON</td>\n",
       "      <td>43.841844</td>\n",
       "      <td>-79.083881</td>\n",
       "      <td>Restaurants, Soup, Chinese, Caribbean</td>\n",
       "      <td>4.5</td>\n",
       "      <td>{'Monday': '11:0-21:30', 'Tuesday': '11:0-21:3...</td>\n",
       "      <td>...</td>\n",
       "      <td>11:0</td>\n",
       "      <td>21:30</td>\n",
       "      <td>11:0</td>\n",
       "      <td>21:30</td>\n",
       "      <td>11:0</td>\n",
       "      <td>22:30</td>\n",
       "      <td>11:0</td>\n",
       "      <td>22:30</td>\n",
       "      <td>16:0</td>\n",
       "      <td>21:30</td>\n",
       "    </tr>\n",
       "  </tbody>\n",
       "</table>\n",
       "<p>5 rows × 25 columns</p>\n",
       "</div>"
      ],
      "text/plain": [
       "                  Name                Address Postal_code       City Province  \\\n",
       "20817  KOKO! Share Bar    81 Yorkville Avenue     M5R 1C1    Toronto       ON   \n",
       "20818      Indian Hero        8920 Highway 50     L6P 3A3   Brampton       ON   \n",
       "20819     Thai Fantasy       578 Yonge Street     M4Y 1Z3    Toronto       ON   \n",
       "20820        LTS Nails  540 Eglinton Avenue W         M5N    Toronto       ON   \n",
       "20821         Asia Hut       1450 Kingston Rd     L1V 1C1  Pickering       ON   \n",
       "\n",
       "        Latitude  Longitude                                   Categories  \\\n",
       "20817  43.670948 -79.391502  Korean, Japanese, Asian Fusion, Restaurants   \n",
       "20818  43.775089 -79.653807                          Restaurants, Indian   \n",
       "20819  43.665120 -79.384809                            Restaurants, Thai   \n",
       "20820  43.703476 -79.414548                   Nail Salons, Beauty & Spas   \n",
       "20821  43.841844 -79.083881        Restaurants, Soup, Chinese, Caribbean   \n",
       "\n",
       "       Stars                                              Hours     ...       \\\n",
       "20817    3.5  {'Monday': '11:30-22:30', 'Tuesday': '11:30-22...     ...        \n",
       "20818    3.0  {'Monday': '11:30-22:0', 'Wednesday': '11:30-2...     ...        \n",
       "20819    4.0  {'Monday': '0:0-0:0', 'Tuesday': '11:0-23:0', ...     ...        \n",
       "20820    4.5  {'Monday': '0:0-0:0', 'Tuesday': '10:0-19:0', ...     ...        \n",
       "20821    4.5  {'Monday': '11:0-21:30', 'Tuesday': '11:0-21:3...     ...        \n",
       "\n",
       "      Wednesday_open Wednesday_close Thursday_open Thursday_close Friday_open  \\\n",
       "20817          11:30           22:30         11:30           23:0       11:30   \n",
       "20818          11:30            22:0         11:30           22:0       11:30   \n",
       "20819           11:0            23:0          11:0           23:0        11:0   \n",
       "20820           10:0            19:0          10:0           19:0        10:0   \n",
       "20821           11:0           21:30          11:0          21:30        11:0   \n",
       "\n",
       "      Friday_close Saturday_open Saturday_close Sunday_open Sunday_close  \n",
       "20817         23:0         11:30           23:0       11:30        22:30  \n",
       "20818        23:45          12:0          23:45        12:0         22:0  \n",
       "20819         23:0          12:0           23:0        12:0         22:0  \n",
       "20820         19:0          10:0           19:0        23:0         17:0  \n",
       "20821        22:30          11:0          22:30        16:0        21:30  \n",
       "\n",
       "[5 rows x 25 columns]"
      ]
     },
     "execution_count": 14,
     "metadata": {},
     "output_type": "execute_result"
    }
   ],
   "source": [
    "# Add hours column to the original DF\n",
    "restaurant = restaurant.join(hours)\n",
    "# restaurant.drop(columns='Hours', inplace=True)\n",
    "restaurant.tail()"
   ]
  },
  {
   "cell_type": "code",
   "execution_count": 15,
   "metadata": {},
   "outputs": [],
   "source": [
    "# Create categories df sorted by restaurant_id\n",
    "category = restaurant['Categories'].str.split(',', expand=True)\n",
    "category['Restaurant_id']=category.index\n",
    "category = pd.melt(category, id_vars='Restaurant_id', value_name='Category').drop(columns='variable').sort_values('Restaurant_id')"
   ]
  },
  {
   "cell_type": "code",
   "execution_count": 16,
   "metadata": {},
   "outputs": [],
   "source": [
    "# Eliminating None categories\n",
    "category = category.loc[~category['Category'].isin([None])].reset_index(drop=True)\n",
    "category['Category'] = category['Category'].str.strip()"
   ]
  },
  {
   "cell_type": "code",
   "execution_count": 20,
   "metadata": {},
   "outputs": [],
   "source": [
    "# Read csv with list of yelp categories\n",
    "categories = pd.read_csv(yelpCategories)\n",
    "categories['Category'] = categories['Category'].str.strip()"
   ]
  },
  {
   "cell_type": "code",
   "execution_count": 21,
   "metadata": {},
   "outputs": [
    {
     "data": {
      "text/html": [
       "<div>\n",
       "<style scoped>\n",
       "    .dataframe tbody tr th:only-of-type {\n",
       "        vertical-align: middle;\n",
       "    }\n",
       "\n",
       "    .dataframe tbody tr th {\n",
       "        vertical-align: top;\n",
       "    }\n",
       "\n",
       "    .dataframe thead th {\n",
       "        text-align: right;\n",
       "    }\n",
       "</style>\n",
       "<table border=\"1\" class=\"dataframe\">\n",
       "  <thead>\n",
       "    <tr style=\"text-align: right;\">\n",
       "      <th></th>\n",
       "      <th>Restaurant_id</th>\n",
       "      <th>Category</th>\n",
       "    </tr>\n",
       "  </thead>\n",
       "  <tbody>\n",
       "    <tr>\n",
       "      <th>87339</th>\n",
       "      <td>20818</td>\n",
       "      <td>Indian</td>\n",
       "    </tr>\n",
       "    <tr>\n",
       "      <th>87342</th>\n",
       "      <td>20819</td>\n",
       "      <td>Thai</td>\n",
       "    </tr>\n",
       "    <tr>\n",
       "      <th>87346</th>\n",
       "      <td>20821</td>\n",
       "      <td>Soup</td>\n",
       "    </tr>\n",
       "    <tr>\n",
       "      <th>87347</th>\n",
       "      <td>20821</td>\n",
       "      <td>Chinese</td>\n",
       "    </tr>\n",
       "    <tr>\n",
       "      <th>87348</th>\n",
       "      <td>20821</td>\n",
       "      <td>Caribbean</td>\n",
       "    </tr>\n",
       "  </tbody>\n",
       "</table>\n",
       "</div>"
      ],
      "text/plain": [
       "       Restaurant_id   Category\n",
       "87339          20818     Indian\n",
       "87342          20819       Thai\n",
       "87346          20821       Soup\n",
       "87347          20821    Chinese\n",
       "87348          20821  Caribbean"
      ]
     },
     "execution_count": 21,
     "metadata": {},
     "output_type": "execute_result"
    }
   ],
   "source": [
    "# Take only the categories from the list of yelp categories\n",
    "categoryFiltered = category.loc[category['Category'].isin(categories['Category'])]\n",
    "categoryFiltered.tail()"
   ]
  },
  {
   "cell_type": "code",
   "execution_count": null,
   "metadata": {},
   "outputs": [],
   "source": [
    "# categoryFiltered.shape"
   ]
  },
  {
   "cell_type": "code",
   "execution_count": null,
   "metadata": {},
   "outputs": [],
   "source": [
    "# category['Category'].isin(['Food'])"
   ]
  },
  {
   "cell_type": "code",
   "execution_count": null,
   "metadata": {},
   "outputs": [],
   "source": [
    "# categoryFiltered = []\n",
    "# for row in category['Category']:\n",
    "#     print(row)"
   ]
  }
 ],
 "metadata": {
  "accelerator": "GPU",
  "colab": {
   "name": "ETL.ipynb",
   "provenance": [],
   "version": "0.3.2"
  },
  "kernelspec": {
   "display_name": "Python 3",
   "language": "python",
   "name": "python3"
  },
  "language_info": {
   "codemirror_mode": {
    "name": "ipython",
    "version": 3
   },
   "file_extension": ".py",
   "mimetype": "text/x-python",
   "name": "python",
   "nbconvert_exporter": "python",
   "pygments_lexer": "ipython3",
   "version": "3.7.1"
  }
 },
 "nbformat": 4,
 "nbformat_minor": 2
}
